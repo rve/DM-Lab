{
 "cells": [
  {
   "cell_type": "code",
   "execution_count": 1,
   "metadata": {
    "collapsed": false
   },
   "outputs": [
    {
     "data": {
      "text/html": [
       "<div>\n",
       "<style scoped>\n",
       "    .dataframe tbody tr th:only-of-type {\n",
       "        vertical-align: middle;\n",
       "    }\n",
       "\n",
       "    .dataframe tbody tr th {\n",
       "        vertical-align: top;\n",
       "    }\n",
       "\n",
       "    .dataframe thead th {\n",
       "        text-align: right;\n",
       "    }\n",
       "</style>\n",
       "<table border=\"1\" class=\"dataframe\">\n",
       "  <thead>\n",
       "    <tr style=\"text-align: right;\">\n",
       "      <th></th>\n",
       "      <th>SUB1</th>\n",
       "      <th>GENDER</th>\n",
       "    </tr>\n",
       "  </thead>\n",
       "  <tbody>\n",
       "    <tr>\n",
       "      <th>0</th>\n",
       "      <td>2</td>\n",
       "      <td>1</td>\n",
       "    </tr>\n",
       "    <tr>\n",
       "      <th>1</th>\n",
       "      <td>2</td>\n",
       "      <td>1</td>\n",
       "    </tr>\n",
       "    <tr>\n",
       "      <th>2</th>\n",
       "      <td>2</td>\n",
       "      <td>1</td>\n",
       "    </tr>\n",
       "    <tr>\n",
       "      <th>3</th>\n",
       "      <td>4</td>\n",
       "      <td>1</td>\n",
       "    </tr>\n",
       "    <tr>\n",
       "      <th>4</th>\n",
       "      <td>3</td>\n",
       "      <td>1</td>\n",
       "    </tr>\n",
       "  </tbody>\n",
       "</table>\n",
       "</div>"
      ],
      "text/plain": [
       "   SUB1  GENDER\n",
       "0     2       1\n",
       "1     2       1\n",
       "2     2       1\n",
       "3     4       1\n",
       "4     3       1"
      ]
     },
     "execution_count": 1,
     "metadata": {},
     "output_type": "execute_result"
    }
   ],
   "source": [
    "#import csv from the dataset\n",
    "import pandas as pd\n",
    "import matplotlib.pyplot as plt\n",
    "import seaborn as sns\n",
    "sns.set(font_scale=1)\n",
    "plt.style.use('ggplot')\n",
    "\n",
    "\n",
    "df=pd.read_csv('../final.csv')\n",
    "df[['SUB1','GENDER']].head()\n"
   ]
  },
  {
   "cell_type": "code",
   "execution_count": 2,
   "metadata": {
    "collapsed": false,
    "scrolled": false
   },
   "outputs": [
    {
     "name": "stdout",
     "output_type": "stream",
     "text": [
      "4516118264\n",
      "\n"
     ]
    }
   ],
   "source": [
    "print df.memory_usage(index=True).sum()\n",
    "print "
   ]
  },
  {
   "cell_type": "code",
   "execution_count": null,
   "metadata": {
    "collapsed": false
   },
   "outputs": [],
   "source": []
  },
  {
   "cell_type": "code",
   "execution_count": 3,
   "metadata": {
    "collapsed": false
   },
   "outputs": [
    {
     "name": "stdout",
     "output_type": "stream",
     "text": [
      "    ALCFLG  MARFLG  COKEFLG  HERFLG  METHFLG  OPSYNFLG   CASEID\n",
      "0        0       0        0       0        0         0   202378\n",
      "1        0       0        0       0        0         1   231257\n",
      "2        0       0        0       0        1         0     6236\n",
      "3        0       0        0       0        1         1     7411\n",
      "4        0       0        0       1        0         0   208164\n",
      "5        0       0        0       1        0         1    47554\n",
      "6        0       0        0       1        1         0     2184\n",
      "7        0       0        0       1        1         1     1688\n",
      "8        0       0        1       0        0         0   114898\n",
      "9        0       0        1       0        0         1    32342\n",
      "10       0       0        1       0        1         0      826\n",
      "11       0       0        1       0        1         1      687\n",
      "12       0       0        1       1        0         0    71387\n",
      "13       0       0        1       1        0         1    13476\n",
      "14       0       0        1       1        1         0      742\n",
      "15       0       1        0       0        0         0   431848\n",
      "16       0       1        0       0        0         1    89524\n",
      "17       0       1        0       0        1         0     1898\n",
      "18       0       1        0       0        1         1     1653\n",
      "19       0       1        0       1        0         0    50058\n",
      "20       0       1        0       1        0         1    17760\n",
      "21       0       1        0       1        1         0      597\n",
      "22       0       1        1       0        0         0    67649\n",
      "23       0       1        1       0        0         1    16708\n",
      "24       0       1        1       0        1         0      343\n",
      "25       0       1        1       1        0         0    26197\n",
      "26       1       0        0       0        0         0  1051471\n",
      "27       1       0        0       0        0         1    83279\n",
      "28       1       0        0       0        1         0     1778\n",
      "29       1       0        0       0        1         1     1081\n",
      "30       1       0        0       1        0         0    43942\n",
      "31       1       0        0       1        0         1    11686\n",
      "32       1       0        0       1        1         0      439\n",
      "33       1       0        1       0        0         0   160429\n",
      "34       1       0        1       0        0         1    20719\n",
      "35       1       0        1       0        1         0      431\n",
      "36       1       0        1       1        0         0    32631\n",
      "37       1       1        0       0        0         0   518238\n",
      "38       1       1        0       0        0         1    54807\n",
      "39       1       1        0       0        1         0      858\n",
      "40       1       1        0       1        0         0    23467\n",
      "41       1       1        1       0        0         0   134771\n"
     ]
    }
   ],
   "source": [
    "#get the table\n",
    "dt = df.query('DSMCRIT >= 0').groupby(['ALCFLG','MARFLG', 'COKEFLG', 'HERFLG', \n",
    "                                        'METHFLG', 'OPSYNFLG'])['CASEID'].count().reset_index()\n",
    "print dt"
   ]
  },
  {
   "cell_type": "code",
   "execution_count": 79,
   "metadata": {
    "collapsed": false
   },
   "outputs": [
    {
     "name": "stdout",
     "output_type": "stream",
     "text": [
      "3785492\n",
      "    ALCFLG  MARFLG  COKEFLG  HERFLG  METHFLG  OPSYNFLG  CASEID  CASE_PERCENT\n",
      "37       1       1        0       0        0         0  518238      0.136901\n",
      "33       1       0        1       0        0         0  160429      0.042380\n",
      "41       1       1        1       0        0         0  134771      0.035602\n",
      "16       0       1        0       0        0         1   89524      0.023649\n",
      "27       1       0        0       0        0         1   83279      0.022000\n",
      "12       0       0        1       1        0         0   71387      0.018858\n",
      "22       0       1        1       0        0         0   67649      0.017871\n",
      "38       1       1        0       0        0         1   54807      0.014478\n",
      "19       0       1        0       1        0         0   50058      0.013224\n",
      "5        0       0        0       1        0         1   47554      0.012562\n",
      "30       1       0        0       1        0         0   43942      0.011608\n",
      "36       1       0        1       1        0         0   32631      0.008620\n",
      "9        0       0        1       0        0         1   32342      0.008544\n",
      "25       0       1        1       1        0         0   26197      0.006920\n",
      "40       1       1        0       1        0         0   23467      0.006199\n",
      "34       1       0        1       0        0         1   20719      0.005473\n",
      "20       0       1        0       1        0         1   17760      0.004692\n",
      "23       0       1        1       0        0         1   16708      0.004414\n",
      "13       0       0        1       1        0         1   13476      0.003560\n",
      "31       1       0        0       1        0         1   11686      0.003087\n",
      "3        0       0        0       0        1         1    7411      0.001958\n",
      "6        0       0        0       1        1         0    2184      0.000577\n",
      "17       0       1        0       0        1         0    1898      0.000501\n",
      "28       1       0        0       0        1         0    1778      0.000470\n",
      "7        0       0        0       1        1         1    1688      0.000446\n",
      "18       0       1        0       0        1         1    1653      0.000437\n",
      "29       1       0        0       0        1         1    1081      0.000286\n",
      "39       1       1        0       0        1         0     858      0.000227\n",
      "10       0       0        1       0        1         0     826      0.000218\n",
      "14       0       0        1       1        1         0     742      0.000196\n",
      "11       0       0        1       0        1         1     687      0.000181\n",
      "21       0       1        0       1        1         0     597      0.000158\n",
      "32       1       0        0       1        1         0     439      0.000116\n",
      "35       1       0        1       0        1         0     431      0.000114\n",
      "24       0       1        1       0        1         0     343      0.000091\n"
     ]
    }
   ],
   "source": [
    "# table for multiple substance user in number\n",
    "nsum = dt['CASEID'].sum()\n",
    "print nsum\n",
    "dt['CASE_PERCENT'] = dt['CASEID'] / nsum\n",
    "print dt.query('ALCFLG+MARFLG+COKEFLG+HERFLG+METHFLG+OPSYNFLG != 1 and\\\n",
    "               ALCFLG+MARFLG+COKEFLG+HERFLG+METHFLG+OPSYNFLG != 0').sort_values('CASEID', ascending=False)\n",
    "#print dt.query('NUMSUBS == 0 or NUMSUBS == 2 or NUMSUBS == 3').sort_values('CASEID', ascending=False)"
   ]
  },
  {
   "cell_type": "code",
   "execution_count": null,
   "metadata": {
    "collapsed": true
   },
   "outputs": [],
   "source": [
    "# dsm diagnosis distribution of multiple substance user"
   ]
  },
  {
   "cell_type": "code",
   "execution_count": 58,
   "metadata": {
    "collapsed": true
   },
   "outputs": [],
   "source": [
    "#Chart for `DSM Diagnosis and Substance Abuse` part 1 (count)\n",
    "#preparsing the data\n",
    "df4 = df[df['SUB1'].isin([2,3,4,5,7,10])] #top 6 substances\n",
    "df4 = df4[df4['DSMCRIT'].isin([14,15,16,17,18])] #\n"
   ]
  },
  {
   "cell_type": "code",
   "execution_count": 70,
   "metadata": {
    "collapsed": false
   },
   "outputs": [
    {
     "data": {
      "text/plain": [
       "<matplotlib.figure.Figure at 0x110359810>"
      ]
     },
     "metadata": {},
     "output_type": "display_data"
    },
    {
     "data": {
      "image/png": "[encoded data removed]",
      "text/plain": [
       "<matplotlib.figure.Figure at 0x10fc46b50>"
      ]
     },
     "metadata": {},
     "output_type": "display_data"
    }
   ],
   "source": [
    "#ploting\n",
    "#DSMCRIT (later parts) and top 6 sub1\n",
    "plt.figure()\n",
    "df5 = df4.query('ALCFLG ==0 and MARFLG == 0 and COKEFLG == 0 and HERFLG == 0 and METHFLG == 0 and OPSYNFLG == 0')\n",
    "#df5 = df5.groupby(['DSMCRIT'])['SUB1'].value_counts().unstack()#.reset_index(name=\"count\")\n",
    "df5 = df5.groupby(['DSMCRIT'])['ALCFLG'].value_counts().unstack()#.reset_index(name=\"count\")\n",
    "\n",
    "df5.plot(kind='bar')\n",
    "#print (df5.head(12))\n",
    "#plt.title('Number of Substance by Year')\n",
    "\n",
    "ax = plt.gca() # grab the current axis\n",
    "ax.set(xlabel=\"DSM Diagnosis\", ylabel=\"COUNT\")\n",
    "#ax.set_xticks([2,4,6]) # choose which x locations to have ticks\n",
    "#ax.set_xticklabels([\"ANXIETY DISORDER\",\"DEPRESSIVE DISORDER\",\"SCHIZOPHRENIA\",\"BIPOLAR DISORDER\",\"ATTENTION DEFICIT\"]) \n",
    "ax.set_xticklabels([\"ANXIETY\",\"DEPRESS\",\"SCHIZOPHRENIA\",\"BIPOLAR\",\"ATTENTION DEFICIT\"]) \n",
    "plt.xticks(fontsize='small')\n",
    "plt.xticks(rotation='horizontal')\n",
    "#plt.legend(['ALCOHOL', 'COCAINE', 'MARIJUANA', 'HEROIN', 'OPIATES','METH'])\n",
    "#plt.legend(['No substance'])\n",
    "\n",
    "plt.title('DSM Diagnosis and Substance Abuse')\n",
    "plt.show()"
   ]
  },
  {
   "cell_type": "markdown",
   "metadata": {},
   "source": [
    "Chart for `DSM Diagnosis and Substance Abuse` part 2 (percentage)"
   ]
  },
  {
   "cell_type": "code",
   "execution_count": 72,
   "metadata": {
    "collapsed": false
   },
   "outputs": [
    {
     "name": "stdout",
     "output_type": "stream",
     "text": [
      "ALCFLG     0\n",
      "DSMCRIT     \n",
      "14       116\n",
      "15       291\n",
      "16       104\n",
      "17       151\n",
      "18        20\n",
      "ALCFLG          0\n",
      "DSMCRIT          \n",
      "14       0.170088\n",
      "15       0.426686\n",
      "16       0.152493\n",
      "17       0.221408\n",
      "18       0.029326\n"
     ]
    },
    {
     "data": {
      "text/plain": [
       "<matplotlib.figure.Figure at 0x110359d50>"
      ]
     },
     "metadata": {},
     "output_type": "display_data"
    },
    {
     "data": {
      "image/png": "[encoded data removed]",
      "text/plain": [
       "<matplotlib.figure.Figure at 0x10fe7d490>"
      ]
     },
     "metadata": {},
     "output_type": "display_data"
    }
   ],
   "source": [
    "df6 = df5\n",
    "print df6\n",
    "df8 = df6#.reset_index()\n",
    "df8[0] = df8[0] / df8[0].sum()\n",
    "#print df8.reset_index(level = 1)\n",
    "print df8\n",
    "\n",
    "from matplotlib.ticker import FuncFormatter\n",
    "\n",
    "plt.figure()\n",
    "\n",
    "\n",
    "ax = df8.plot(kind='bar')\n",
    "#ax.legend(bbox_to_anchor=(1.2, 1.2))\n",
    "\n",
    "#df6.groupby(['YEAR']).plot.bar(x='SUB1', y='count')\n",
    "#df6.groupby(['YEAR','SUB1'])['SUB1'].sum().plot.bar()\n",
    "\n",
    "ax = plt.gca() # grab the current axis\n",
    "ax.set(xlabel=\"DSM Diagnosis\", ylabel=\"PERCENT\")\n",
    "#ax.set_xticks([2,4,6]) # choose which x locations to have ticks\n",
    "#ax.set_xticklabels([\"ANXIETY\",\"DEPRESS\",\"SCHIZOPHRENIA\",\"BIPOLAR\",\"ATTENTION DEFICIT\"]) \n",
    "ax.set_xticklabels([\"ANXIETY\",\"DEPRESS\",\"SCHIZOPHRENIA\",\"BIPOLAR\",\"ATTENTION DEFICIT\"]) \n",
    "ax.yaxis.set_major_formatter(FuncFormatter(lambda y, _: '{:.0%}'.format(y))) \n",
    "\n",
    "#df6.plot(kind='bar')\n",
    "#pd.crosstab(df5['YEAR'],df5['SUB1']).plot.bar()\n",
    "plt.title('DSM Diagnosis and Multiple Substance Abuse')\n",
    "plt.xticks(fontsize='small')\n",
    "plt.xticks(rotation='horizontal')\n",
    "#plt.legend(['ALCOHOL', 'COCAINE', 'MARIJUANA', 'HEROIN', 'OPIATES','METH'])\n",
    "plt.legend(['NO SUBSTANCE'])\n",
    "\n",
    "plt.show()"
   ]
  },
  {
   "cell_type": "markdown",
   "metadata": {},
   "source": [
    "Chart for `Selected states and Substance Abuse` "
   ]
  },
  {
   "cell_type": "code",
   "execution_count": 7,
   "metadata": {
    "collapsed": false
   },
   "outputs": [
    {
     "data": {
      "text/plain": [
       "<matplotlib.figure.Figure at 0x10a44dd50>"
      ]
     },
     "metadata": {},
     "output_type": "display_data"
    },
    {
     "data": {
      "image/png": "[encoded data removed]",
      "text/plain": [
       "<matplotlib.figure.Figure at 0x110318690>"
      ]
     },
     "metadata": {},
     "output_type": "display_data"
    }
   ],
   "source": [
    "#ethnic and sub1\n",
    "plt.figure()\n",
    "#df5 = df[df['SUB1'].isin([2,5,4,10,7,3])] #top 6 substances in order\n",
    "df5 = df[df['SUB1'].isin([2,3,4,5,7,10])] #top 6 substances\n",
    "\n",
    "#df5 = df5[df5['STFIPS'].isin([36,6,25,39,8])] #5 most admitted states in order\n",
    "df5 = df5[df5['STFIPS'].isin([6,10,15,24,25,34])] # most hard drugs state\n",
    "\n",
    "\n",
    "df5 = df5.groupby(['STFIPS'])['SUB1'].value_counts().unstack()#.reset_index(name=\"count\")\n",
    "\n",
    "df5.plot(kind='bar')\n",
    "#print (df5.head(12))\n",
    "plt.title('top states of hard drugs')\n",
    "ax = plt.gca() # grab the current axis\n",
    "ax.set_xticklabels([\"Calif.\",\"DELAWARE\",\"HAWAII\",\"MARYLAND\", \"Mass.\", \"NEW JERSEY\"]) \n",
    "#plt.xticks(fontsize='small')\n",
    "plt.xticks(rotation='horizontal')\n",
    "plt.legend(['ALCOHOL', 'COCAINE', 'MARIJUANA', 'HEROIN', 'OPIATES','METH'])\n",
    "\n",
    "plt.show()"
   ]
  },
  {
   "cell_type": "code",
   "execution_count": 8,
   "metadata": {
    "collapsed": false
   },
   "outputs": [
    {
     "name": "stdout",
     "output_type": "stream",
     "text": [
      "SUB1        2      3       4       5      7       10\n",
      "STFIPS                                              \n",
      "6       173237  43436  148616  155143  42454  222754\n",
      "10        6589   1618    7074   10615   5944      44\n",
      "15        9940    739    9801     648   1430    9989\n",
      "24       75819  20353   50209   77764  30646     193\n",
      "25      154398  16437   18075  221917  38045     450\n",
      "34      107179  22066   58353  129669  36779     499\n",
      "STFIPS\n",
      "6     785640\n",
      "10     31884\n",
      "15     32547\n",
      "24    254984\n",
      "25    449322\n",
      "34    354545\n",
      "dtype: int64\n"
     ]
    },
    {
     "data": {
      "text/plain": [
       "<matplotlib.figure.Figure at 0x108f553d0>"
      ]
     },
     "metadata": {},
     "output_type": "display_data"
    },
    {
     "data": {
      "image/png": "[encoded data removed]",
      "text/plain": [
       "<matplotlib.figure.Figure at 0x1101e83d0>"
      ]
     },
     "metadata": {},
     "output_type": "display_data"
    }
   ],
   "source": [
    "#top state of drugs part2(percentage)\n",
    "df6 = df5\n",
    "print df6\n",
    "df7 = df6.sum(axis=1)\n",
    "print df7\n",
    "df8 = df6\n",
    "for i in [2,5,4,10,7,3]:\n",
    "    df8[i] = df6[i] / df7\n",
    "    \n",
    "from matplotlib.ticker import FuncFormatter\n",
    "\n",
    "plt.figure()\n",
    "\n",
    "\n",
    "ax = df8.plot(kind='bar')\n",
    "ax.legend(bbox_to_anchor=(1.2, 1.2))\n",
    "\n",
    "#df6.groupby(['YEAR']).plot.bar(x='SUB1', y='count')\n",
    "#df6.groupby(['YEAR','SUB1'])['SUB1'].sum().plot.bar()\n",
    "\n",
    "ax = plt.gca() # grab the current axis\n",
    "ax.set(xlabel=\"State\", ylabel=\"PERCENT\")\n",
    "#ax.set_xticks([2,4,6]) # choose which x locations to have ticks\n",
    "#ax.set_xticklabels([\"ANXIETY\",\"DEPRESS\",\"SCHIZOPHRENIA\",\"BIPOLAR\",\"ATTENTION DEFICIT\"]) \n",
    "ax.set_xticklabels([\"CALIF.\",\"DELAWARE\",\"HAWAII\",\"MARYLAND\", \"MASS.\", \"NEW JERSEY\"]) \n",
    "ax.yaxis.set_major_formatter(FuncFormatter(lambda y, _: '{:.0%}'.format(y))) \n",
    "\n",
    "#df6.plot(kind='bar')\n",
    "#pd.crosstab(df5['YEAR'],df5['SUB1']).plot.bar()\n",
    "plt.title('Top States of Hard Drugs')\n",
    "#plt.xticks(fontsize='small')\n",
    "plt.xticks(rotation='horizontal')\n",
    "plt.legend(['ALCOHOL', 'COCAINE', 'MARIJUANA', 'HEROIN', 'OPIATES','METH'])\n",
    "plt.show()"
   ]
  },
  {
   "cell_type": "code",
   "execution_count": 9,
   "metadata": {
    "collapsed": false
   },
   "outputs": [
    {
     "name": "stdout",
     "output_type": "stream",
     "text": [
      "SUB1       2       3       4        5       7       10\n",
      "RACE                                                  \n",
      "2      121907    5484   28988    13040   14246   16661\n",
      "4      627801  305726  506879   230799   35195   21703\n",
      "5     2373708  263301  805797  1107423  735263  447750\n",
      "13      20479    2604   10362     5831    2712   11488\n"
     ]
    },
    {
     "data": {
      "text/plain": [
       "<matplotlib.figure.Figure at 0x108f74810>"
      ]
     },
     "metadata": {},
     "output_type": "display_data"
    },
    {
     "data": {
      "image/png": "[encoded data removed]",
      "text/plain": [
       "<matplotlib.figure.Figure at 0x108f97650>"
      ]
     },
     "metadata": {},
     "output_type": "display_data"
    }
   ],
   "source": [
    "#race and sub1 part1\n",
    "plt.figure()\n",
    "df5 = df[df['SUB1'].isin([2,5,4,10,7,3])]\n",
    "df5 = df5[df5['RACE'].isin([5,4,2,13])]\n",
    "\n",
    "df5 = df5.groupby(['RACE'])['SUB1'].value_counts().unstack()#.reset_index(name=\"count\")\n",
    "\n",
    "df5.plot(kind='bar')\n",
    "print (df5.head(12))\n",
    "#plt.title('Number of Substance by Year')\n",
    "\n",
    "#ax = plt.gca() # grab the current axis\n",
    "#ax.set_xticks([2,4,6]) # choose which x locations to have ticks\n",
    "#ax.set_xticklabels([\"12-14\",\"18-20\",\"25-29\",\"35-39\",\"45-49\",\"55 AND OVER\"]) \n",
    "plt.show()\n",
    "# set the labels to display at those ticks\n",
    "\n",
    "df6 = df5"
   ]
  },
  {
   "cell_type": "code",
   "execution_count": 83,
   "metadata": {
    "collapsed": false
   },
   "outputs": [
    {
     "name": "stdout",
     "output_type": "stream",
     "text": [
      "overall\n",
      "5    0.421687\n",
      "1    0.175380\n",
      "4    0.156413\n",
      "9    0.122389\n",
      "Name: PRIMPAY, dtype: float64\n",
      "alcohol\n",
      "5    0.375418\n",
      "1    0.234552\n",
      "9    0.160926\n",
      "4    0.101067\n",
      "Name: PRIMPAY, dtype: float64\n",
      "marijuana\n",
      "5    0.422099\n",
      "4    0.273290\n",
      "1    0.110217\n",
      "9    0.071742\n",
      "Name: PRIMPAY, dtype: float64\n",
      "meth\n",
      "5    0.490132\n",
      "4    0.151387\n",
      "1    0.133685\n",
      "9    0.127617\n",
      "Name: PRIMPAY, dtype: float64\n",
      "cocaine\n",
      "5    0.502592\n",
      "4    0.205741\n",
      "1    0.092045\n",
      "9    0.083454\n",
      "Name: PRIMPAY, dtype: float64\n",
      "heroin\n",
      "5    0.556259\n",
      "4    0.189831\n",
      "1    0.082492\n",
      "9    0.066728\n",
      "Name: PRIMPAY, dtype: float64\n",
      "BENZFLG benzo\n",
      "5    0.453354\n",
      "4    0.175059\n",
      "1    0.122968\n",
      "9    0.089345\n",
      "Name: PRIMPAY, dtype: float64\n"
     ]
    }
   ],
   "source": [
    "# finding relation : substance v.s. primpay method\n",
    "\n",
    "df11 = df.query('NUMSUBS == 1 and PRIMPAY >= 0')\n",
    "\n",
    "print \"overall\"\n",
    "c2 = df11['PRIMPAY'].count()\n",
    "r2 = df11['PRIMPAY'].value_counts() / c2 \n",
    "print r2.head(4)\n",
    "\n",
    "print \"alcohol\"\n",
    "c2 = df11.query('ALCFLG == 1')['PRIMPAY'].count()\n",
    "r2 = df11.query('ALCFLG == 1')['PRIMPAY'].value_counts() / c2 \n",
    "print r2.head(4)\n",
    "\n",
    "print \"marijuana\"\n",
    "c2 = df11.query('MARFLG == 1')['PRIMPAY'].count()\n",
    "r2 = df11.query('MARFLG == 1')['PRIMPAY'].value_counts() / c2 \n",
    "print r2.head(4)\n",
    "\n",
    "print \"meth\"\n",
    "c2 = df11.query('MTHAMFLG == 1')['PRIMPAY'].count()\n",
    "r2 = df11.query('MTHAMFLG == 1')['PRIMPAY'].value_counts() / c2 \n",
    "print r2.head(4)\n",
    "\n",
    "print \"cocaine\"\n",
    "c2 = df11.query('COKEFLG == 1')['PRIMPAY'].count()\n",
    "r2 = df11.query('COKEFLG == 1')['PRIMPAY'].value_counts() / c2 \n",
    "print r2.head(4)\n",
    "\n",
    "print \"heroin\"\n",
    "c2 = df11.query('HERFLG == 1')['PRIMPAY'].count()\n",
    "r2 = df11.query('HERFLG == 1')['PRIMPAY'].value_counts() / c2 \n",
    "print r2.head(4)\n",
    "\n",
    "print \"BENZFLG benzo\"\n",
    "c2 = df11.query('BENZFLG == 1')['PRIMPAY'].count()\n",
    "r2 = df11.query('BENZFLG == 1')['PRIMPAY'].value_counts() / c2 \n",
    "print r2.head(4)\n"
   ]
  },
  {
   "cell_type": "code",
   "execution_count": 92,
   "metadata": {
    "collapsed": false
   },
   "outputs": [
    {
     "name": "stdout",
     "output_type": "stream",
     "text": [
      "overall\n",
      "3    0.383484\n",
      "4    0.353144\n",
      "1    0.184907\n",
      "2    0.078465\n",
      "Name: EMPLOY, dtype: float64\n",
      "alcohol\n",
      "3    0.356589\n",
      "4    0.301445\n",
      "1    0.256075\n",
      "2    0.085891\n",
      "Name: EMPLOY, dtype: float64\n",
      "marijuana\n",
      "4    0.461735\n",
      "3    0.323629\n",
      "1    0.125387\n",
      "2    0.089249\n",
      "Name: EMPLOY, dtype: float64\n",
      "meth\n",
      "3    0.455368\n",
      "4    0.357958\n",
      "1    0.111321\n",
      "2    0.075353\n",
      "Name: EMPLOY, dtype: float64\n",
      "cocaine\n",
      "3    0.437333\n",
      "4    0.403985\n",
      "1    0.103288\n",
      "2    0.055394\n",
      "Name: EMPLOY, dtype: float64\n",
      "heroin\n",
      "3    0.457449\n",
      "4    0.404943\n",
      "1    0.086714\n",
      "2    0.050894\n",
      "Name: EMPLOY, dtype: float64\n",
      "BENZFLG benzo\n",
      "4    0.440599\n",
      "3    0.413747\n",
      "1    0.095012\n",
      "2    0.050641\n",
      "Name: EMPLOY, dtype: float64\n"
     ]
    },
    {
     "data": {
      "image/png": "[encoded data removed]",
      "text/plain": [
       "<matplotlib.figure.Figure at 0x11042c710>"
      ]
     },
     "metadata": {},
     "output_type": "display_data"
    }
   ],
   "source": [
    "# finding relation: substance v.s. occupation\n",
    "\n",
    "df12 = df.query('NUMSUBS == 1 and EMPLOY >= 0')\n",
    "\n",
    "plt.figure()\n",
    "\n",
    "\n",
    "print \"overall\"\n",
    "c2 = df12['EMPLOY'].count()\n",
    "r2 = df12['EMPLOY'].value_counts() / c2 \n",
    "print r2.head(4)\n",
    "\n",
    "print \"alcohol\"\n",
    "c2 = df12.query('ALCFLG == 1')['EMPLOY'].count()\n",
    "r2 = df12.query('ALCFLG == 1')['EMPLOY'].value_counts() / c2 \n",
    "print r2.head(4)\n",
    "\n",
    "print \"marijuana\"\n",
    "c2 = df12.query('MARFLG == 1')['EMPLOY'].count()\n",
    "r2 = df12.query('MARFLG == 1')['EMPLOY'].value_counts() / c2 \n",
    "print r2.head(4)\n",
    "\n",
    "print \"meth\"\n",
    "c2 = df12.query('MTHAMFLG == 1')['EMPLOY'].count()\n",
    "r2 = df12.query('MTHAMFLG == 1')['EMPLOY'].value_counts() / c2 \n",
    "print r2.head(4)\n",
    "\n",
    "print \"cocaine\"\n",
    "c2 = df12.query('COKEFLG == 1')['EMPLOY'].count()\n",
    "r2 = df12.query('COKEFLG == 1')['EMPLOY'].value_counts() / c2 \n",
    "print r2.head(4)\n",
    "\n",
    "print \"heroin\"\n",
    "c2 = df12.query('HERFLG == 1')['EMPLOY'].count()\n",
    "r2 = df12.query('HERFLG == 1')['EMPLOY'].value_counts() / c2 \n",
    "print r2.head(4)\n",
    "ax = r2.plot(kind='bar')\n",
    "\n",
    "print \"BENZFLG benzo\"\n",
    "c2 = df12.query('BENZFLG == 1')['EMPLOY'].count()\n",
    "r2 = df12.query('BENZFLG == 1')['EMPLOY'].value_counts() / c2 \n",
    "print r2.head(4)\n",
    "ax = r2.plot(kind='bar')\n",
    "plt.xticks(rotation='horizontal')\n",
    "\n",
    "\n",
    "plt.show()\n"
   ]
  },
  {
   "cell_type": "code",
   "execution_count": 94,
   "metadata": {
    "collapsed": false
   },
   "outputs": [
    {
     "name": "stdout",
     "output_type": "stream",
     "text": [
      "overall\n",
      "0    0.620256\n",
      "1    0.082720\n",
      "7    0.030954\n",
      "2    0.028050\n",
      "5    0.024039\n",
      "Name: DAYWAIT, dtype: float64\n",
      "alcohol\n",
      "0    0.604202\n",
      "1    0.074891\n",
      "7    0.032970\n",
      "2    0.027879\n",
      "5    0.025809\n",
      "Name: DAYWAIT, dtype: float64\n",
      "marijuana\n",
      "0    0.628276\n",
      "1    0.058204\n",
      "7    0.035284\n",
      "5    0.023974\n",
      "2    0.020678\n",
      "Name: DAYWAIT, dtype: float64\n",
      "meth\n",
      "0    0.693735\n",
      "1    0.046448\n",
      "7    0.027452\n",
      "2    0.020362\n",
      "5    0.017955\n",
      "Name: DAYWAIT, dtype: float64\n",
      "cocaine\n",
      "0    0.666921\n",
      "1    0.068815\n",
      "7    0.028896\n",
      "2    0.024104\n",
      "5    0.022837\n",
      "Name: DAYWAIT, dtype: float64\n",
      "heroin\n",
      "0    0.603725\n",
      "1    0.143050\n",
      "2    0.038038\n",
      "3    0.027470\n",
      "7    0.024815\n",
      "Name: DAYWAIT, dtype: float64\n",
      "BENZFLG benzo\n",
      "0    0.622445\n",
      "1    0.127073\n",
      "2    0.031238\n",
      "7    0.028346\n",
      "3    0.022561\n",
      "Name: DAYWAIT, dtype: float64\n"
     ]
    },
    {
     "data": {
      "image/png": "[encoded data removed]",
      "text/plain": [
       "<matplotlib.figure.Figure at 0x10f79ab90>"
      ]
     },
     "metadata": {},
     "output_type": "display_data"
    }
   ],
   "source": [
    "# finding relation: substance v.s. occupation\n",
    "\n",
    "df13 = df.query('NUMSUBS == 1 and DAYWAIT >= 0')\n",
    "\n",
    "plt.figure()\n",
    "\n",
    "\n",
    "print \"overall\"\n",
    "c2 = df13['DAYWAIT'].count()\n",
    "r2 = df13['DAYWAIT'].value_counts() / c2 \n",
    "print r2.head(5)\n",
    "\n",
    "print \"alcohol\"\n",
    "c2 = df13.query('ALCFLG == 1')['DAYWAIT'].count()\n",
    "r2 = df13.query('ALCFLG == 1')['DAYWAIT'].value_counts() / c2 \n",
    "print r2.head(5)\n",
    "\n",
    "print \"marijuana\"\n",
    "c2 = df13.query('MARFLG == 1')['DAYWAIT'].count()\n",
    "r2 = df13.query('MARFLG == 1')['DAYWAIT'].value_counts() / c2 \n",
    "print r2.head(5)\n",
    "\n",
    "print \"meth\"\n",
    "c2 = df13.query('MTHAMFLG == 1')['DAYWAIT'].count()\n",
    "r2 = df13.query('MTHAMFLG == 1')['DAYWAIT'].value_counts() / c2 \n",
    "print r2.head(5)\n",
    "\n",
    "print \"cocaine\"\n",
    "c2 = df13.query('COKEFLG == 1')['DAYWAIT'].count()\n",
    "r2 = df13.query('COKEFLG == 1')['DAYWAIT'].value_counts() / c2 \n",
    "print r2.head(5)\n",
    "\n",
    "print \"heroin\"\n",
    "c2 = df13.query('HERFLG == 1')['DAYWAIT'].count()\n",
    "r2 = df13.query('HERFLG == 1')['DAYWAIT'].value_counts() / c2 \n",
    "print r2.head(5)\n",
    "ax = r2.plot(kind='bar')\n",
    "\n",
    "print \"BENZFLG benzo\"\n",
    "c2 = df13.query('BENZFLG == 1')['DAYWAIT'].count()\n",
    "r2 = df13.query('BENZFLG == 1')['DAYWAIT'].value_counts() / c2 \n",
    "print r2.head(5)\n",
    "ax = r2.plot(kind='bar')\n",
    "plt.xticks(rotation='horizontal')\n",
    "\n",
    "\n",
    "plt.show()\n",
    "\n"
   ]
  }
 ],
 "metadata": {
  "kernelspec": {
   "display_name": "Python 2",
   "language": "python",
   "name": "python2"
  },
  "language_info": {
   "codemirror_mode": {
    "name": "ipython",
    "version": 2
   },
   "file_extension": ".py",
   "mimetype": "text/x-python",
   "name": "python",
   "nbconvert_exporter": "python",
   "pygments_lexer": "ipython2",
   "version": "2.7.10"
  }
 },
 "nbformat": 4,
 "nbformat_minor": 2
}
