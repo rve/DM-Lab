{
 "cells": [
  {
   "cell_type": "code",
   "execution_count": 22,
   "metadata": {
    "collapsed": false
   },
   "outputs": [
    {
     "data": {
      "text/plain": [
       "((301619, 62), (148560, 62))"
      ]
     },
     "execution_count": 22,
     "metadata": {},
     "output_type": "execute_result"
    }
   ],
   "source": [
    "#visualization part\n",
    "#import matplotlib.pyplot as plt\n",
    "#import seaborn as sns\n",
    "\n",
    "\n",
    "#basic libs\n",
    "import pandas as pd\n",
    "import numpy as np\n",
    "import random as rnd\n",
    "\n",
    "from sklearn.model_selection import cross_val_score\n",
    "\n",
    "# machine learning\n",
    "from sklearn.linear_model import LogisticRegression\n",
    "from sklearn.svm import SVC, LinearSVC\n",
    "from sklearn.ensemble import RandomForestClassifier\n",
    "from sklearn.neighbors import KNeighborsClassifier\n",
    "from sklearn.naive_bayes import GaussianNB\n",
    "from sklearn.linear_model import Perceptron\n",
    "from sklearn.linear_model import SGDClassifier\n",
    "from sklearn.tree import DecisionTreeClassifier\n",
    "\n",
    "\n",
    "\n",
    "train_=pd.read_csv('../train_allcols.csv')\n",
    "validate_=pd.read_csv('../validate_allcols.csv')\n",
    "#test=pd.read_csv('../testwDSM.csv')\n",
    "\n",
    "train_.shape, validate_.shape, #test.shape"
   ]
  },
  {
   "cell_type": "code",
   "execution_count": 23,
   "metadata": {
    "collapsed": false
   },
   "outputs": [
    {
     "data": {
      "text/plain": [
       "((301619, 62),)"
      ]
     },
     "execution_count": 23,
     "metadata": {},
     "output_type": "execute_result"
    }
   ],
   "source": [
    "#train.describe()\n",
    "train = train_.sample(20000)\n",
    "validate = validate_.sample(10000)\n",
    "train_.shape, #validate_.shape, validate.head(2)"
   ]
  },
  {
   "cell_type": "code",
   "execution_count": 24,
   "metadata": {
    "collapsed": false
   },
   "outputs": [
    {
     "name": "stdout",
     "output_type": "stream",
     "text": [
      "(9609, 62)\n",
      "4     3391\n",
      "2     2794\n",
      "3     1635\n",
      "7      787\n",
      "10     725\n",
      "5      277\n",
      "Name: SUB2, dtype: int64\n"
     ]
    }
   ],
   "source": [
    "train = train.query('SUB2 != 1')\n",
    "validate = validate.query('SUB2 != 1')\n",
    "\n",
    "train = train[train.SUB2.isin([2,3,4,5,7,10])]\n",
    "validate = validate[validate.SUB2.isin([2,3,4,5,7,10])]\n",
    "print train.shape\n",
    "print train['SUB2'].value_counts()"
   ]
  },
  {
   "cell_type": "code",
   "execution_count": 25,
   "metadata": {
    "collapsed": false
   },
   "outputs": [
    {
     "name": "stdout",
     "output_type": "stream",
     "text": [
      "F-score: 1.03t for feature CBSA10\n",
      "F-score: 1.35t for feature DAYWAIT\n",
      "F-score: 1.72t for feature PREG\n",
      "F-score: 2.12t for feature VET\n",
      "F-score: 3.26t for feature DETNLF\n",
      "F-score: 3.87t for feature ARRESTS\n",
      "F-score: 6.49t for feature PRIMPAY\n",
      "F-score: 6.85t for feature ETHNIC\n",
      "F-score: 8.00t for feature PRIMINC\n",
      "F-score: 11.87t for feature LIVARAG\n",
      "F-score: 12.31t for feature RACE\n",
      "F-score: 12.93t for feature SUB3\n",
      "F-score: 13.20t for feature REGION\n",
      "F-score: 13.54t for feature GENDER\n",
      "F-score: 13.71t for feature EMPLOY\n",
      "F-score: 14.57t for feature MARSTAT\n",
      "F-score: 15.37t for feature PSYPROB\n",
      "F-score: 16.87t for feature STFIPS\n",
      "F-score: 17.99t for feature FRSTUSE1\n",
      "F-score: 20.12t for feature YEAR\n",
      "F-score: 20.72t for feature CASEID\n",
      "F-score: 21.39t for feature ROUTE3\n",
      "F-score: 25.41t for feature SERVSETA\n",
      "F-score: 27.98t for feature DETCRIM\n",
      "F-score: 29.55t for feature DIVISION\n",
      "F-score: 29.80t for feature EDUC\n",
      "F-score: 30.02t for feature FREQ2\n",
      "F-score: 32.25t for feature HLTHINS\n",
      "F-score: 33.34t for feature FRSTUSE3\n",
      "F-score: 36.45t for feature SUB1\n",
      "F-score: 40.72t for feature METHUSE\n",
      "F-score: 42.21t for feature ROUTE1\n",
      "F-score: 43.25t for feature FREQ1\n",
      "F-score: 44.57t for feature PSOURCE\n",
      "F-score: 45.52t for feature NOPRIOR\n",
      "F-score: 47.33t for feature FREQ3\n",
      "F-score: 52.31t for feature NUMSUBS\n",
      "F-score: 112.32t for feature DSMCRIT\n",
      "F-score: 122.85t for feature AGE\n",
      "F-score: 153.03t for feature IDU\n",
      "F-score: 503.07t for feature ROUTE2\n",
      "F-score: 509.92t for feature ALCDRUG\n",
      "F-score: 690.98t for feature FRSTUSE2\n"
     ]
    }
   ],
   "source": [
    "# for sub2\n",
    "\n",
    "\n",
    "\n",
    "X_train = train.drop(['SUB2'], axis=1)\n",
    "Y_train = train[\"SUB2\"]\n",
    "\n",
    "from sklearn.feature_selection import SelectKBest, SelectPercentile\n",
    "from sklearn.feature_selection import f_classif,chi2\n",
    "#Selector_f = SelectPercentile(f_classif, percentile=25)\n",
    "Selector_f = SelectKBest(f_classif, k=10)\n",
    "Selector_f.fit(X_train,Y_train)\n",
    "\n",
    "zipped = zip(X_train.columns.tolist(),Selector_f.scores_)\n",
    "ans = sorted(zipped, key=lambda x: x[1])\n",
    "for n,s in ans:    \n",
    "    if 'FLG' in n: \n",
    "        pass\n",
    "    else:\n",
    "        print 'F-score: %3.2ft for feature %s' % (s,n)\n",
    "                \n",
    "#print X_train.columns.tolist()"
   ]
  },
  {
   "cell_type": "code",
   "execution_count": 26,
   "metadata": {
    "collapsed": false
   },
   "outputs": [
    {
     "name": "stdout",
     "output_type": "stream",
     "text": [
      "'CBSA10','DAYWAIT','PREG','VET','DETNLF','ARRESTS','PRIMPAY','ETHNIC','PRIMINC','LIVARAG','RACE','SUB3','REGION','GENDER','EMPLOY','MARSTAT','PSYPROB','STFIPS','FRSTUSE1','YEAR','CASEID','ROUTE3','SERVSETA','DETCRIM','DIVISION','EDUC','FREQ2','HLTHINS','FRSTUSE3','SUB1','METHUSE','ROUTE1','FREQ1','PSOURCE','NOPRIOR','FREQ3','NUMSUBS','DSMCRIT','AGE','IDU','ROUTE2','ALCDRUG','FRSTUSE2',"
     ]
    }
   ],
   "source": [
    "# get the sorted feature list\n",
    "import sys\n",
    "for n, s in ans:\n",
    "    \n",
    "    if 'FLG' in n: \n",
    "        pass\n",
    "    else:\n",
    "        sys.stdout.write('\\'%s\\',' % (n))\n"
   ]
  },
  {
   "cell_type": "code",
   "execution_count": 27,
   "metadata": {
    "collapsed": false
   },
   "outputs": [
    {
     "data": {
      "text/plain": [
       "((9609, 23), (4738, 23))"
      ]
     },
     "execution_count": 27,
     "metadata": {},
     "output_type": "execute_result"
    }
   ],
   "source": [
    "#train = train.query('SUB1 <= 10').query('SUB2 <= 10')\n",
    "#validate = validate.query('SUB1 <= 10').query('SUB2 <= 10')\n",
    "\n",
    "drop_list = ['SUB2',  'ROUTE2', 'FREQ2', 'FRSTUSE2', 'SUB3', 'ROUTE3', 'FREQ3', 'FRSTUSE3', 'NUMSUBS'\n",
    "             ]\n",
    "retain_list = ['EMPLOY','GENDER','FREQ1','YEAR','EDUC','PSYPROB','PSOURCE','SERVSETA','DETCRIM',\n",
    "               'REGION','NOPRIOR','DIVISION','DSMCRIT','ROUTE1','SUB1','AGE','IDU','SUB3','ROUTE3',\n",
    "               'FREQ3','FRSTUSE3','FREQ2','FRSTUSE2']\n",
    "X_train = train[retain_list]\n",
    "Y_train = train[\"SUB2\"]\n",
    "X_validate = validate[retain_list]\n",
    "Y_validate = validate[\"SUB2\"]\n",
    "#X_test  = test.drop(drop_list, axis=1)\n",
    "X_train.shape, X_validate.shape, #X_test.shape\n",
    "\n"
   ]
  },
  {
   "cell_type": "code",
   "execution_count": 28,
   "metadata": {
    "collapsed": false
   },
   "outputs": [
    {
     "name": "stdout",
     "output_type": "stream",
     "text": [
      "['EMPLOY', 'GENDER', 'FREQ1', 'YEAR', 'EDUC', 'PSYPROB', 'PSOURCE', 'SERVSETA', 'DETCRIM', 'REGION', 'NOPRIOR', 'DIVISION', 'DSMCRIT', 'ROUTE1', 'SUB1', 'AGE', 'IDU', 'SUB3', 'ROUTE3', 'FREQ3', 'FRSTUSE3', 'FREQ2', 'FRSTUSE2']\n"
     ]
    }
   ],
   "source": [
    "print X_train.columns.tolist()"
   ]
  },
  {
   "cell_type": "code",
   "execution_count": 29,
   "metadata": {
    "collapsed": false
   },
   "outputs": [
    {
     "data": {
      "text/plain": [
       "((9609, 184), (4738, 184))"
      ]
     },
     "execution_count": 29,
     "metadata": {},
     "output_type": "execute_result"
    }
   ],
   "source": [
    "#one hot\n",
    "from sklearn import preprocessing\n",
    "\n",
    "# 1. INSTANTIATE\n",
    "enc = preprocessing.OneHotEncoder()\n",
    "\n",
    "# 2. FIT\n",
    "enc.fit(X_train)\n",
    "\n",
    "# 3. Transform\n",
    "onehotlabels = enc.transform(X_train).toarray()\n",
    "#onehotlabels.shape\n",
    "X_train = onehotlabels\n",
    "\n",
    "onehotlabels = enc.transform(X_validate).toarray()\n",
    "X_validate = onehotlabels\n",
    "\n",
    "X_train.shape, X_validate.shape"
   ]
  },
  {
   "cell_type": "code",
   "execution_count": 30,
   "metadata": {
    "collapsed": false
   },
   "outputs": [
    {
     "name": "stdout",
     "output_type": "stream",
     "text": [
      "68.91\n"
     ]
    }
   ],
   "source": [
    "# Logistic Regression\n",
    "logreg = LogisticRegression(C=1)\n",
    "logreg.fit(X_train, Y_train)\n",
    "#Y_pred = logreg.predict(X_test)\n",
    "acc_log = round(logreg.score(X_validate, Y_validate) * 100, 2)\n",
    "print acc_log\n"
   ]
  },
  {
   "cell_type": "code",
   "execution_count": 31,
   "metadata": {
    "collapsed": false
   },
   "outputs": [
    {
     "name": "stdout",
     "output_type": "stream",
     "text": [
      "60.15\n"
     ]
    }
   ],
   "source": [
    "# Perceptron\n",
    "\n",
    "perceptron = Perceptron()\n",
    "perceptron.fit(X_train, Y_train)\n",
    "#Y_pred = perceptron.predict(X_test)\n",
    "acc_perceptron = round(perceptron.score(X_validate, Y_validate) * 100, 2)\n",
    "print acc_perceptron\n"
   ]
  },
  {
   "cell_type": "code",
   "execution_count": 32,
   "metadata": {
    "collapsed": false
   },
   "outputs": [
    {
     "name": "stdout",
     "output_type": "stream",
     "text": [
      "55.36\n"
     ]
    }
   ],
   "source": [
    "# Stochastic Gradient Descent\n",
    "\n",
    "sgd = SGDClassifier()\n",
    "sgd.fit(X_train, Y_train)\n",
    "#Y_pred = sgd.predict(X_test)\n",
    "acc_sgd = round(sgd.score(X_validate, Y_validate) * 100, 2)\n",
    "print acc_sgd\n"
   ]
  },
  {
   "cell_type": "code",
   "execution_count": 33,
   "metadata": {
    "collapsed": false
   },
   "outputs": [
    {
     "name": "stdout",
     "output_type": "stream",
     "text": [
      "65.58\n"
     ]
    }
   ],
   "source": [
    "# Random Forest (slow)\n",
    "\n",
    "random_forest = RandomForestClassifier(n_estimators=100, max_depth=20)\n",
    "random_forest.fit(X_train, Y_train)\n",
    "#Y_pred = random_forest.predict(X_test)\n",
    "random_forest.score(X_train, Y_train)\n",
    "acc_random_forest = round(random_forest.score(X_validate, Y_validate) * 100, 2)\n",
    "print acc_random_forest\n",
    "\n",
    "#print cross_val_score(random_forest, X_validate, Y_validate)"
   ]
  },
  {
   "cell_type": "code",
   "execution_count": 34,
   "metadata": {
    "collapsed": false
   },
   "outputs": [
    {
     "name": "stdout",
     "output_type": "stream",
     "text": [
      "62.71\n"
     ]
    }
   ],
   "source": [
    "# Stochastic Gradient Descent\n",
    "sgd = SGDClassifier()\n",
    "sgd.fit(X_train, Y_train)\n",
    "#Y_pred = sgd.predict(X_test)\n",
    "acc_sgd = round(sgd.score(X_validate, Y_validate) * 100, 2)\n",
    "print acc_sgd\n"
   ]
  },
  {
   "cell_type": "code",
   "execution_count": 35,
   "metadata": {
    "collapsed": false
   },
   "outputs": [
    {
     "name": "stdout",
     "output_type": "stream",
     "text": [
      "68.64\n"
     ]
    }
   ],
   "source": [
    "# Linear SVC\n",
    "linear_svc = LinearSVC(C=1)\n",
    "linear_svc.fit(X_train, Y_train)\n",
    "#Y_pred = linear_svc.predict(X_test)\n",
    "acc_linear_svc = round(linear_svc.score(X_validate, Y_validate) * 100, 2)\n",
    "print acc_linear_svc\n"
   ]
  },
  {
   "cell_type": "code",
   "execution_count": 36,
   "metadata": {
    "collapsed": false
   },
   "outputs": [
    {
     "name": "stdout",
     "output_type": "stream",
     "text": [
      "67.18\n"
     ]
    }
   ],
   "source": [
    "import xgboost as xgb\n",
    "xgb_boost = xgb.XGBClassifier(seed=1850, n_jobs=-1)\n",
    "xgb_boost.fit(X_train, Y_train) \n",
    "acc_xgb = round(xgb_boost.score(X_validate, Y_validate) * 100, 2)\n",
    "print acc_xgb"
   ]
  },
  {
   "cell_type": "code",
   "execution_count": 37,
   "metadata": {
    "collapsed": false
   },
   "outputs": [
    {
     "name": "stdout",
     "output_type": "stream",
     "text": [
      "predict-top6-sub2-allcols-sample10000\n",
      "                        Model  Validate Set Score\n",
      "0         Logistic Regression               68.91\n",
      "4                  Linear SVC               68.64\n",
      "5                     XGBoost               67.18\n",
      "1               Random Forest               65.58\n",
      "3  Stochastic Gradient Decent               62.71\n",
      "2                  Perceptron               60.15\n"
     ]
    }
   ],
   "source": [
    "print 'predict-top6-sub2-allcols-sample10000'\n",
    "models = pd.DataFrame({\n",
    "    'Model': [ 'Logistic Regression', \n",
    "              'Random Forest',  'Perceptron', \n",
    "              'Stochastic Gradient Decent', 'Linear SVC', \n",
    "               'XGBoost'],\n",
    "    'Validate Set Score': [acc_log, \n",
    "              acc_random_forest,  acc_perceptron, \n",
    "              acc_sgd, acc_linear_svc, acc_xgb]\n",
    "    })\n",
    "print models.sort_values(by='Validate Set Score', ascending=False)\n"
   ]
  }
 ],
 "metadata": {
  "kernelspec": {
   "display_name": "Python 2",
   "language": "python",
   "name": "python2"
  },
  "language_info": {
   "codemirror_mode": {
    "name": "ipython",
    "version": 2
   },
   "file_extension": ".py",
   "mimetype": "text/x-python",
   "name": "python",
   "nbconvert_exporter": "python",
   "pygments_lexer": "ipython2",
   "version": "2.7.10"
  }
 },
 "nbformat": 4,
 "nbformat_minor": 2
}
