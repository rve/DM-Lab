{
 "cells": [
  {
   "cell_type": "code",
   "execution_count": 7,
   "metadata": {
    "collapsed": false
   },
   "outputs": [
    {
     "data": {
      "text/plain": [
       "((1478761, 33), (728346, 33))"
      ]
     },
     "execution_count": 7,
     "metadata": {},
     "output_type": "execute_result"
    }
   ],
   "source": [
    "#import matplotlib.pyplot as plt\n",
    "#import seaborn as sns\n",
    "\n",
    "\n",
    "import pandas as pd\n",
    "import numpy as np\n",
    "import random as rnd\n",
    "\n",
    "from sklearn.cross_validation import KFold, cross_val_score\n",
    "\n",
    "# machine learning\n",
    "from sklearn.linear_model import LogisticRegression\n",
    "from sklearn.svm import SVC, LinearSVC\n",
    "from sklearn.ensemble import RandomForestClassifier\n",
    "from sklearn.neighbors import KNeighborsClassifier\n",
    "from sklearn.naive_bayes import GaussianNB\n",
    "from sklearn.linear_model import Perceptron\n",
    "from sklearn.linear_model import SGDClassifier\n",
    "from sklearn.tree import DecisionTreeClassifier\n",
    "\n",
    "\n",
    "\n",
    "train_=pd.read_csv('../train.csv')\n",
    "validate_=pd.read_csv('../validate.csv')\n",
    "#test=pd.read_csv('../testwDSM.csv')\n",
    "\n",
    "train_.shape, validate_.shape, #test.shape"
   ]
  },
  {
   "cell_type": "code",
   "execution_count": 8,
   "metadata": {
    "collapsed": false
   },
   "outputs": [
    {
     "name": "stdout",
     "output_type": "stream",
     "text": [
      "4     324606\n",
      "5     270924\n",
      "7     144364\n",
      "8     143138\n",
      "3     135811\n",
      "9     108672\n",
      "10    103346\n",
      "6      82922\n",
      "2      45191\n",
      "13     20397\n",
      "11     17281\n",
      "1      14222\n",
      "12     12852\n",
      "0      11595\n",
      "Name: DSMCRIT, dtype: int64\n",
      "(1435321, 33)\n"
     ]
    }
   ],
   "source": [
    "train = train_.query('DSMCRIT < 14')\n",
    "validate = validate_.query('DSMCRIT < 14')\n",
    "print train['DSMCRIT'].value_counts()\n",
    "print train.shape"
   ]
  },
  {
   "cell_type": "code",
   "execution_count": 9,
   "metadata": {
    "collapsed": false
   },
   "outputs": [
    {
     "name": "stdout",
     "output_type": "stream",
     "text": [
      "4     0.226156\n",
      "5     0.188755\n",
      "7     0.100580\n",
      "8     0.099725\n",
      "3     0.094621\n",
      "9     0.075713\n",
      "10    0.072002\n",
      "6     0.057772\n",
      "2     0.031485\n",
      "13    0.014211\n",
      "11    0.012040\n",
      "1     0.009909\n",
      "12    0.008954\n",
      "0     0.008078\n",
      "Name: DSMCRIT, dtype: float64\n",
      "2     0.425528\n",
      "4     0.193937\n",
      "7     0.113757\n",
      "5     0.108025\n",
      "3     0.073880\n",
      "10    0.051074\n",
      "13    0.009122\n",
      "20    0.005884\n",
      "11    0.005407\n",
      "6     0.004178\n",
      "16    0.001860\n",
      "8     0.001654\n",
      "9     0.001152\n",
      "18    0.001124\n",
      "1     0.001055\n",
      "17    0.000904\n",
      "12    0.000612\n",
      "15    0.000607\n",
      "14    0.000240\n",
      "Name: SUB1, dtype: float64\n"
     ]
    }
   ],
   "source": [
    "#alcohol\n",
    "print train['DSMCRIT'].value_counts() / train['DSMCRIT'].count()\n",
    "print train['SUB1'].value_counts() / train['SUB1'].count()"
   ]
  },
  {
   "cell_type": "code",
   "execution_count": 10,
   "metadata": {
    "collapsed": false
   },
   "outputs": [
    {
     "data": {
      "text/plain": [
       "7     0.470344\n",
       "10    0.343247\n",
       "8     0.050190\n",
       "6     0.031621\n",
       "13    0.024170\n",
       "2     0.020416\n",
       "4     0.018422\n",
       "9     0.015480\n",
       "5     0.011564\n",
       "0     0.005989\n",
       "11    0.005762\n",
       "12    0.001739\n",
       "1     0.000762\n",
       "3     0.000295\n",
       "Name: DSMCRIT, dtype: float64"
      ]
     },
     "execution_count": 10,
     "metadata": {},
     "output_type": "execute_result"
    }
   ],
   "source": [
    "#\n",
    "train.query('SUB1 == 4')['DSMCRIT'].value_counts() / train.query('SUB1 == 4')['DSMCRIT'].count()"
   ]
  },
  {
   "cell_type": "code",
   "execution_count": 11,
   "metadata": {
    "collapsed": false
   },
   "outputs": [
    {
     "data": {
      "text/plain": [
       "((20000, 33),\n",
       " (6000, 33),\n",
       "         AGE  GENDER  RACE  ETHNIC  MARSTAT  EDUC  EMPLOY  DETNLF  PREG  VET  \\\n",
       " 280713    6       1     5       5        1     3       1       0     2    2   \n",
       " 294923   12       2     2       5        4     4       3       0     2    2   \n",
       " \n",
       "          ...     FREQ2  FRSTUSE2  SUB3  ROUTE3  FREQ3  FRSTUSE3  NUMSUBS  IDU  \\\n",
       " 280713   ...         0         0     1       0      0         0        1    1   \n",
       " 294923   ...         0         0     1       0      0         0        1    0   \n",
       " \n",
       "         DSMCRIT  PSYPROB  \n",
       " 280713        8        2  \n",
       " 294923        4        1  \n",
       " \n",
       " [2 rows x 33 columns])"
      ]
     },
     "execution_count": 11,
     "metadata": {},
     "output_type": "execute_result"
    }
   ],
   "source": [
    "#train.describe()\n",
    "train = train.sample(20000)\n",
    "validate = validate.sample(6000)\n",
    "train.shape, validate.shape, validate.head(2)"
   ]
  },
  {
   "cell_type": "code",
   "execution_count": 28,
   "metadata": {
    "collapsed": false
   },
   "outputs": [
    {
     "data": {
      "text/plain": [
       "((20000, 20), (6000, 20))"
      ]
     },
     "execution_count": 28,
     "metadata": {},
     "output_type": "execute_result"
    }
   ],
   "source": [
    "#train = train.query('SUB1 <= 10').query('SUB2 <= 10')\n",
    "#validate = validate.query('SUB1 <= 10').query('SUB2 <= 10')\n",
    "\n",
    "drop_list = ['DSMCRIT',  #'NUMSUBS'\n",
    "             ]\n",
    "drop_list_select = ['RACE', 'PREG', 'ARRESTS', 'PSYPROB', 'DETNLF', 'ETHNIC', 'MARSTAT', 'GENDER', 'EDUC'\n",
    "                   ,'LIVARAG', 'EMPLOY', 'SUB3']\n",
    "X_train = train.drop(drop_list + drop_list_select, axis=1)\n",
    "Y_train = train[\"DSMCRIT\"]\n",
    "#X_validate = validate.drop(drop_list + drop_list_select, axis=1)\n",
    "#Y_validate = validate[\"DSMCRIT\"]\n",
    "#X_test  = test.drop(drop_list, axis=1)\n",
    "X_train.shape, #X_validate.shape, #X_test.shape\n",
    "\n"
   ]
  },
  {
   "cell_type": "code",
   "execution_count": 29,
   "metadata": {
    "collapsed": false
   },
   "outputs": [
    {
     "name": "stdout",
     "output_type": "stream",
     "text": [
      "['AGE', 'VET', 'SERVSETA', 'METHUSE', 'PSOURCE', 'DETCRIM', 'NOPRIOR', 'SUB1', 'ROUTE1', 'FREQ1', 'FRSTUSE1', 'SUB2', 'ROUTE2', 'FREQ2', 'FRSTUSE2', 'ROUTE3', 'FREQ3', 'FRSTUSE3', 'NUMSUBS', 'IDU']\n"
     ]
    }
   ],
   "source": [
    "print X_train.columns.tolist()"
   ]
  },
  {
   "cell_type": "code",
   "execution_count": 30,
   "metadata": {
    "collapsed": false
   },
   "outputs": [
    {
     "name": "stdout",
     "output_type": "stream",
     "text": [
      "F-score: 63.27t for feature ROUTE3\n",
      "F-score: 64.95t for feature ROUTE2\n",
      "F-score: 65.26t for feature VET\n",
      "F-score: 83.68t for feature SUB2\n",
      "F-score: 98.72t for feature FRSTUSE2\n",
      "F-score: 99.60t for feature FRSTUSE3\n",
      "F-score: 101.65t for feature FREQ2\n",
      "F-score: 102.74t for feature FREQ3\n",
      "F-score: 110.86t for feature DETCRIM\n",
      "F-score: 188.05t for feature FREQ1\n",
      "F-score: 190.67t for feature NUMSUBS\n",
      "F-score: 208.75t for feature NOPRIOR\n",
      "F-score: 220.19t for feature PSOURCE\n",
      "F-score: 285.62t for feature METHUSE\n",
      "F-score: 350.07t for feature ROUTE1\n",
      "F-score: 372.02t for feature AGE\n",
      "F-score: 411.05t for feature FRSTUSE1\n",
      "F-score: 501.99t for feature IDU\n",
      "F-score: 869.04t for feature SERVSETA\n",
      "F-score: 1520.28t for feature SUB1\n"
     ]
    }
   ],
   "source": [
    "from sklearn.feature_selection import SelectKBest, SelectPercentile\n",
    "from sklearn.feature_selection import f_classif,chi2\n",
    "#Selector_f = SelectPercentile(f_classif, percentile=25)\n",
    "Selector_f = SelectKBest(f_classif, k=10)\n",
    "Selector_f.fit(X_train,Y_train)\n",
    "\n",
    "zipped = zip(X_train.columns.tolist(),Selector_f.scores_)\n",
    "ans = sorted(zipped, key=lambda x: x[1])\n",
    "for n,s in ans:\n",
    "     print 'F-score: %3.2ft for feature %s' % (s,n)\n",
    "        \n",
    "        \n",
    "X_train= SelectKBest(f_classif, k=10).fit_transform(X_train, Y_train)\n"
   ]
  },
  {
   "cell_type": "code",
   "execution_count": 33,
   "metadata": {
    "collapsed": false
   },
   "outputs": [
    {
     "data": {
      "text/plain": [
       "((20000, 304),)"
      ]
     },
     "execution_count": 33,
     "metadata": {},
     "output_type": "execute_result"
    }
   ],
   "source": [
    "#one hot\n",
    "from sklearn import preprocessing\n",
    "\n",
    "# 1. INSTANTIATE\n",
    "enc = preprocessing.OneHotEncoder()\n",
    "\n",
    "# 2. FIT\n",
    "enc.fit(X_train)\n",
    "\n",
    "# 3. Transform\n",
    "onehotlabels = enc.transform(X_train).toarray()\n",
    "X_train = onehotlabels\n",
    "\n",
    "#onehotlabels = enc.transform(X_validate).toarray()\n",
    "#X_validate = onehotlabels\n",
    "\n",
    "X_train.shape, #X_validate.shape"
   ]
  },
  {
   "cell_type": "code",
   "execution_count": null,
   "metadata": {
    "collapsed": true
   },
   "outputs": [],
   "source": []
  },
  {
   "cell_type": "code",
   "execution_count": 34,
   "metadata": {
    "collapsed": false
   },
   "outputs": [
    {
     "name": "stdout",
     "output_type": "stream",
     "text": [
      "['0.680', '0.687', '0.669', '0.682', '0.686']\n",
      "0.681\n"
     ]
    }
   ],
   "source": [
    "# Logistic Regression\n",
    "logreg = LogisticRegression(n_jobs=-1)\n",
    "logreg.fit(X_train, Y_train)\n",
    "#Y_pred = logreg.predict(X_test)\n",
    "\n",
    "l_acc_log = cross_val_score(logreg, X_train, Y_train, cv=5)\n",
    "acc_log = round(np.mean(l_acc_log), 3)\n",
    "\n",
    "l_acc_log = ['%.3f' % elem for elem in l_acc_log]\n",
    "print l_acc_log\n",
    "print acc_log"
   ]
  },
  {
   "cell_type": "code",
   "execution_count": 35,
   "metadata": {
    "collapsed": false
   },
   "outputs": [
    {
     "name": "stdout",
     "output_type": "stream",
     "text": [
      "['0.665', '0.674', '0.651', '0.663', '0.665']\n",
      "0.664\n"
     ]
    }
   ],
   "source": [
    "# Random Forest (slow)\n",
    "\n",
    "random_forest = RandomForestClassifier(n_estimators=200, max_depth=20, n_jobs=-1)\n",
    "random_forest.fit(X_train, Y_train)\n",
    "#Y_pred = random_forest.predict(X_test)\n",
    "\n",
    "l_acc_random_forest = cross_val_score(random_forest, X_train, Y_train, cv=5)\n",
    "acc_random_forest = round(np.mean(l_acc_random_forest), 3)\n",
    "\n",
    "l_acc_random_forest = ['%.3f' % elem for elem in l_acc_random_forest]\n",
    "print l_acc_random_forest\n",
    "print acc_random_forest"
   ]
  },
  {
   "cell_type": "code",
   "execution_count": 36,
   "metadata": {
    "collapsed": false
   },
   "outputs": [
    {
     "name": "stdout",
     "output_type": "stream",
     "text": [
      "['0.675', '0.684', '0.666', '0.679', '0.680']\n",
      "0.677\n"
     ]
    }
   ],
   "source": [
    "# Linear SVC\n",
    "linear_svc = LinearSVC(C=1.0)\n",
    "linear_svc.fit(X_train, Y_train)\n",
    "#Y_pred = linear_svc.predict(X_test)\n",
    "\n",
    "l_acc_linear_svc = cross_val_score(linear_svc, X_train, Y_train, cv=5)\n",
    "acc_linear_svc = round(np.mean(l_acc_linear_svc), 3)\n",
    "l_acc_linear_svc = ['%.3f' % elem for elem in l_acc_linear_svc]\n",
    "print l_acc_linear_svc\n",
    "print acc_linear_svc"
   ]
  },
  {
   "cell_type": "code",
   "execution_count": 37,
   "metadata": {
    "collapsed": false
   },
   "outputs": [
    {
     "name": "stdout",
     "output_type": "stream",
     "text": [
      "predict-sub2-woflags-newsplit-sample20000\n"
     ]
    },
    {
     "data": {
      "text/html": [
       "<div>\n",
       "<style scoped>\n",
       "    .dataframe tbody tr th:only-of-type {\n",
       "        vertical-align: middle;\n",
       "    }\n",
       "\n",
       "    .dataframe tbody tr th {\n",
       "        vertical-align: top;\n",
       "    }\n",
       "\n",
       "    .dataframe thead th {\n",
       "        text-align: right;\n",
       "    }\n",
       "</style>\n",
       "<table border=\"1\" class=\"dataframe\">\n",
       "  <thead>\n",
       "    <tr style=\"text-align: right;\">\n",
       "      <th></th>\n",
       "      <th>Cross Validation</th>\n",
       "      <th>Cross Validation Mean</th>\n",
       "      <th>Model</th>\n",
       "    </tr>\n",
       "  </thead>\n",
       "  <tbody>\n",
       "    <tr>\n",
       "      <th>0</th>\n",
       "      <td>[0.680, 0.687, 0.669, 0.682, 0.686]</td>\n",
       "      <td>0.681</td>\n",
       "      <td>Logistic Regression</td>\n",
       "    </tr>\n",
       "    <tr>\n",
       "      <th>2</th>\n",
       "      <td>[0.675, 0.684, 0.666, 0.679, 0.680]</td>\n",
       "      <td>0.677</td>\n",
       "      <td>Linear SVC</td>\n",
       "    </tr>\n",
       "    <tr>\n",
       "      <th>1</th>\n",
       "      <td>[0.665, 0.674, 0.651, 0.663, 0.665]</td>\n",
       "      <td>0.664</td>\n",
       "      <td>Random Forest</td>\n",
       "    </tr>\n",
       "  </tbody>\n",
       "</table>\n",
       "</div>"
      ],
      "text/plain": [
       "                      Cross Validation  Cross Validation Mean  \\\n",
       "0  [0.680, 0.687, 0.669, 0.682, 0.686]                  0.681   \n",
       "2  [0.675, 0.684, 0.666, 0.679, 0.680]                  0.677   \n",
       "1  [0.665, 0.674, 0.651, 0.663, 0.665]                  0.664   \n",
       "\n",
       "                 Model  \n",
       "0  Logistic Regression  \n",
       "2           Linear SVC  \n",
       "1        Random Forest  "
      ]
     },
     "execution_count": 37,
     "metadata": {},
     "output_type": "execute_result"
    }
   ],
   "source": [
    "print 'predict-sub2-woflags-newsplit-sample20000'\n",
    "models = pd.DataFrame({\n",
    "    'Model': ['Logistic Regression', \n",
    "              'Random Forest','Linear SVC'],\n",
    "    'Cross Validation': [l_acc_log, \n",
    "              l_acc_random_forest, l_acc_linear_svc],\n",
    "    'Cross Validation Mean': [acc_log, \n",
    "              acc_random_forest, acc_linear_svc]\n",
    "    })\n",
    "models.sort_values(by='Cross Validation Mean', ascending=False)\n"
   ]
  }
 ],
 "metadata": {
  "kernelspec": {
   "display_name": "Python 2",
   "language": "python",
   "name": "python2"
  },
  "language_info": {
   "codemirror_mode": {
    "name": "ipython",
    "version": 2
   },
   "file_extension": ".py",
   "mimetype": "text/x-python",
   "name": "python",
   "nbconvert_exporter": "python",
   "pygments_lexer": "ipython2",
   "version": "2.7.10"
  }
 },
 "nbformat": 4,
 "nbformat_minor": 2
}
