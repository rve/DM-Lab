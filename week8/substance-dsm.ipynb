{
 "cells": [
  {
   "cell_type": "code",
   "execution_count": 1,
   "metadata": {
    "collapsed": false
   },
   "outputs": [
    {
     "name": "stderr",
     "output_type": "stream",
     "text": [
      "/Users/arc/Codes/DM-Lab/dmlab/lib/python2.7/site-packages/sklearn/cross_validation.py:41: DeprecationWarning: This module was deprecated in version 0.18 in favor of the model_selection module into which all the refactored classes and functions are moved. Also note that the interface of the new CV iterators are different from that of this module. This module will be removed in 0.20.\n",
      "  \"This module will be removed in 0.20.\", DeprecationWarning)\n"
     ]
    },
    {
     "data": {
      "text/plain": [
       "((301619, 62), (148560, 62))"
      ]
     },
     "execution_count": 1,
     "metadata": {},
     "output_type": "execute_result"
    }
   ],
   "source": [
    "#import matplotlib.pyplot as plt\n",
    "#import seaborn as sns\n",
    "\n",
    "\n",
    "import pandas as pd\n",
    "import numpy as np\n",
    "import random as rnd\n",
    "\n",
    "from sklearn.cross_validation import KFold, cross_val_score\n",
    "\n",
    "# machine learning\n",
    "from sklearn.linear_model import LogisticRegression\n",
    "from sklearn.svm import SVC, LinearSVC\n",
    "from sklearn.ensemble import RandomForestClassifier\n",
    "from sklearn.neighbors import KNeighborsClassifier\n",
    "from sklearn.naive_bayes import GaussianNB\n",
    "from sklearn.linear_model import Perceptron\n",
    "from sklearn.linear_model import SGDClassifier\n",
    "from sklearn.tree import DecisionTreeClassifier\n",
    "\n",
    "\n",
    "\n",
    "train_=pd.read_csv('../train_allcols.csv')\n",
    "validate_=pd.read_csv('../validate_allcols.csv')\n",
    "#test=pd.read_csv('../testwDSM.csv')\n",
    "\n",
    "train_.shape, validate_.shape, #test.shape"
   ]
  },
  {
   "cell_type": "code",
   "execution_count": 2,
   "metadata": {
    "collapsed": false
   },
   "outputs": [
    {
     "name": "stdout",
     "output_type": "stream",
     "text": [
      "(295879, 62)\n"
     ]
    }
   ],
   "source": [
    "train = train_.query('DSMCRIT < 14')\n",
    "validate = validate_.query('DSMCRIT < 14')\n",
    "#print train['DSMCRIT'].value_counts()\n",
    "print train.shape"
   ]
  },
  {
   "cell_type": "code",
   "execution_count": 3,
   "metadata": {
    "collapsed": false
   },
   "outputs": [],
   "source": [
    "#alcohol\n",
    "#print train['DSMCRIT'].value_counts() / train['DSMCRIT'].count()\n",
    "#print train['SUB1'].value_counts() / train['SUB1'].count()"
   ]
  },
  {
   "cell_type": "code",
   "execution_count": 4,
   "metadata": {
    "collapsed": false
   },
   "outputs": [],
   "source": [
    "#train.query('SUB1 == 4')['DSMCRIT'].value_counts() / train.query('SUB1 == 4')['DSMCRIT'].count()"
   ]
  },
  {
   "cell_type": "code",
   "execution_count": 5,
   "metadata": {
    "collapsed": false
   },
   "outputs": [
    {
     "data": {
      "text/plain": [
       "((20000, 62),)"
      ]
     },
     "execution_count": 5,
     "metadata": {},
     "output_type": "execute_result"
    }
   ],
   "source": [
    "#train.describe()\n",
    "train = train.sample(20000)\n",
    "validate = validate.sample(6000)\n",
    "train.shape, #validate.shape, #validate.head(2)"
   ]
  },
  {
   "cell_type": "code",
   "execution_count": 6,
   "metadata": {
    "collapsed": false
   },
   "outputs": [
    {
     "data": {
      "text/plain": [
       "((20000, 42),)"
      ]
     },
     "execution_count": 6,
     "metadata": {},
     "output_type": "execute_result"
    }
   ],
   "source": [
    "#train = train.query('SUB1 <= 10').query('SUB2 <= 10')\n",
    "#validate = validate.query('SUB1 <= 10').query('SUB2 <= 10')\n",
    "\n",
    "drop_list = ['DSMCRIT',  #'NUMSUBS'\n",
    "             ]\n",
    "drop_list_select = ['RACE', 'PREG', 'ARRESTS', 'PSYPROB', 'DETNLF', 'ETHNIC', 'MARSTAT', 'GENDER', 'EDUC'\n",
    "                   ,'LIVARAG', 'EMPLOY', 'SUB3']\n",
    "\n",
    "retain_list = ['RACE','PCPFLG','PRIMINC','LIVARAG','BENZFLG','HLTHINS','GENDER','ROUTE3','PRIMPAY',\n",
    "               'MARSTAT','PSYPROB','ROUTE2','EMPLOY','SUB2','FRSTUSE3','FREQ3','FRSTUSE2','OTHERFLG',\n",
    "               'EDUC','FREQ2','FREQ1','YEAR',\n",
    "               'PSOURCE','DETCRIM','DIVISION','REGION','NOPRIOR','NUMSUBS','ALCDRUG',\n",
    "               'METHUSE','FRSTUSE1','AGE','COKEFLG','OPSYNFLG','IDU','SERVSETA','ROUTE1','MARFLG',\n",
    "               'MTHAMFLG','HERFLG',\n",
    "               'ALCFLG','SUB1']\n",
    "X_train = train[retain_list]\n",
    "#X_train = train.drop(drop_list + drop_list_select, axis=1)\n",
    "Y_train = train[\"DSMCRIT\"]\n",
    "#X_validate = validate.drop(drop_list + drop_list_select, axis=1)\n",
    "#Y_validate = validate[\"DSMCRIT\"]\n",
    "#X_test  = test.drop(drop_list, axis=1)\n",
    "X_train.shape, #X_validate.shape, #X_test.shape\n",
    "\n"
   ]
  },
  {
   "cell_type": "code",
   "execution_count": 7,
   "metadata": {
    "collapsed": false
   },
   "outputs": [
    {
     "name": "stdout",
     "output_type": "stream",
     "text": [
      "['RACE', 'PCPFLG', 'PRIMINC', 'LIVARAG', 'BENZFLG', 'HLTHINS', 'GENDER', 'ROUTE3', 'PRIMPAY', 'MARSTAT', 'PSYPROB', 'ROUTE2', 'EMPLOY', 'SUB2', 'FRSTUSE3', 'FREQ3', 'FRSTUSE2', 'OTHERFLG', 'EDUC', 'FREQ2', 'FREQ1', 'YEAR', 'PSOURCE', 'DETCRIM', 'DIVISION', 'REGION', 'NOPRIOR', 'NUMSUBS', 'ALCDRUG', 'METHUSE', 'FRSTUSE1', 'AGE', 'COKEFLG', 'OPSYNFLG', 'IDU', 'SERVSETA', 'ROUTE1', 'MARFLG', 'MTHAMFLG', 'HERFLG', 'ALCFLG', 'SUB1']\n"
     ]
    }
   ],
   "source": [
    "print X_train.columns.tolist()"
   ]
  },
  {
   "cell_type": "code",
   "execution_count": 8,
   "metadata": {
    "collapsed": false
   },
   "outputs": [
    {
     "name": "stdout",
     "output_type": "stream",
     "text": [
      "F-score: 38.14t for feature RACE\n",
      "F-score: 44.55t for feature PRIMINC\n",
      "F-score: 46.49t for feature PCPFLG\n",
      "F-score: 48.54t for feature BENZFLG\n",
      "F-score: 49.11t for feature HLTHINS\n",
      "F-score: 54.14t for feature GENDER\n",
      "F-score: 54.25t for feature ROUTE3\n",
      "F-score: 56.78t for feature LIVARAG\n",
      "F-score: 59.06t for feature PRIMPAY\n",
      "F-score: 65.84t for feature PSYPROB\n",
      "F-score: 73.58t for feature MARSTAT\n",
      "F-score: 80.44t for feature EMPLOY\n",
      "F-score: 85.26t for feature ROUTE2\n",
      "F-score: 94.37t for feature SUB2\n",
      "F-score: 97.53t for feature FRSTUSE3\n",
      "F-score: 100.82t for feature FREQ3\n",
      "F-score: 119.02t for feature FRSTUSE2\n",
      "F-score: 123.20t for feature EDUC\n",
      "F-score: 125.95t for feature OTHERFLG\n",
      "F-score: 135.21t for feature FREQ2\n",
      "F-score: 137.80t for feature FREQ1\n",
      "F-score: 169.31t for feature PSOURCE\n",
      "F-score: 171.62t for feature YEAR\n",
      "F-score: 179.67t for feature NOPRIOR\n",
      "F-score: 180.11t for feature DIVISION\n",
      "F-score: 182.10t for feature REGION\n",
      "F-score: 184.16t for feature DETCRIM\n",
      "F-score: 241.86t for feature NUMSUBS\n",
      "F-score: 244.64t for feature ALCDRUG\n",
      "F-score: 334.11t for feature METHUSE\n",
      "F-score: 344.40t for feature FRSTUSE1\n",
      "F-score: 361.14t for feature AGE\n",
      "F-score: 393.01t for feature COKEFLG\n",
      "F-score: 417.52t for feature IDU\n",
      "F-score: 425.60t for feature OPSYNFLG\n",
      "F-score: 466.10t for feature SERVSETA\n",
      "F-score: 580.82t for feature MARFLG\n",
      "F-score: 612.73t for feature ROUTE1\n",
      "F-score: 739.99t for feature MTHAMFLG\n",
      "F-score: 953.66t for feature HERFLG\n",
      "F-score: 1122.16t for feature ALCFLG\n",
      "F-score: 2534.42t for feature SUB1\n"
     ]
    }
   ],
   "source": [
    "from sklearn.feature_selection import SelectKBest, SelectPercentile\n",
    "from sklearn.feature_selection import f_classif,chi2\n",
    "#Selector_f = SelectPercentile(f_classif, percentile=25)\n",
    "Selector_f = SelectKBest(f_classif, k=10)\n",
    "Selector_f.fit(X_train,Y_train)\n",
    "\n",
    "zipped = zip(X_train.columns.tolist(),Selector_f.scores_)\n",
    "ans = sorted(zipped, key=lambda x: x[1])\n",
    "for n,s in ans:\n",
    "     print 'F-score: %3.2ft for feature %s' % (s,n)\n",
    "        \n",
    "        \n",
    "#X_train= SelectKBest(f_classif, k=10).fit_transform(X_train, Y_train)\n"
   ]
  },
  {
   "cell_type": "code",
   "execution_count": 9,
   "metadata": {
    "collapsed": false
   },
   "outputs": [
    {
     "data": {
      "text/plain": [
       "((20000, 241),)"
      ]
     },
     "execution_count": 9,
     "metadata": {},
     "output_type": "execute_result"
    }
   ],
   "source": [
    "#one hot\n",
    "from sklearn import preprocessing\n",
    "\n",
    "# 1. INSTANTIATE\n",
    "enc = preprocessing.OneHotEncoder()\n",
    "\n",
    "# 2. FIT\n",
    "enc.fit(X_train)\n",
    "\n",
    "# 3. Transform\n",
    "onehotlabels = enc.transform(X_train).toarray()\n",
    "X_train = onehotlabels\n",
    "\n",
    "#onehotlabels = enc.transform(X_validate).toarray()\n",
    "#X_validate = onehotlabels\n",
    "\n",
    "X_train.shape, #X_validate.shape"
   ]
  },
  {
   "cell_type": "code",
   "execution_count": 10,
   "metadata": {
    "collapsed": true
   },
   "outputs": [],
   "source": [
    "#kfold\n",
    "kf = 3"
   ]
  },
  {
   "cell_type": "code",
   "execution_count": 11,
   "metadata": {
    "collapsed": false
   },
   "outputs": [
    {
     "name": "stderr",
     "output_type": "stream",
     "text": [
      "/Users/arc/Codes/DM-Lab/dmlab/lib/python2.7/site-packages/sklearn/linear_model/logistic.py:1228: UserWarning: 'n_jobs' > 1 does not have any effect when 'solver' is set to 'liblinear'. Got 'n_jobs' = -1.\n",
      "  \" = {}.\".format(self.n_jobs))\n"
     ]
    },
    {
     "name": "stdout",
     "output_type": "stream",
     "text": [
      "['0.731', '0.730', '0.724']\n",
      "0.728\n"
     ]
    }
   ],
   "source": [
    "# Logistic Regression\n",
    "logreg = LogisticRegression(n_jobs=-1)\n",
    "logreg.fit(X_train, Y_train)\n",
    "#Y_pred = logreg.predict(X_test)\n",
    "\n",
    "l_acc_log = cross_val_score(logreg, X_train, Y_train, cv=kf)\n",
    "acc_log = round(np.mean(l_acc_log), 3)\n",
    "\n",
    "l_acc_log = ['%.3f' % elem for elem in l_acc_log]\n",
    "print l_acc_log\n",
    "print acc_log"
   ]
  },
  {
   "cell_type": "code",
   "execution_count": 12,
   "metadata": {
    "collapsed": false
   },
   "outputs": [
    {
     "name": "stdout",
     "output_type": "stream",
     "text": [
      "['0.736', '0.738', '0.738']\n",
      "0.737\n"
     ]
    }
   ],
   "source": [
    "# Random Forest (slow)\n",
    "\n",
    "random_forest = RandomForestClassifier(n_estimators=200, max_depth=20, n_jobs=-1)\n",
    "random_forest.fit(X_train, Y_train)\n",
    "#Y_pred = random_forest.predict(X_test)\n",
    "\n",
    "l_acc_random_forest = cross_val_score(random_forest, X_train, Y_train, cv=kf)\n",
    "acc_random_forest = round(np.mean(l_acc_random_forest), 3)\n",
    "\n",
    "l_acc_random_forest = ['%.3f' % elem for elem in l_acc_random_forest]\n",
    "print l_acc_random_forest\n",
    "print acc_random_forest"
   ]
  },
  {
   "cell_type": "code",
   "execution_count": 13,
   "metadata": {
    "collapsed": false
   },
   "outputs": [
    {
     "name": "stdout",
     "output_type": "stream",
     "text": [
      "['0.727', '0.726', '0.724']\n",
      "0.726\n"
     ]
    }
   ],
   "source": [
    "# Linear SVC\n",
    "linear_svc = LinearSVC(C=1.0)\n",
    "linear_svc.fit(X_train, Y_train)\n",
    "#Y_pred = linear_svc.predict(X_test)\n",
    "\n",
    "l_acc_linear_svc = cross_val_score(linear_svc, X_train, Y_train, cv=kf)\n",
    "acc_linear_svc = round(np.mean(l_acc_linear_svc), 3)\n",
    "l_acc_linear_svc = ['%.3f' % elem for elem in l_acc_linear_svc]\n",
    "print l_acc_linear_svc\n",
    "print acc_linear_svc"
   ]
  },
  {
   "cell_type": "code",
   "execution_count": 14,
   "metadata": {
    "collapsed": false
   },
   "outputs": [
    {
     "name": "stdout",
     "output_type": "stream",
     "text": [
      "predict-sub2-woflags-newsplit-sample20000\n"
     ]
    },
    {
     "data": {
      "text/html": [
       "<div>\n",
       "<style scoped>\n",
       "    .dataframe tbody tr th:only-of-type {\n",
       "        vertical-align: middle;\n",
       "    }\n",
       "\n",
       "    .dataframe tbody tr th {\n",
       "        vertical-align: top;\n",
       "    }\n",
       "\n",
       "    .dataframe thead th {\n",
       "        text-align: right;\n",
       "    }\n",
       "</style>\n",
       "<table border=\"1\" class=\"dataframe\">\n",
       "  <thead>\n",
       "    <tr style=\"text-align: right;\">\n",
       "      <th></th>\n",
       "      <th>Cross Validation</th>\n",
       "      <th>Cross Validation Mean</th>\n",
       "      <th>Model</th>\n",
       "    </tr>\n",
       "  </thead>\n",
       "  <tbody>\n",
       "    <tr>\n",
       "      <th>1</th>\n",
       "      <td>[0.736, 0.738, 0.738]</td>\n",
       "      <td>0.737</td>\n",
       "      <td>Random Forest</td>\n",
       "    </tr>\n",
       "    <tr>\n",
       "      <th>0</th>\n",
       "      <td>[0.731, 0.730, 0.724]</td>\n",
       "      <td>0.728</td>\n",
       "      <td>Logistic Regression</td>\n",
       "    </tr>\n",
       "    <tr>\n",
       "      <th>2</th>\n",
       "      <td>[0.727, 0.726, 0.724]</td>\n",
       "      <td>0.726</td>\n",
       "      <td>Linear SVC</td>\n",
       "    </tr>\n",
       "  </tbody>\n",
       "</table>\n",
       "</div>"
      ],
      "text/plain": [
       "        Cross Validation  Cross Validation Mean                Model\n",
       "1  [0.736, 0.738, 0.738]                  0.737        Random Forest\n",
       "0  [0.731, 0.730, 0.724]                  0.728  Logistic Regression\n",
       "2  [0.727, 0.726, 0.724]                  0.726           Linear SVC"
      ]
     },
     "execution_count": 14,
     "metadata": {},
     "output_type": "execute_result"
    }
   ],
   "source": [
    "print 'predict-sub2-woflags-newsplit-sample20000'\n",
    "models = pd.DataFrame({\n",
    "    'Model': ['Logistic Regression', \n",
    "              'Random Forest','Linear SVC'],\n",
    "    'Cross Validation': [l_acc_log, \n",
    "              l_acc_random_forest, l_acc_linear_svc],\n",
    "    'Cross Validation Mean': [acc_log, \n",
    "              acc_random_forest, acc_linear_svc]\n",
    "    })\n",
    "models.sort_values(by='Cross Validation Mean', ascending=False)\n"
   ]
  }
 ],
 "metadata": {
  "kernelspec": {
   "display_name": "Python 2",
   "language": "python",
   "name": "python2"
  },
  "language_info": {
   "codemirror_mode": {
    "name": "ipython",
    "version": 2
   },
   "file_extension": ".py",
   "mimetype": "text/x-python",
   "name": "python",
   "nbconvert_exporter": "python",
   "pygments_lexer": "ipython2",
   "version": "2.7.10"
  }
 },
 "nbformat": 4,
 "nbformat_minor": 2
}
