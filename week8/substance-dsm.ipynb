{
 "cells": [
  {
   "cell_type": "code",
   "execution_count": 38,
   "metadata": {
    "collapsed": false
   },
   "outputs": [
    {
     "data": {
      "text/plain": [
       "((301619, 62), (148560, 62))"
      ]
     },
     "execution_count": 38,
     "metadata": {},
     "output_type": "execute_result"
    }
   ],
   "source": [
    "#import matplotlib.pyplot as plt\n",
    "#import seaborn as sns\n",
    "\n",
    "\n",
    "import pandas as pd\n",
    "import numpy as np\n",
    "import random as rnd\n",
    "\n",
    "from sklearn.cross_validation import KFold, cross_val_score\n",
    "\n",
    "# machine learning\n",
    "from sklearn.linear_model import LogisticRegression\n",
    "from sklearn.svm import SVC, LinearSVC\n",
    "from sklearn.ensemble import RandomForestClassifier\n",
    "from sklearn.neighbors import KNeighborsClassifier\n",
    "from sklearn.naive_bayes import GaussianNB\n",
    "from sklearn.linear_model import Perceptron\n",
    "from sklearn.linear_model import SGDClassifier\n",
    "from sklearn.tree import DecisionTreeClassifier\n",
    "\n",
    "\n",
    "\n",
    "train_=pd.read_csv('../train_allcols.csv')\n",
    "validate_=pd.read_csv('../validate_allcols.csv')\n",
    "#test=pd.read_csv('../testwDSM.csv')\n",
    "\n",
    "train_.shape, validate_.shape, #test.shape"
   ]
  },
  {
   "cell_type": "code",
   "execution_count": 40,
   "metadata": {
    "collapsed": false
   },
   "outputs": [
    {
     "name": "stdout",
     "output_type": "stream",
     "text": [
      "(295879, 62)\n"
     ]
    }
   ],
   "source": [
    "train = train_.query('DSMCRIT < 14')\n",
    "validate = validate_.query('DSMCRIT < 14')\n",
    "#print train['DSMCRIT'].value_counts()\n",
    "print train.shape"
   ]
  },
  {
   "cell_type": "code",
   "execution_count": 39,
   "metadata": {
    "collapsed": false
   },
   "outputs": [],
   "source": [
    "#alcohol\n",
    "#print train['DSMCRIT'].value_counts() / train['DSMCRIT'].count()\n",
    "#print train['SUB1'].value_counts() / train['SUB1'].count()"
   ]
  },
  {
   "cell_type": "code",
   "execution_count": 41,
   "metadata": {
    "collapsed": false
   },
   "outputs": [],
   "source": [
    "#train.query('SUB1 == 4')['DSMCRIT'].value_counts() / train.query('SUB1 == 4')['DSMCRIT'].count()"
   ]
  },
  {
   "cell_type": "code",
   "execution_count": 11,
   "metadata": {
    "collapsed": false
   },
   "outputs": [
    {
     "data": {
      "text/plain": [
       "((20000, 33),\n",
       " (6000, 33),\n",
       "         AGE  GENDER  RACE  ETHNIC  MARSTAT  EDUC  EMPLOY  DETNLF  PREG  VET  \\\n",
       " 280713    6       1     5       5        1     3       1       0     2    2   \n",
       " 294923   12       2     2       5        4     4       3       0     2    2   \n",
       " \n",
       "          ...     FREQ2  FRSTUSE2  SUB3  ROUTE3  FREQ3  FRSTUSE3  NUMSUBS  IDU  \\\n",
       " 280713   ...         0         0     1       0      0         0        1    1   \n",
       " 294923   ...         0         0     1       0      0         0        1    0   \n",
       " \n",
       "         DSMCRIT  PSYPROB  \n",
       " 280713        8        2  \n",
       " 294923        4        1  \n",
       " \n",
       " [2 rows x 33 columns])"
      ]
     },
     "execution_count": 11,
     "metadata": {},
     "output_type": "execute_result"
    }
   ],
   "source": [
    "#train.describe()\n",
    "train = train.sample(20000)\n",
    "validate = validate.sample(6000)\n",
    "train.shape, validate.shape, validate.head(2)"
   ]
  },
  {
   "cell_type": "code",
   "execution_count": 43,
   "metadata": {
    "collapsed": false
   },
   "outputs": [
    {
     "data": {
      "text/plain": [
       "((295879, 15), (6000, 20))"
      ]
     },
     "execution_count": 43,
     "metadata": {},
     "output_type": "execute_result"
    }
   ],
   "source": [
    "#train = train.query('SUB1 <= 10').query('SUB2 <= 10')\n",
    "#validate = validate.query('SUB1 <= 10').query('SUB2 <= 10')\n",
    "\n",
    "drop_list = ['DSMCRIT',  #'NUMSUBS'\n",
    "             ]\n",
    "drop_list_select = ['RACE', 'PREG', 'ARRESTS', 'PSYPROB', 'DETNLF', 'ETHNIC', 'MARSTAT', 'GENDER', 'EDUC'\n",
    "                   ,'LIVARAG', 'EMPLOY', 'SUB3']\n",
    "\n",
    "retain_list = ['NUMSUBS','ALCDRUG','METHUSE','FRSTUSE1','AGE','COKEFLG','OPSYNFLG','IDU','SERVSETA','ROUTE1',\n",
    "               'MARFLG','MTHAMFLG','HERFLG','ALCFLG','SUB1']\n",
    "X_train = train[retain_list]\n",
    "#X_train = train.drop(drop_list + drop_list_select, axis=1)\n",
    "Y_train = train[\"DSMCRIT\"]\n",
    "#X_validate = validate.drop(drop_list + drop_list_select, axis=1)\n",
    "#Y_validate = validate[\"DSMCRIT\"]\n",
    "#X_test  = test.drop(drop_list, axis=1)\n",
    "X_train.shape, #X_validate.shape, #X_test.shape\n",
    "\n"
   ]
  },
  {
   "cell_type": "code",
   "execution_count": 45,
   "metadata": {
    "collapsed": false
   },
   "outputs": [
    {
     "name": "stdout",
     "output_type": "stream",
     "text": [
      "['NUMSUBS', 'ALCDRUG', 'METHUSE', 'FRSTUSE1', 'AGE', 'COKEFLG', 'OPSYNFLG', 'IDU', 'SERVSETA', 'ROUTE1', 'MARFLG', 'MTHAMFLG', 'HERFLG', 'ALCFLG', 'SUB1']\n"
     ]
    }
   ],
   "source": [
    "print X_train.columns.tolist()"
   ]
  },
  {
   "cell_type": "code",
   "execution_count": 46,
   "metadata": {
    "collapsed": false
   },
   "outputs": [
    {
     "name": "stdout",
     "output_type": "stream",
     "text": [
      "F-score: 3353.38t for feature NUMSUBS\n",
      "F-score: 3470.94t for feature ALCDRUG\n",
      "F-score: 4837.49t for feature METHUSE\n",
      "F-score: 5179.75t for feature FRSTUSE1\n",
      "F-score: 5229.17t for feature AGE\n",
      "F-score: 5535.49t for feature COKEFLG\n",
      "F-score: 5850.56t for feature OPSYNFLG\n",
      "F-score: 6139.50t for feature IDU\n",
      "F-score: 6872.32t for feature SERVSETA\n",
      "F-score: 8451.17t for feature ROUTE1\n",
      "F-score: 8594.47t for feature MARFLG\n",
      "F-score: 10581.44t for feature MTHAMFLG\n",
      "F-score: 14653.08t for feature HERFLG\n",
      "F-score: 17080.00t for feature ALCFLG\n",
      "F-score: 37709.57t for feature SUB1\n"
     ]
    }
   ],
   "source": [
    "from sklearn.feature_selection import SelectKBest, SelectPercentile\n",
    "from sklearn.feature_selection import f_classif,chi2\n",
    "#Selector_f = SelectPercentile(f_classif, percentile=25)\n",
    "Selector_f = SelectKBest(f_classif, k=10)\n",
    "Selector_f.fit(X_train,Y_train)\n",
    "\n",
    "zipped = zip(X_train.columns.tolist(),Selector_f.scores_)\n",
    "ans = sorted(zipped, key=lambda x: x[1])\n",
    "for n,s in ans:\n",
    "     print 'F-score: %3.2ft for feature %s' % (s,n)\n",
    "        \n",
    "        \n",
    "X_train= SelectKBest(f_classif, k=10).fit_transform(X_train, Y_train)\n"
   ]
  },
  {
   "cell_type": "code",
   "execution_count": 47,
   "metadata": {
    "collapsed": false
   },
   "outputs": [
    {
     "data": {
      "text/plain": [
       "((295879, 46),)"
      ]
     },
     "execution_count": 47,
     "metadata": {},
     "output_type": "execute_result"
    }
   ],
   "source": [
    "#one hot\n",
    "from sklearn import preprocessing\n",
    "\n",
    "# 1. INSTANTIATE\n",
    "enc = preprocessing.OneHotEncoder()\n",
    "\n",
    "# 2. FIT\n",
    "enc.fit(X_train)\n",
    "\n",
    "# 3. Transform\n",
    "onehotlabels = enc.transform(X_train).toarray()\n",
    "X_train = onehotlabels\n",
    "\n",
    "#onehotlabels = enc.transform(X_validate).toarray()\n",
    "#X_validate = onehotlabels\n",
    "\n",
    "X_train.shape, #X_validate.shape"
   ]
  },
  {
   "cell_type": "code",
   "execution_count": null,
   "metadata": {
    "collapsed": true
   },
   "outputs": [],
   "source": []
  },
  {
   "cell_type": "code",
   "execution_count": 48,
   "metadata": {
    "collapsed": false
   },
   "outputs": [
    {
     "name": "stdout",
     "output_type": "stream",
     "text": [
      "['0.637', '0.634', '0.633', '0.637', '0.631']\n",
      "0.634\n"
     ]
    }
   ],
   "source": [
    "# Logistic Regression\n",
    "logreg = LogisticRegression(n_jobs=-1)\n",
    "logreg.fit(X_train, Y_train)\n",
    "#Y_pred = logreg.predict(X_test)\n",
    "\n",
    "l_acc_log = cross_val_score(logreg, X_train, Y_train, cv=5)\n",
    "acc_log = round(np.mean(l_acc_log), 3)\n",
    "\n",
    "l_acc_log = ['%.3f' % elem for elem in l_acc_log]\n",
    "print l_acc_log\n",
    "print acc_log"
   ]
  },
  {
   "cell_type": "code",
   "execution_count": null,
   "metadata": {
    "collapsed": false
   },
   "outputs": [
    {
     "name": "stdout",
     "output_type": "stream",
     "text": [
      "['0.639', '0.636', '0.634', '0.638', '0.632']\n",
      "0.636\n"
     ]
    }
   ],
   "source": [
    "# Random Forest (slow)\n",
    "\n",
    "random_forest = RandomForestClassifier(n_estimators=200, max_depth=20, n_jobs=-1)\n",
    "random_forest.fit(X_train, Y_train)\n",
    "#Y_pred = random_forest.predict(X_test)\n",
    "\n",
    "l_acc_random_forest = cross_val_score(random_forest, X_train, Y_train, cv=5)\n",
    "acc_random_forest = round(np.mean(l_acc_random_forest), 3)\n",
    "\n",
    "l_acc_random_forest = ['%.3f' % elem for elem in l_acc_random_forest]\n",
    "print l_acc_random_forest\n",
    "print acc_random_forest"
   ]
  },
  {
   "cell_type": "code",
   "execution_count": null,
   "metadata": {
    "collapsed": false
   },
   "outputs": [],
   "source": [
    "# Linear SVC\n",
    "linear_svc = LinearSVC(C=1.0)\n",
    "linear_svc.fit(X_train, Y_train)\n",
    "#Y_pred = linear_svc.predict(X_test)\n",
    "\n",
    "l_acc_linear_svc = cross_val_score(linear_svc, X_train, Y_train, cv=5)\n",
    "acc_linear_svc = round(np.mean(l_acc_linear_svc), 3)\n",
    "l_acc_linear_svc = ['%.3f' % elem for elem in l_acc_linear_svc]\n",
    "print l_acc_linear_svc\n",
    "print acc_linear_svc"
   ]
  },
  {
   "cell_type": "code",
   "execution_count": null,
   "metadata": {
    "collapsed": false
   },
   "outputs": [],
   "source": [
    "print 'predict-sub2-woflags-newsplit-sample20000'\n",
    "models = pd.DataFrame({\n",
    "    'Model': ['Logistic Regression', \n",
    "              'Random Forest','Linear SVC'],\n",
    "    'Cross Validation': [l_acc_log, \n",
    "              l_acc_random_forest, l_acc_linear_svc],\n",
    "    'Cross Validation Mean': [acc_log, \n",
    "              acc_random_forest, acc_linear_svc]\n",
    "    })\n",
    "models.sort_values(by='Cross Validation Mean', ascending=False)\n"
   ]
  }
 ],
 "metadata": {
  "kernelspec": {
   "display_name": "Python 2",
   "language": "python",
   "name": "python2"
  },
  "language_info": {
   "codemirror_mode": {
    "name": "ipython",
    "version": 2
   },
   "file_extension": ".py",
   "mimetype": "text/x-python",
   "name": "python",
   "nbconvert_exporter": "python",
   "pygments_lexer": "ipython2",
   "version": "2.7.10"
  }
 },
 "nbformat": 4,
 "nbformat_minor": 2
}
