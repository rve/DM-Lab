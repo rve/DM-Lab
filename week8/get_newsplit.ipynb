{
 "cells": [
  {
   "cell_type": "code",
   "execution_count": 2,
   "metadata": {
    "collapsed": false
   },
   "outputs": [
    {
     "data": {
      "text/plain": [
       "(9105077, 62)"
      ]
     },
     "execution_count": 2,
     "metadata": {},
     "output_type": "execute_result"
    }
   ],
   "source": [
    "#import csv from the dataset\n",
    "import pandas as pd\n",
    "import matplotlib.pyplot as plt\n",
    "import seaborn as sns\n",
    "sns.set(font_scale=1)\n",
    "plt.style.use('ggplot')\n",
    "\n",
    "\n",
    "df=pd.read_csv('../final.csv')\n",
    "\n",
    "df.shape"
   ]
  },
  {
   "cell_type": "code",
   "execution_count": 3,
   "metadata": {
    "collapsed": false,
    "scrolled": false
   },
   "outputs": [
    {
     "name": "stderr",
     "output_type": "stream",
     "text": [
      "/Users/arc/Codes/DM-Lab/dmlab/lib/python2.7/site-packages/ipykernel_launcher.py:17: DeprecationWarning: \n",
      ".ix is deprecated. Please use\n",
      ".loc for label based indexing or\n",
      ".iloc for positional indexing\n",
      "\n",
      "See the documentation here:\n",
      "http://pandas.pydata.org/pandas-docs/stable/indexing.html#ix-indexer-is-deprecated\n"
     ]
    },
    {
     "name": "stdout",
     "output_type": "stream",
     "text": [
      "(2207107, 33)\n",
      "['AGE', 'GENDER', 'RACE', 'ETHNIC', 'MARSTAT', 'EDUC', 'EMPLOY', 'DETNLF', 'PREG', 'VET', 'LIVARAG', 'ARRESTS', 'SERVSETA', 'METHUSE', 'PSOURCE', 'DETCRIM', 'NOPRIOR', 'SUB1', 'ROUTE1', 'FREQ1', 'FRSTUSE1', 'SUB2', 'ROUTE2', 'FREQ2', 'FRSTUSE2', 'SUB3', 'ROUTE3', 'FREQ3', 'FRSTUSE3', 'NUMSUBS', 'IDU', 'DSMCRIT', 'PSYPROB']\n"
     ]
    }
   ],
   "source": [
    "#for drop_list_suppl , we'll handle the missing values later\n",
    "drop_list = ['REGION', 'DIVISION', 'PRIMPAY', 'PRIMINC', 'DAYWAIT',\n",
    "             'HLTHINS', 'CBSA10', 'CASEID', 'YEAR', 'STFIPS', \n",
    "             'ALCFLG', 'COKEFLG', 'MARFLG', 'HERFLG', 'METHFLG', 'OPSYNFLG', 'PCPFLG', 'HALLFLG', 'MTHAMFLG', \n",
    "             'AMPHFLG', 'STIMFLG', 'BENZFLG', 'TRNQFLG', 'BARBFLG', 'SEDHPFLG', 'INHFLG', 'OTCFLG', 'OTHERFLG', \n",
    "             'ALCDRUG',]\n",
    "drop_list_suppl = ['FREQ2', 'FREQ3', 'FRSTUSE2', 'FRSTUSE3', 'ROUTE2', 'ROUTE3', ]\n",
    "                      \n",
    "drop_list_suppl = []\n",
    "\n",
    "#howto deal with: priminc\n",
    "#add NOPRIOr freq1 frstuse1 route1 SERVSETA sub3 PSYPROB MARSTAT VET, PSOURCE DETCRIM METHUSE DETNLF IDU PREG\n",
    "train_df = df.drop(drop_list + drop_list_suppl, axis=1)\n",
    "train_df['DETCRIM'].replace(to_replace=[-9], value = 0, inplace=True)\n",
    "train_df['DETNLF'].replace(to_replace=[-9], value = 0, inplace=True)\n",
    "train_df['IDU'].replace(to_replace=[-9], value = 0, inplace=True)\n",
    "train_df.ix[train_df.GENDER.isin([1]), 'PREG'] = 2\n",
    "train_df.ix[train_df.SUB2.isin([1]), 'FREQ2'] = 0\n",
    "train_df.ix[train_df.SUB2.isin([1]), 'FRSTUSE2'] = 0\n",
    "train_df.ix[train_df.SUB2.isin([1]), 'ROUTE2'] = 0\n",
    "train_df.ix[train_df.SUB3.isin([1]), 'FREQ3'] = 0\n",
    "train_df.ix[train_df.SUB3.isin([1]), 'FRSTUSE3'] = 0\n",
    "train_df.ix[train_df.SUB3.isin([1]), 'ROUTE3'] = 0\n",
    "\n",
    "\n",
    "\n",
    "\n",
    "\n",
    "df3 = train_df\n",
    "df3 = df3[(df3 >= 0).all(1)]\n",
    "print df3.shape\n",
    "print df3.columns.tolist()"
   ]
  },
  {
   "cell_type": "code",
   "execution_count": 4,
   "metadata": {
    "collapsed": false
   },
   "outputs": [
    {
     "data": {
      "text/plain": [
       "((1478761, 33),\n",
       " (728346, 33),\n",
       "          AGE  GENDER  RACE  ETHNIC  MARSTAT  EDUC  EMPLOY  DETNLF  PREG  VET  \\\n",
       " 6757734    6       1     5       5        1     3       3       0     2    2   \n",
       " 1607388    5       1    23       5        2     2       3       0     2    2   \n",
       " \n",
       "           ...     FREQ2  FRSTUSE2  SUB3  ROUTE3  FREQ3  FRSTUSE3  NUMSUBS  \\\n",
       " 6757734   ...         5         5    13       3      5         5        3   \n",
       " 1607388   ...         0         0     1       0      0         0        1   \n",
       " \n",
       "          IDU  DSMCRIT  PSYPROB  \n",
       " 6757734    1        5        2  \n",
       " 1607388    0        3        2  \n",
       " \n",
       " [2 rows x 33 columns])"
      ]
     },
     "execution_count": 4,
     "metadata": {},
     "output_type": "execute_result"
    }
   ],
   "source": [
    "from sklearn.model_selection import train_test_split\n",
    "train, validate = train_test_split(df3, test_size=0.33, random_state=42)\n",
    "train.shape, validate.shape, train.head(2)"
   ]
  },
  {
   "cell_type": "code",
   "execution_count": 5,
   "metadata": {
    "collapsed": false
   },
   "outputs": [
    {
     "name": "stdout",
     "output_type": "stream",
     "text": [
      "done\n"
     ]
    }
   ],
   "source": [
    "df3.to_csv('../trainval.csv', index=False)\n",
    "\n",
    "train.to_csv('../train.csv', index=False)\n",
    "validate.to_csv('../validate.csv', index=False)\n",
    "\n",
    "#train.to_csv('../train_abuse.csv', index=False)\n",
    "#validate.to_csv('../validate_abuse.csv', index=False)\n",
    "print 'done'"
   ]
  },
  {
   "cell_type": "code",
   "execution_count": null,
   "metadata": {
    "collapsed": false
   },
   "outputs": [],
   "source": []
  }
 ],
 "metadata": {
  "kernelspec": {
   "display_name": "Python 2",
   "language": "python",
   "name": "python2"
  },
  "language_info": {
   "codemirror_mode": {
    "name": "ipython",
    "version": 2
   },
   "file_extension": ".py",
   "mimetype": "text/x-python",
   "name": "python",
   "nbconvert_exporter": "python",
   "pygments_lexer": "ipython2",
   "version": "2.7.10"
  }
 },
 "nbformat": 4,
 "nbformat_minor": 2
}
