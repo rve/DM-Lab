{
 "cells": [
  {
   "cell_type": "code",
   "execution_count": 42,
   "metadata": {
    "collapsed": false
   },
   "outputs": [
    {
     "data": {
      "text/plain": [
       "((301619, 62), (148560, 62))"
      ]
     },
     "execution_count": 42,
     "metadata": {},
     "output_type": "execute_result"
    }
   ],
   "source": [
    "\n",
    "\n",
    "\n",
    "import pandas as pd\n",
    "import numpy as np\n",
    "import random as rnd\n",
    "\n",
    "from sklearn.cross_validation import KFold, cross_val_score\n",
    "\n",
    "# machine learning\n",
    "from sklearn.linear_model import LogisticRegression\n",
    "from sklearn.svm import SVC, LinearSVC\n",
    "from sklearn.ensemble import RandomForestClassifier\n",
    "from sklearn.neighbors import KNeighborsClassifier\n",
    "from sklearn.naive_bayes import GaussianNB\n",
    "from sklearn.linear_model import Perceptron\n",
    "from sklearn.linear_model import SGDClassifier\n",
    "from sklearn.tree import DecisionTreeClassifier\n",
    "\n",
    "\n",
    "\n",
    "train_=pd.read_csv('../train_allcols.csv')\n",
    "validate_=pd.read_csv('../validate_allcols.csv')\n",
    "#test=pd.read_csv('../testwDSM.csv')\n",
    "\n",
    "train_.shape, validate_.shape, #test.shape"
   ]
  },
  {
   "cell_type": "code",
   "execution_count": 43,
   "metadata": {
    "collapsed": false
   },
   "outputs": [
    {
     "name": "stdout",
     "output_type": "stream",
     "text": [
      "(295879, 62)\n"
     ]
    }
   ],
   "source": [
    "train = train_.query('DSMCRIT < 14')\n",
    "validate = validate_.query('DSMCRIT < 14')\n",
    "#print train['DSMCRIT'].value_counts()\n",
    "print train.shape"
   ]
  },
  {
   "cell_type": "code",
   "execution_count": 44,
   "metadata": {
    "collapsed": false
   },
   "outputs": [],
   "source": [
    "#alcohol\n",
    "#print train['DSMCRIT'].value_counts() / train['DSMCRIT'].count()\n",
    "#print train['SUB1'].value_counts() / train['SUB1'].count()"
   ]
  },
  {
   "cell_type": "code",
   "execution_count": 45,
   "metadata": {
    "collapsed": false
   },
   "outputs": [],
   "source": [
    "#train.query('SUB1 == 4')['DSMCRIT'].value_counts() / train.query('SUB1 == 4')['DSMCRIT'].count()"
   ]
  },
  {
   "cell_type": "code",
   "execution_count": 46,
   "metadata": {
    "collapsed": false
   },
   "outputs": [
    {
     "data": {
      "text/plain": [
       "((10000, 62),)"
      ]
     },
     "execution_count": 46,
     "metadata": {},
     "output_type": "execute_result"
    }
   ],
   "source": [
    "#train.describe()\n",
    "train = train.sample(10000)\n",
    "validate = validate.sample(3000)\n",
    "train.shape, #validate.shape, #validate.head(2)"
   ]
  },
  {
   "cell_type": "code",
   "execution_count": 47,
   "metadata": {
    "collapsed": false
   },
   "outputs": [
    {
     "name": "stderr",
     "output_type": "stream",
     "text": [
      "/Users/arc/Codes/DM-Lab/dmlab/lib/python2.7/site-packages/ipykernel_launcher.py:2: DeprecationWarning: \n",
      ".ix is deprecated. Please use\n",
      ".loc for label based indexing or\n",
      ".iloc for positional indexing\n",
      "\n",
      "See the documentation here:\n",
      "http://pandas.pydata.org/pandas-docs/stable/indexing.html#ix-indexer-is-deprecated\n",
      "  \n",
      "/Users/arc/Codes/DM-Lab/dmlab/lib/python2.7/site-packages/ipykernel_launcher.py:4: DeprecationWarning: \n",
      ".ix is deprecated. Please use\n",
      ".loc for label based indexing or\n",
      ".iloc for positional indexing\n",
      "\n",
      "See the documentation here:\n",
      "http://pandas.pydata.org/pandas-docs/stable/indexing.html#ix-indexer-is-deprecated\n",
      "  after removing the cwd from sys.path.\n"
     ]
    },
    {
     "data": {
      "text/plain": [
       "4     3695\n",
       "7     1346\n",
       "5     1295\n",
       "8     1259\n",
       "3      683\n",
       "6      606\n",
       "2      429\n",
       "1      202\n",
       "13     182\n",
       "11     167\n",
       "0       76\n",
       "12      60\n",
       "Name: DSMCRIT, dtype: int64"
      ]
     },
     "execution_count": 47,
     "metadata": {},
     "output_type": "execute_result"
    }
   ],
   "source": [
    "#frist classifier: merge 4&9 -> 4, 7&10  -> 7\n",
    "train.ix[train.DSMCRIT.isin([9]), 'DSMCRIT'] = 4\n",
    "train.ix[train.DSMCRIT.isin([10]), 'DSMCRIT'] = 7\n",
    "validate.ix[validate.DSMCRIT.isin([9]), 'DSMCRIT'] = 4\n",
    "validate.ix[validate.DSMCRIT.isin([10]), 'DSMCRIT'] = 7\n",
    "\n",
    "\n",
    "train['DSMCRIT'].value_counts()"
   ]
  },
  {
   "cell_type": "code",
   "execution_count": 48,
   "metadata": {
    "collapsed": false
   },
   "outputs": [
    {
     "data": {
      "text/plain": [
       "((10000, 42),)"
      ]
     },
     "execution_count": 48,
     "metadata": {},
     "output_type": "execute_result"
    }
   ],
   "source": [
    "#train = train.query('SUB1 <= 10').query('SUB2 <= 10')\n",
    "#validate = validate.query('SUB1 <= 10').query('SUB2 <= 10')\n",
    "\n",
    "drop_list = ['DSMCRIT',  #'NUMSUBS'\n",
    "             ]\n",
    "drop_list_select = ['RACE', 'PREG', 'ARRESTS', 'PSYPROB', 'DETNLF', 'ETHNIC', 'MARSTAT', 'GENDER', 'EDUC'\n",
    "                   ,'LIVARAG', 'EMPLOY', 'SUB3']\n",
    "\n",
    "retain_list = ['RACE','PCPFLG','PRIMINC','LIVARAG','BENZFLG','HLTHINS','GENDER','ROUTE3','PRIMPAY',\n",
    "               'MARSTAT','PSYPROB','ROUTE2','EMPLOY','SUB2','FRSTUSE3','FREQ3','FRSTUSE2','OTHERFLG',\n",
    "               'EDUC','FREQ2','FREQ1','YEAR',\n",
    "               'PSOURCE','DETCRIM','DIVISION','REGION','NOPRIOR','NUMSUBS','ALCDRUG',\n",
    "               'METHUSE','FRSTUSE1','AGE','COKEFLG','OPSYNFLG','IDU','SERVSETA','ROUTE1','MARFLG',\n",
    "               'MTHAMFLG','HERFLG',\n",
    "               'ALCFLG','SUB1']\n",
    "X_train = train[retain_list]\n",
    "#X_train = train.drop(drop_list + drop_list_select, axis=1)\n",
    "Y_train = train[\"DSMCRIT\"]\n",
    "X_validate = validate[retain_list]\n",
    "Y_validate = validate[\"DSMCRIT\"]\n",
    "#X_test  = test.drop(drop_list, axis=1)\n",
    "X_train.shape, #X_validate.shape, #X_test.shape\n",
    "\n"
   ]
  },
  {
   "cell_type": "code",
   "execution_count": null,
   "metadata": {
    "collapsed": false
   },
   "outputs": [],
   "source": []
  },
  {
   "cell_type": "code",
   "execution_count": 49,
   "metadata": {
    "collapsed": false
   },
   "outputs": [
    {
     "name": "stdout",
     "output_type": "stream",
     "text": [
      "['RACE', 'PCPFLG', 'PRIMINC', 'LIVARAG', 'BENZFLG', 'HLTHINS', 'GENDER', 'ROUTE3', 'PRIMPAY', 'MARSTAT', 'PSYPROB', 'ROUTE2', 'EMPLOY', 'SUB2', 'FRSTUSE3', 'FREQ3', 'FRSTUSE2', 'OTHERFLG', 'EDUC', 'FREQ2', 'FREQ1', 'YEAR', 'PSOURCE', 'DETCRIM', 'DIVISION', 'REGION', 'NOPRIOR', 'NUMSUBS', 'ALCDRUG', 'METHUSE', 'FRSTUSE1', 'AGE', 'COKEFLG', 'OPSYNFLG', 'IDU', 'SERVSETA', 'ROUTE1', 'MARFLG', 'MTHAMFLG', 'HERFLG', 'ALCFLG', 'SUB1']\n"
     ]
    }
   ],
   "source": [
    "print X_train.columns.tolist()"
   ]
  },
  {
   "cell_type": "code",
   "execution_count": 50,
   "metadata": {
    "collapsed": false
   },
   "outputs": [
    {
     "name": "stdout",
     "output_type": "stream",
     "text": [
      "F-score: 19.48t for feature RACE\n",
      "F-score: 21.02t for feature PRIMINC\n",
      "F-score: 23.39t for feature LIVARAG\n",
      "F-score: 25.86t for feature PCPFLG\n",
      "F-score: 27.27t for feature HLTHINS\n",
      "F-score: 28.19t for feature ROUTE3\n",
      "F-score: 30.07t for feature BENZFLG\n",
      "F-score: 30.19t for feature PSYPROB\n",
      "F-score: 30.59t for feature GENDER\n",
      "F-score: 31.72t for feature EMPLOY\n",
      "F-score: 34.05t for feature MARSTAT\n",
      "F-score: 36.42t for feature PRIMPAY\n",
      "F-score: 37.54t for feature ROUTE2\n",
      "F-score: 37.99t for feature FRSTUSE3\n",
      "F-score: 41.62t for feature SUB2\n",
      "F-score: 48.40t for feature FREQ3\n",
      "F-score: 58.00t for feature FREQ1\n",
      "F-score: 59.54t for feature FRSTUSE2\n",
      "F-score: 61.72t for feature OTHERFLG\n",
      "F-score: 62.90t for feature PSOURCE\n",
      "F-score: 67.12t for feature NOPRIOR\n",
      "F-score: 69.37t for feature FREQ2\n",
      "F-score: 74.77t for feature DETCRIM\n",
      "F-score: 75.69t for feature EDUC\n",
      "F-score: 98.62t for feature YEAR\n",
      "F-score: 115.35t for feature REGION\n",
      "F-score: 115.71t for feature NUMSUBS\n",
      "F-score: 118.50t for feature DIVISION\n",
      "F-score: 125.59t for feature ALCDRUG\n",
      "F-score: 177.51t for feature AGE\n",
      "F-score: 197.22t for feature FRSTUSE1\n",
      "F-score: 204.94t for feature COKEFLG\n",
      "F-score: 219.94t for feature IDU\n",
      "F-score: 228.86t for feature METHUSE\n",
      "F-score: 245.75t for feature OPSYNFLG\n",
      "F-score: 277.08t for feature SERVSETA\n",
      "F-score: 322.55t for feature ROUTE1\n",
      "F-score: 327.91t for feature MARFLG\n",
      "F-score: 445.56t for feature MTHAMFLG\n",
      "F-score: 563.48t for feature HERFLG\n",
      "F-score: 667.33t for feature ALCFLG\n",
      "F-score: 1476.70t for feature SUB1\n"
     ]
    }
   ],
   "source": [
    "from sklearn.feature_selection import SelectKBest, SelectPercentile\n",
    "from sklearn.feature_selection import f_classif,chi2\n",
    "#Selector_f = SelectPercentile(f_classif, percentile=25)\n",
    "Selector_f = SelectKBest(f_classif, k=10)\n",
    "Selector_f.fit(X_train,Y_train)\n",
    "\n",
    "zipped = zip(X_train.columns.tolist(),Selector_f.scores_)\n",
    "ans = sorted(zipped, key=lambda x: x[1])\n",
    "for n,s in ans:\n",
    "     print 'F-score: %3.2ft for feature %s' % (s,n)\n",
    "        \n",
    "        \n",
    "#X_train= SelectKBest(f_classif, k=10).fit_transform(X_train, Y_train)\n"
   ]
  },
  {
   "cell_type": "code",
   "execution_count": 51,
   "metadata": {
    "collapsed": false
   },
   "outputs": [
    {
     "data": {
      "text/plain": [
       "((10000, 241),)"
      ]
     },
     "execution_count": 51,
     "metadata": {},
     "output_type": "execute_result"
    }
   ],
   "source": [
    "#one hot\n",
    "from sklearn import preprocessing\n",
    "\n",
    "# 1. INSTANTIATE\n",
    "enc = preprocessing.OneHotEncoder()\n",
    "\n",
    "# 2. FIT\n",
    "enc.fit(X_train)\n",
    "\n",
    "# 3. Transform\n",
    "onehotlabels = enc.transform(X_train).toarray()\n",
    "X_train = onehotlabels\n",
    "\n",
    "onehotlabels = enc.transform(X_validate).toarray()\n",
    "X_validate = onehotlabels\n",
    "\n",
    "X_train.shape, #X_validate.shape"
   ]
  },
  {
   "cell_type": "code",
   "execution_count": 52,
   "metadata": {
    "collapsed": true
   },
   "outputs": [],
   "source": [
    "#kfold\n",
    "kf = 3"
   ]
  },
  {
   "cell_type": "code",
   "execution_count": 53,
   "metadata": {
    "collapsed": false
   },
   "outputs": [
    {
     "name": "stdout",
     "output_type": "stream",
     "text": [
      "['0.806', '0.812', '0.806']\n",
      "0.808\n"
     ]
    }
   ],
   "source": [
    "# Logistic Regression\n",
    "logreg = LogisticRegression(n_jobs=-1)\n",
    "logreg.fit(X_train, Y_train)\n",
    "#Y_pred = logreg.predict(X_test)\n",
    "\n",
    "l_acc_log = cross_val_score(logreg, X_train, Y_train, cv=kf)\n",
    "acc_log = round(np.mean(l_acc_log), 3)\n",
    "\n",
    "l_acc_log = ['%.3f' % elem for elem in l_acc_log]\n",
    "print l_acc_log\n",
    "print acc_log"
   ]
  },
  {
   "cell_type": "code",
   "execution_count": 67,
   "metadata": {
    "collapsed": false
   },
   "outputs": [
    {
     "name": "stdout",
     "output_type": "stream",
     "text": [
      "['0.807', '0.813', '0.809']\n",
      "0.81\n"
     ]
    }
   ],
   "source": [
    "# Random Forest (slow)\n",
    "\n",
    "random_forest = RandomForestClassifier(n_estimators=50, max_depth=20, n_jobs=-1)\n",
    "random_forest.fit(X_train, Y_train)\n",
    "#Y_pred = random_forest.predict(X_test)\n",
    "\n",
    "l_acc_random_forest = cross_val_score(random_forest, X_train, Y_train, cv=kf)\n",
    "acc_random_forest = round(np.mean(l_acc_random_forest), 3)\n",
    "\n",
    "l_acc_random_forest = ['%.3f' % elem for elem in l_acc_random_forest]\n",
    "print l_acc_random_forest\n",
    "print acc_random_forest"
   ]
  },
  {
   "cell_type": "code",
   "execution_count": 55,
   "metadata": {
    "collapsed": false
   },
   "outputs": [
    {
     "name": "stdout",
     "output_type": "stream",
     "text": [
      "['0.803', '0.806', '0.807']\n",
      "0.805\n"
     ]
    }
   ],
   "source": [
    "# Linear SVC\n",
    "linear_svc = LinearSVC(C=1.0)\n",
    "linear_svc.fit(X_train, Y_train)\n",
    "#Y_pred = linear_svc.predict(X_test)\n",
    "\n",
    "l_acc_linear_svc = cross_val_score(linear_svc, X_train, Y_train, cv=kf)\n",
    "acc_linear_svc = round(np.mean(l_acc_linear_svc), 3)\n",
    "l_acc_linear_svc = ['%.3f' % elem for elem in l_acc_linear_svc]\n",
    "print l_acc_linear_svc\n",
    "print acc_linear_svc"
   ]
  },
  {
   "cell_type": "code",
   "execution_count": 56,
   "metadata": {
    "collapsed": false
   },
   "outputs": [
    {
     "name": "stdout",
     "output_type": "stream",
     "text": [
      "predict-sub2-woflags-newsplit-sample20000\n",
      "        Cross Validation  Cross Validation Mean                Model\n",
      "1  [0.813, 0.813, 0.808]                  0.811        Random Forest\n",
      "0  [0.806, 0.812, 0.806]                  0.808  Logistic Regression\n",
      "2  [0.803, 0.806, 0.807]                  0.805           Linear SVC\n"
     ]
    }
   ],
   "source": [
    "print 'predict-sub2-woflags-newsplit-sample20000'\n",
    "models = pd.DataFrame({\n",
    "    'Model': ['Logistic Regression', \n",
    "              'Random Forest','Linear SVC'],\n",
    "    'Cross Validation': [l_acc_log, \n",
    "              l_acc_random_forest, l_acc_linear_svc],\n",
    "    'Cross Validation Mean': [acc_log, \n",
    "              acc_random_forest, acc_linear_svc]\n",
    "    })\n",
    "print models.sort_values(by='Cross Validation Mean', ascending=False)\n"
   ]
  },
  {
   "cell_type": "code",
   "execution_count": 57,
   "metadata": {
    "collapsed": false
   },
   "outputs": [
    {
     "name": "stdout",
     "output_type": "stream",
     "text": [
      "Confusion matrix, without normalization\n",
      "[[ 168   46    1    0    0    0    0    0]\n",
      " [   3 1069    2    8   10    8    0    0]\n",
      " [   0   10  379    7    4   10    0    0]\n",
      " [   0    4    4  129    7    5    0    0]\n",
      " [   0   13    5    6  369   10    0    0]\n",
      " [   0   34   40   14   21  252    0    0]\n",
      " [   0    0    0    0    0    0    0    0]\n",
      " [   0    0    0    0    0    0    0    0]]\n"
     ]
    },
    {
     "data": {
      "image/png": "[encoded data removed]",
      "text/plain": [
       "<matplotlib.figure.Figure at 0x12cae1bd0>"
      ]
     },
     "metadata": {},
     "output_type": "display_data"
    },
    {
     "name": "stderr",
     "output_type": "stream",
     "text": [
      "/Users/arc/Codes/DM-Lab/dmlab/lib/python2.7/site-packages/ipykernel_launcher.py:22: RuntimeWarning: invalid value encountered in divide\n"
     ]
    },
    {
     "name": "stdout",
     "output_type": "stream",
     "text": [
      "Normalized confusion matrix\n",
      "[[ 0.78  0.21  0.    0.    0.    0.    0.    0.  ]\n",
      " [ 0.    0.97  0.    0.01  0.01  0.01  0.    0.  ]\n",
      " [ 0.    0.02  0.92  0.02  0.01  0.02  0.    0.  ]\n",
      " [ 0.    0.03  0.03  0.87  0.05  0.03  0.    0.  ]\n",
      " [ 0.    0.03  0.01  0.01  0.92  0.02  0.    0.  ]\n",
      " [ 0.    0.09  0.11  0.04  0.06  0.7   0.    0.  ]\n",
      " [  nan   nan   nan   nan   nan   nan   nan   nan]\n",
      " [  nan   nan   nan   nan   nan   nan   nan   nan]]\n"
     ]
    },
    {
     "data": {
      "image/png": "[encoded data removed]",
      "text/plain": [
       "<matplotlib.figure.Figure at 0x113248310>"
      ]
     },
     "metadata": {},
     "output_type": "display_data"
    }
   ],
   "source": [
    "import matplotlib.pyplot as plt\n",
    "import seaborn as sns\n",
    "\n",
    "Y_pred = random_forest.predict(X_validate)\n",
    "\n",
    "\n",
    "from sklearn.metrics import confusion_matrix\n",
    "\n",
    "cm = confusion_matrix(Y_validate, Y_pred, labels=[3,4,5,6,7,8,9,10])\n",
    "\n",
    "import itertools\n",
    "\n",
    "def plot_confusion_matrix(cm, classes,\n",
    "                          normalize=False,\n",
    "                          title='Confusion matrix',\n",
    "                          cmap=plt.cm.Blues):\n",
    "    \"\"\"\n",
    "    This function prints and plots the confusion matrix.\n",
    "    Normalization can be applied by setting `normalize=True`.\n",
    "    \"\"\"\n",
    "    if normalize:\n",
    "        cm = cm.astype('float') / cm.sum(axis=1)[:, np.newaxis]\n",
    "        print(\"Normalized confusion matrix\")\n",
    "    else:\n",
    "        print('Confusion matrix, without normalization')\n",
    "\n",
    "    print(cm)\n",
    "\n",
    "    plt.imshow(cm, interpolation='nearest', cmap=cmap)\n",
    "    plt.title(title)\n",
    "    plt.colorbar()\n",
    "    tick_marks = np.arange(len(classes))\n",
    "    plt.xticks(tick_marks, classes, rotation=45)\n",
    "    plt.yticks(tick_marks, classes)\n",
    "\n",
    "    fmt = '.2f' if normalize else 'd'\n",
    "    thresh = cm.max() / 2.\n",
    "    for i, j in itertools.product(range(cm.shape[0]), range(cm.shape[1])):\n",
    "        plt.text(j, i, format(cm[i, j], fmt),\n",
    "                 horizontalalignment=\"center\",\n",
    "                 color=\"white\" if cm[i, j] > thresh else \"black\")\n",
    "\n",
    "    plt.tight_layout()\n",
    "    plt.ylabel('True label')\n",
    "    plt.xlabel('Predicted label')\n",
    "\n",
    "# Compute confusion matrix\n",
    "cnf_matrix = cm #confusion_matrix(y_test, Y_pred)\n",
    "#class_names = [\"ANXIETY\",\"DEPRESS\",\"SCHIZOPHRENIA\",\"BIPOLAR\",\"ATTENTION DEFICIT\"]\n",
    "class_names = [3,4,5,6,7,8,9,10]\n",
    "np.set_printoptions(precision=2)\n",
    "\n",
    "# Plot non-normalized confusion matrix\n",
    "plt.figure()\n",
    "plot_confusion_matrix(cnf_matrix, class_names,\n",
    "                      title='Confusion Matrix, without normalization')\n",
    "\n",
    "\n",
    "#plt.savefig('cnf matrix', dpi=150)\n",
    "plt.show()\n",
    "\n",
    "# Plot normalized confusion matrix\n",
    "plt.figure()\n",
    "plot_confusion_matrix(cnf_matrix, classes=class_names, normalize=True,\n",
    "                      title='Normalized Confusion Matrix')\n",
    "\n",
    "#plt.figure(figsize=(16,8))\n",
    "#plt.savefig('cnf matrix norm', dpi=150)\n",
    "plt.show()\n"
   ]
  },
  {
   "cell_type": "code",
   "execution_count": 58,
   "metadata": {
    "collapsed": false
   },
   "outputs": [
    {
     "name": "stdout",
     "output_type": "stream",
     "text": [
      "(3000, 241) (3000,) (3000,)\n",
      "81.33\n"
     ]
    }
   ],
   "source": [
    "print X_validate.shape,Y_pred.shape, Y_validate.shape\n",
    "print  round(random_forest.score(X_validate, Y_validate) * 100, 2)\n"
   ]
  }
 ],
 "metadata": {
  "kernelspec": {
   "display_name": "Python 2",
   "language": "python",
   "name": "python2"
  },
  "language_info": {
   "codemirror_mode": {
    "name": "ipython",
    "version": 2
   },
   "file_extension": ".py",
   "mimetype": "text/x-python",
   "name": "python",
   "nbconvert_exporter": "python",
   "pygments_lexer": "ipython2",
   "version": "2.7.10"
  }
 },
 "nbformat": 4,
 "nbformat_minor": 2
}
