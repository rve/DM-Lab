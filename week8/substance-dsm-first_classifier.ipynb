{
 "cells": [
  {
   "cell_type": "code",
   "execution_count": 2,
   "metadata": {
    "collapsed": false
   },
   "outputs": [
    {
     "name": "stderr",
     "output_type": "stream",
     "text": [
      "/Users/arc/Codes/DM-Lab/dmlab/lib/python2.7/site-packages/sklearn/cross_validation.py:41: DeprecationWarning: This module was deprecated in version 0.18 in favor of the model_selection module into which all the refactored classes and functions are moved. Also note that the interface of the new CV iterators are different from that of this module. This module will be removed in 0.20.\n",
      "  \"This module will be removed in 0.20.\", DeprecationWarning)\n"
     ]
    },
    {
     "data": {
      "text/plain": [
       "((301619, 62), (148560, 62))"
      ]
     },
     "execution_count": 2,
     "metadata": {},
     "output_type": "execute_result"
    }
   ],
   "source": [
    "\n",
    "\n",
    "\n",
    "import pandas as pd\n",
    "import numpy as np\n",
    "import random as rnd\n",
    "\n",
    "from sklearn.cross_validation import KFold, cross_val_score\n",
    "\n",
    "# machine learning\n",
    "from sklearn.linear_model import LogisticRegression\n",
    "from sklearn.svm import SVC, LinearSVC\n",
    "from sklearn.ensemble import RandomForestClassifier\n",
    "from sklearn.neighbors import KNeighborsClassifier\n",
    "from sklearn.naive_bayes import GaussianNB\n",
    "from sklearn.linear_model import Perceptron\n",
    "from sklearn.linear_model import SGDClassifier\n",
    "from sklearn.tree import DecisionTreeClassifier\n",
    "\n",
    "\n",
    "\n",
    "train_=pd.read_csv('../train_allcols.csv')\n",
    "validate_=pd.read_csv('../validate_allcols.csv')\n",
    "#test=pd.read_csv('../testwDSM.csv')\n",
    "\n",
    "train_.shape, validate_.shape, #test.shape"
   ]
  },
  {
   "cell_type": "code",
   "execution_count": 3,
   "metadata": {
    "collapsed": false
   },
   "outputs": [
    {
     "name": "stdout",
     "output_type": "stream",
     "text": [
      "(295879, 62)\n"
     ]
    }
   ],
   "source": [
    "train = train_.query('DSMCRIT < 14')\n",
    "validate = validate_.query('DSMCRIT < 14')\n",
    "#print train['DSMCRIT'].value_counts()\n",
    "print train.shape"
   ]
  },
  {
   "cell_type": "code",
   "execution_count": 4,
   "metadata": {
    "collapsed": false
   },
   "outputs": [],
   "source": [
    "#alcohol\n",
    "#print train['DSMCRIT'].value_counts() / train['DSMCRIT'].count()\n",
    "#print train['SUB1'].value_counts() / train['SUB1'].count()"
   ]
  },
  {
   "cell_type": "code",
   "execution_count": 5,
   "metadata": {
    "collapsed": false
   },
   "outputs": [],
   "source": [
    "#train.query('SUB1 == 4')['DSMCRIT'].value_counts() / train.query('SUB1 == 4')['DSMCRIT'].count()"
   ]
  },
  {
   "cell_type": "code",
   "execution_count": 6,
   "metadata": {
    "collapsed": false
   },
   "outputs": [
    {
     "data": {
      "text/plain": [
       "((10000, 62),)"
      ]
     },
     "execution_count": 6,
     "metadata": {},
     "output_type": "execute_result"
    }
   ],
   "source": [
    "#train.describe()\n",
    "train = train.sample(10000)\n",
    "validate = validate.sample(3000)\n",
    "train.shape, #validate.shape, #validate.head(2)"
   ]
  },
  {
   "cell_type": "code",
   "execution_count": 7,
   "metadata": {
    "collapsed": false
   },
   "outputs": [
    {
     "name": "stderr",
     "output_type": "stream",
     "text": [
      "/Users/arc/Codes/DM-Lab/dmlab/lib/python2.7/site-packages/ipykernel_launcher.py:2: DeprecationWarning: \n",
      ".ix is deprecated. Please use\n",
      ".loc for label based indexing or\n",
      ".iloc for positional indexing\n",
      "\n",
      "See the documentation here:\n",
      "http://pandas.pydata.org/pandas-docs/stable/indexing.html#ix-indexer-is-deprecated\n",
      "  \n",
      "/Users/arc/Codes/DM-Lab/dmlab/lib/python2.7/site-packages/ipykernel_launcher.py:4: DeprecationWarning: \n",
      ".ix is deprecated. Please use\n",
      ".loc for label based indexing or\n",
      ".iloc for positional indexing\n",
      "\n",
      "See the documentation here:\n",
      "http://pandas.pydata.org/pandas-docs/stable/indexing.html#ix-indexer-is-deprecated\n",
      "  after removing the cwd from sys.path.\n"
     ]
    },
    {
     "data": {
      "text/plain": [
       "4     3606\n",
       "7     1356\n",
       "5     1341\n",
       "8     1303\n",
       "3      687\n",
       "6      566\n",
       "2      419\n",
       "1      212\n",
       "13     196\n",
       "11     180\n",
       "12      74\n",
       "0       60\n",
       "Name: DSMCRIT, dtype: int64"
      ]
     },
     "execution_count": 7,
     "metadata": {},
     "output_type": "execute_result"
    }
   ],
   "source": [
    "#frist classifier: merge 4&9 -> 4, 7&10  -> 7\n",
    "train.ix[train.DSMCRIT.isin([9]), 'DSMCRIT'] = 4\n",
    "train.ix[train.DSMCRIT.isin([10]), 'DSMCRIT'] = 7\n",
    "validate.ix[validate.DSMCRIT.isin([9]), 'DSMCRIT'] = 4\n",
    "validate.ix[validate.DSMCRIT.isin([10]), 'DSMCRIT'] = 7\n",
    "\n",
    "\n",
    "train['DSMCRIT'].value_counts()"
   ]
  },
  {
   "cell_type": "code",
   "execution_count": 8,
   "metadata": {
    "collapsed": false
   },
   "outputs": [
    {
     "data": {
      "text/plain": [
       "((10000, 42),)"
      ]
     },
     "execution_count": 8,
     "metadata": {},
     "output_type": "execute_result"
    }
   ],
   "source": [
    "#train = train.query('SUB1 <= 10').query('SUB2 <= 10')\n",
    "#validate = validate.query('SUB1 <= 10').query('SUB2 <= 10')\n",
    "\n",
    "drop_list = ['DSMCRIT',  #'NUMSUBS'\n",
    "             ]\n",
    "drop_list_select = ['RACE', 'PREG', 'ARRESTS', 'PSYPROB', 'DETNLF', 'ETHNIC', 'MARSTAT', 'GENDER', 'EDUC'\n",
    "                   ,'LIVARAG', 'EMPLOY', 'SUB3']\n",
    "\n",
    "retain_list = ['RACE','PCPFLG','PRIMINC','LIVARAG','BENZFLG','HLTHINS','GENDER','ROUTE3','PRIMPAY',\n",
    "               'MARSTAT','PSYPROB','ROUTE2','EMPLOY','SUB2','FRSTUSE3','FREQ3','FRSTUSE2','OTHERFLG',\n",
    "               'EDUC','FREQ2','FREQ1','YEAR',\n",
    "               'PSOURCE','DETCRIM','DIVISION','REGION','NOPRIOR','NUMSUBS','ALCDRUG',\n",
    "               'METHUSE','FRSTUSE1','AGE','COKEFLG','OPSYNFLG','IDU','SERVSETA','ROUTE1','MARFLG',\n",
    "               'MTHAMFLG','HERFLG',\n",
    "               'ALCFLG','SUB1']\n",
    "X_train = train[retain_list]\n",
    "#X_train = train.drop(drop_list + drop_list_select, axis=1)\n",
    "Y_train = train[\"DSMCRIT\"]\n",
    "X_validate = validate[retain_list]\n",
    "Y_validate = validate[\"DSMCRIT\"]\n",
    "#X_test  = test.drop(drop_list, axis=1)\n",
    "X_train.shape, #X_validate.shape, #X_test.shape\n",
    "\n"
   ]
  },
  {
   "cell_type": "code",
   "execution_count": null,
   "metadata": {
    "collapsed": false
   },
   "outputs": [],
   "source": []
  },
  {
   "cell_type": "code",
   "execution_count": 9,
   "metadata": {
    "collapsed": false
   },
   "outputs": [
    {
     "name": "stdout",
     "output_type": "stream",
     "text": [
      "['RACE', 'PCPFLG', 'PRIMINC', 'LIVARAG', 'BENZFLG', 'HLTHINS', 'GENDER', 'ROUTE3', 'PRIMPAY', 'MARSTAT', 'PSYPROB', 'ROUTE2', 'EMPLOY', 'SUB2', 'FRSTUSE3', 'FREQ3', 'FRSTUSE2', 'OTHERFLG', 'EDUC', 'FREQ2', 'FREQ1', 'YEAR', 'PSOURCE', 'DETCRIM', 'DIVISION', 'REGION', 'NOPRIOR', 'NUMSUBS', 'ALCDRUG', 'METHUSE', 'FRSTUSE1', 'AGE', 'COKEFLG', 'OPSYNFLG', 'IDU', 'SERVSETA', 'ROUTE1', 'MARFLG', 'MTHAMFLG', 'HERFLG', 'ALCFLG', 'SUB1']\n"
     ]
    }
   ],
   "source": [
    "print X_train.columns.tolist()"
   ]
  },
  {
   "cell_type": "code",
   "execution_count": 10,
   "metadata": {
    "collapsed": false
   },
   "outputs": [
    {
     "name": "stdout",
     "output_type": "stream",
     "text": [
      "F-score: 19.38t for feature RACE\n",
      "F-score: 21.49t for feature PCPFLG\n",
      "F-score: 23.96t for feature PRIMINC\n",
      "F-score: 26.38t for feature LIVARAG\n",
      "F-score: 26.63t for feature HLTHINS\n",
      "F-score: 30.96t for feature PSYPROB\n",
      "F-score: 31.19t for feature ROUTE3\n",
      "F-score: 32.10t for feature BENZFLG\n",
      "F-score: 32.27t for feature GENDER\n",
      "F-score: 33.66t for feature MARSTAT\n",
      "F-score: 34.67t for feature PRIMPAY\n",
      "F-score: 42.08t for feature EMPLOY\n",
      "F-score: 45.95t for feature SUB2\n",
      "F-score: 46.35t for feature ROUTE2\n",
      "F-score: 53.83t for feature FRSTUSE3\n",
      "F-score: 54.66t for feature FREQ3\n",
      "F-score: 56.63t for feature NOPRIOR\n",
      "F-score: 64.66t for feature FRSTUSE2\n",
      "F-score: 66.54t for feature OTHERFLG\n",
      "F-score: 67.15t for feature EDUC\n",
      "F-score: 68.45t for feature FREQ2\n",
      "F-score: 72.54t for feature FREQ1\n",
      "F-score: 75.48t for feature PSOURCE\n",
      "F-score: 78.13t for feature DETCRIM\n",
      "F-score: 96.18t for feature YEAR\n",
      "F-score: 110.37t for feature REGION\n",
      "F-score: 110.63t for feature DIVISION\n",
      "F-score: 123.98t for feature NUMSUBS\n",
      "F-score: 130.76t for feature ALCDRUG\n",
      "F-score: 169.41t for feature AGE\n",
      "F-score: 197.72t for feature METHUSE\n",
      "F-score: 201.95t for feature COKEFLG\n",
      "F-score: 207.36t for feature FRSTUSE1\n",
      "F-score: 239.75t for feature OPSYNFLG\n",
      "F-score: 249.04t for feature IDU\n",
      "F-score: 294.01t for feature SERVSETA\n",
      "F-score: 337.77t for feature MARFLG\n",
      "F-score: 364.07t for feature ROUTE1\n",
      "F-score: 365.38t for feature MTHAMFLG\n",
      "F-score: 567.43t for feature HERFLG\n",
      "F-score: 679.53t for feature ALCFLG\n",
      "F-score: 1461.32t for feature SUB1\n"
     ]
    }
   ],
   "source": [
    "from sklearn.feature_selection import SelectKBest, SelectPercentile\n",
    "from sklearn.feature_selection import f_classif,chi2\n",
    "#Selector_f = SelectPercentile(f_classif, percentile=25)\n",
    "Selector_f = SelectKBest(f_classif, k=10)\n",
    "Selector_f.fit(X_train,Y_train)\n",
    "\n",
    "zipped = zip(X_train.columns.tolist(),Selector_f.scores_)\n",
    "ans = sorted(zipped, key=lambda x: x[1])\n",
    "for n,s in ans:\n",
    "     print 'F-score: %3.2ft for feature %s' % (s,n)\n",
    "        \n",
    "        \n",
    "#X_train= SelectKBest(f_classif, k=10).fit_transform(X_train, Y_train)\n"
   ]
  },
  {
   "cell_type": "code",
   "execution_count": 11,
   "metadata": {
    "collapsed": false
   },
   "outputs": [
    {
     "data": {
      "text/plain": [
       "((10000, 240),)"
      ]
     },
     "execution_count": 11,
     "metadata": {},
     "output_type": "execute_result"
    }
   ],
   "source": [
    "#one hot\n",
    "from sklearn import preprocessing\n",
    "\n",
    "# 1. INSTANTIATE\n",
    "enc = preprocessing.OneHotEncoder()\n",
    "\n",
    "# 2. FIT\n",
    "enc.fit(X_train)\n",
    "\n",
    "# 3. Transform\n",
    "onehotlabels = enc.transform(X_train).toarray()\n",
    "X_train = onehotlabels\n",
    "\n",
    "onehotlabels = enc.transform(X_validate).toarray()\n",
    "X_validate = onehotlabels\n",
    "\n",
    "X_train.shape, #X_validate.shape"
   ]
  },
  {
   "cell_type": "code",
   "execution_count": 12,
   "metadata": {
    "collapsed": true
   },
   "outputs": [],
   "source": [
    "#kfold\n",
    "kf = 3"
   ]
  },
  {
   "cell_type": "code",
   "execution_count": 13,
   "metadata": {
    "collapsed": false
   },
   "outputs": [
    {
     "name": "stderr",
     "output_type": "stream",
     "text": [
      "/Users/arc/Codes/DM-Lab/dmlab/lib/python2.7/site-packages/sklearn/linear_model/logistic.py:1228: UserWarning: 'n_jobs' > 1 does not have any effect when 'solver' is set to 'liblinear'. Got 'n_jobs' = -1.\n",
      "  \" = {}.\".format(self.n_jobs))\n"
     ]
    },
    {
     "name": "stdout",
     "output_type": "stream",
     "text": [
      "['0.796', '0.789', '0.791']\n",
      "0.792\n"
     ]
    }
   ],
   "source": [
    "# Logistic Regression\n",
    "logreg = LogisticRegression(n_jobs=-1)\n",
    "logreg.fit(X_train, Y_train)\n",
    "#Y_pred = logreg.predict(X_test)\n",
    "\n",
    "l_acc_log = cross_val_score(logreg, X_train, Y_train, cv=kf)\n",
    "acc_log = round(np.mean(l_acc_log), 3)\n",
    "\n",
    "l_acc_log = ['%.3f' % elem for elem in l_acc_log]\n",
    "print l_acc_log\n",
    "print acc_log"
   ]
  },
  {
   "cell_type": "code",
   "execution_count": 14,
   "metadata": {
    "collapsed": false
   },
   "outputs": [
    {
     "name": "stdout",
     "output_type": "stream",
     "text": [
      "['0.803', '0.799', '0.801']\n",
      "0.801\n"
     ]
    }
   ],
   "source": [
    "# Random Forest (slow)\n",
    "\n",
    "random_forest = RandomForestClassifier(n_estimators=50, max_depth=20, n_jobs=-1)\n",
    "random_forest.fit(X_train, Y_train)\n",
    "#Y_pred = random_forest.predict(X_test)\n",
    "\n",
    "l_acc_random_forest = cross_val_score(random_forest, X_train, Y_train, cv=kf)\n",
    "acc_random_forest = round(np.mean(l_acc_random_forest), 3)\n",
    "\n",
    "l_acc_random_forest = ['%.3f' % elem for elem in l_acc_random_forest]\n",
    "print l_acc_random_forest\n",
    "print acc_random_forest"
   ]
  },
  {
   "cell_type": "code",
   "execution_count": 15,
   "metadata": {
    "collapsed": false
   },
   "outputs": [
    {
     "name": "stdout",
     "output_type": "stream",
     "text": [
      "['0.793', '0.790', '0.793']\n",
      "0.792\n"
     ]
    }
   ],
   "source": [
    "# Linear SVC\n",
    "linear_svc = LinearSVC(C=1.0)\n",
    "linear_svc.fit(X_train, Y_train)\n",
    "#Y_pred = linear_svc.predict(X_test)\n",
    "\n",
    "l_acc_linear_svc = cross_val_score(linear_svc, X_train, Y_train, cv=kf)\n",
    "acc_linear_svc = round(np.mean(l_acc_linear_svc), 3)\n",
    "l_acc_linear_svc = ['%.3f' % elem for elem in l_acc_linear_svc]\n",
    "print l_acc_linear_svc\n",
    "print acc_linear_svc"
   ]
  },
  {
   "cell_type": "code",
   "execution_count": 16,
   "metadata": {
    "collapsed": false
   },
   "outputs": [
    {
     "name": "stdout",
     "output_type": "stream",
     "text": [
      "predict-sub2-woflags-newsplit-sample20000\n",
      "        Cross Validation  Cross Validation Mean                Model\n",
      "1  [0.803, 0.799, 0.801]                  0.801        Random Forest\n",
      "0  [0.796, 0.789, 0.791]                  0.792  Logistic Regression\n",
      "2  [0.793, 0.790, 0.793]                  0.792           Linear SVC\n"
     ]
    }
   ],
   "source": [
    "print 'predict-sub2-woflags-newsplit-sample20000'\n",
    "models = pd.DataFrame({\n",
    "    'Model': ['Logistic Regression', \n",
    "              'Random Forest','Linear SVC'],\n",
    "    'Cross Validation': [l_acc_log, \n",
    "              l_acc_random_forest, l_acc_linear_svc],\n",
    "    'Cross Validation Mean': [acc_log, \n",
    "              acc_random_forest, acc_linear_svc]\n",
    "    })\n",
    "print models.sort_values(by='Cross Validation Mean', ascending=False)\n"
   ]
  },
  {
   "cell_type": "code",
   "execution_count": 17,
   "metadata": {
    "collapsed": false
   },
   "outputs": [
    {
     "name": "stdout",
     "output_type": "stream",
     "text": [
      "Confusion matrix, without normalization\n",
      "[[   1    0    0    0    5    6    3    2    0    0    0    0]\n",
      " [   0    4    0    0   44    0    0    1    0    0    0    0]\n",
      " [   0    2   40    0   20   30   10   20   13    0    0    0]\n",
      " [   0    0    0  150   56    0    1    0    0    0    0    0]\n",
      " [   0    4    2    3 1059    8    9   18    7    0    0    0]\n",
      " [   0    0    1    0    4  365    0    4    9    0    1    1]\n",
      " [   0    0    0    0    9    1  139    8    5    0    0   14]\n",
      " [   0    0    0    0   17    3    3  381   11    1    0    1]\n",
      " [   0    0    0    0   33   34    8   20  283    2    0    0]\n",
      " [   0    0    0    0    4    1    2    4   42    3    0    0]\n",
      " [   0    0    0    0    1   10    0    0    0    0    0    0]\n",
      " [   0    0    0    0    0    0   38    2    2    0    0   15]]\n"
     ]
    },
    {
     "data": {
      "image/png": "[encoded data removed]",
      "text/plain": [
       "<matplotlib.figure.Figure at 0x1101d4a90>"
      ]
     },
     "metadata": {},
     "output_type": "display_data"
    },
    {
     "name": "stdout",
     "output_type": "stream",
     "text": [
      "Normalized confusion matrix\n",
      "[[ 0.06  0.    0.    0.    0.29  0.35  0.18  0.12  0.    0.    0.    0.  ]\n",
      " [ 0.    0.08  0.    0.    0.9   0.    0.    0.02  0.    0.    0.    0.  ]\n",
      " [ 0.    0.01  0.3   0.    0.15  0.22  0.07  0.15  0.1   0.    0.    0.  ]\n",
      " [ 0.    0.    0.    0.72  0.27  0.    0.    0.    0.    0.    0.    0.  ]\n",
      " [ 0.    0.    0.    0.    0.95  0.01  0.01  0.02  0.01  0.    0.    0.  ]\n",
      " [ 0.    0.    0.    0.    0.01  0.95  0.    0.01  0.02  0.    0.    0.  ]\n",
      " [ 0.    0.    0.    0.    0.05  0.01  0.79  0.05  0.03  0.    0.    0.08]\n",
      " [ 0.    0.    0.    0.    0.04  0.01  0.01  0.91  0.03  0.    0.    0.  ]\n",
      " [ 0.    0.    0.    0.    0.09  0.09  0.02  0.05  0.74  0.01  0.    0.  ]\n",
      " [ 0.    0.    0.    0.    0.07  0.02  0.04  0.07  0.75  0.05  0.    0.  ]\n",
      " [ 0.    0.    0.    0.    0.09  0.91  0.    0.    0.    0.    0.    0.  ]\n",
      " [ 0.    0.    0.    0.    0.    0.    0.67  0.04  0.04  0.    0.    0.26]]\n"
     ]
    },
    {
     "data": {
      "image/png": "[encoded data removed]",
      "text/plain": [
       "<matplotlib.figure.Figure at 0x114b1bfd0>"
      ]
     },
     "metadata": {},
     "output_type": "display_data"
    }
   ],
   "source": [
    "import matplotlib.pyplot as plt\n",
    "import seaborn as sns\n",
    "\n",
    "Y_pred = random_forest.predict(X_validate)\n",
    "\n",
    "\n",
    "from sklearn.metrics import confusion_matrix\n",
    "\n",
    "cm = confusion_matrix(Y_validate, Y_pred, labels=[0,1,2,3,4,5,6,7,8,11,12,13])\n",
    "\n",
    "import itertools\n",
    "\n",
    "def plot_confusion_matrix(cm, classes,\n",
    "                          normalize=False,\n",
    "                          title='Confusion matrix',\n",
    "                          cmap=plt.cm.Blues):\n",
    "    \"\"\"\n",
    "    This function prints and plots the confusion matrix.\n",
    "    Normalization can be applied by setting `normalize=True`.\n",
    "    \"\"\"\n",
    "    if normalize:\n",
    "        cm = cm.astype('float') / cm.sum(axis=1)[:, np.newaxis]\n",
    "        print(\"Normalized confusion matrix\")\n",
    "    else:\n",
    "        print('Confusion matrix, without normalization')\n",
    "\n",
    "    print(cm)\n",
    "\n",
    "    plt.imshow(cm, interpolation='nearest', cmap=cmap)\n",
    "    plt.title(title)\n",
    "    plt.colorbar()\n",
    "    tick_marks = np.arange(len(classes))\n",
    "    plt.xticks(tick_marks, classes, rotation=45)\n",
    "    plt.yticks(tick_marks, classes)\n",
    "\n",
    "    fmt = '.2f' if normalize else 'd'\n",
    "    thresh = cm.max() / 2.\n",
    "    for i, j in itertools.product(range(cm.shape[0]), range(cm.shape[1])):\n",
    "        plt.text(j, i, format(cm[i, j], fmt),\n",
    "                 horizontalalignment=\"center\",\n",
    "                 color=\"white\" if cm[i, j] > thresh else \"black\")\n",
    "\n",
    "    plt.tight_layout()\n",
    "    plt.ylabel('True label')\n",
    "    plt.xlabel('Predicted label')\n",
    "\n",
    "# Compute confusion matrix\n",
    "cnf_matrix = cm #confusion_matrix(y_test, Y_pred)\n",
    "#class_names = [\"ANXIETY\",\"DEPRESS\",\"SCHIZOPHRENIA\",\"BIPOLAR\",\"ATTENTION DEFICIT\"]\n",
    "class_names = [0,1,2,3,4,5,6,7,8,11,12,13]\n",
    "np.set_printoptions(precision=2)\n",
    "\n",
    "# Plot non-normalized confusion matrix\n",
    "plt.figure()\n",
    "plot_confusion_matrix(cnf_matrix, class_names,\n",
    "                      title='Confusion Matrix, without normalization')\n",
    "\n",
    "\n",
    "#plt.savefig('cnf matrix', dpi=150)\n",
    "plt.show()\n",
    "\n",
    "# Plot normalized confusion matrix\n",
    "plt.figure()\n",
    "plot_confusion_matrix(cnf_matrix, classes=class_names, normalize=True,\n",
    "                      title='Normalized Confusion Matrix')\n",
    "\n",
    "#plt.figure(figsize=(16,8))\n",
    "#plt.savefig('cnf matrix norm', dpi=150)\n",
    "plt.show()\n"
   ]
  },
  {
   "cell_type": "code",
   "execution_count": 18,
   "metadata": {
    "collapsed": false
   },
   "outputs": [
    {
     "name": "stdout",
     "output_type": "stream",
     "text": [
      "(3000, 240) (3000,) (3000,)\n",
      "81.33\n"
     ]
    }
   ],
   "source": [
    "print X_validate.shape,Y_pred.shape, Y_validate.shape\n",
    "print  round(random_forest.score(X_validate, Y_validate) * 100, 2)\n"
   ]
  }
 ],
 "metadata": {
  "kernelspec": {
   "display_name": "Python 2",
   "language": "python",
   "name": "python2"
  },
  "language_info": {
   "codemirror_mode": {
    "name": "ipython",
    "version": 2
   },
   "file_extension": ".py",
   "mimetype": "text/x-python",
   "name": "python",
   "nbconvert_exporter": "python",
   "pygments_lexer": "ipython2",
   "version": "2.7.10"
  }
 },
 "nbformat": 4,
 "nbformat_minor": 2
}
