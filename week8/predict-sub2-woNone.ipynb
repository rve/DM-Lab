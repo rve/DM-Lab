{
 "cells": [
  {
   "cell_type": "code",
   "execution_count": 153,
   "metadata": {
    "collapsed": false
   },
   "outputs": [
    {
     "data": {
      "text/plain": [
       "((301619, 62), (148560, 62))"
      ]
     },
     "execution_count": 153,
     "metadata": {},
     "output_type": "execute_result"
    }
   ],
   "source": [
    "#visualization part\n",
    "#import matplotlib.pyplot as plt\n",
    "#import seaborn as sns\n",
    "\n",
    "\n",
    "#basic libs\n",
    "import pandas as pd\n",
    "import numpy as np\n",
    "import random as rnd\n",
    "\n",
    "from sklearn.model_selection import cross_val_score\n",
    "\n",
    "# machine learning\n",
    "from sklearn.linear_model import LogisticRegression\n",
    "from sklearn.svm import SVC, LinearSVC\n",
    "from sklearn.ensemble import RandomForestClassifier\n",
    "from sklearn.neighbors import KNeighborsClassifier\n",
    "from sklearn.naive_bayes import GaussianNB\n",
    "from sklearn.linear_model import Perceptron\n",
    "from sklearn.linear_model import SGDClassifier\n",
    "from sklearn.tree import DecisionTreeClassifier\n",
    "\n",
    "\n",
    "\n",
    "train_=pd.read_csv('../train_allcols.csv')\n",
    "validate_=pd.read_csv('../validate_allcols.csv')\n",
    "#test=pd.read_csv('../testwDSM.csv')\n",
    "\n",
    "train_.shape, validate_.shape, #test.shape"
   ]
  },
  {
   "cell_type": "code",
   "execution_count": 154,
   "metadata": {
    "collapsed": false
   },
   "outputs": [
    {
     "data": {
      "text/plain": [
       "((301619, 62),)"
      ]
     },
     "execution_count": 154,
     "metadata": {},
     "output_type": "execute_result"
    }
   ],
   "source": [
    "#train.describe()\n",
    "train = train_.sample(10000)\n",
    "validate = validate_.sample(10000)\n",
    "train_.shape, #validate_.shape, validate.head(2)"
   ]
  },
  {
   "cell_type": "code",
   "execution_count": 155,
   "metadata": {
    "collapsed": false
   },
   "outputs": [
    {
     "name": "stdout",
     "output_type": "stream",
     "text": [
      "(4771, 62)\n",
      "4     1690\n",
      "2     1391\n",
      "3      770\n",
      "10     401\n",
      "7      377\n",
      "5      142\n",
      "Name: SUB2, dtype: int64\n"
     ]
    }
   ],
   "source": [
    "train = train.query('SUB2 != 1')\n",
    "validate = validate.query('SUB2 != 1')\n",
    "\n",
    "train = train[train.SUB2.isin([2,3,4,5,7,10])]\n",
    "validate = validate[validate.SUB2.isin([2,3,4,5,7,10])]\n",
    "print train.shape\n",
    "print train['SUB2'].value_counts()"
   ]
  },
  {
   "cell_type": "code",
   "execution_count": 156,
   "metadata": {
    "collapsed": false
   },
   "outputs": [
    {
     "name": "stdout",
     "output_type": "stream",
     "text": [
      "F-score: 0.81t for feature PREG\n",
      "F-score: 0.96t for feature DAYWAIT\n",
      "F-score: 1.58t for feature VET\n",
      "F-score: 1.81t for feature ARRESTS\n",
      "F-score: 2.31t for feature CBSA10\n",
      "F-score: 3.29t for feature DETNLF\n",
      "F-score: 3.62t for feature PRIMPAY\n",
      "F-score: 4.02t for feature ETHNIC\n",
      "F-score: 4.69t for feature RACE\n",
      "F-score: 4.83t for feature PRIMINC\n",
      "F-score: 6.77t for feature LIVARAG\n",
      "F-score: 6.80t for feature EMPLOY\n",
      "F-score: 8.97t for feature PSYPROB\n",
      "F-score: 9.31t for feature MARSTAT\n",
      "F-score: 10.07t for feature SUB3\n",
      "F-score: 10.27t for feature SERVSETA\n",
      "F-score: 10.29t for feature STFIPS\n",
      "F-score: 10.66t for feature REGION\n",
      "F-score: 11.08t for feature ROUTE3\n",
      "F-score: 12.66t for feature GENDER\n",
      "F-score: 14.37t for feature HLTHINS\n",
      "F-score: 15.62t for feature FRSTUSE1\n",
      "F-score: 15.77t for feature YEAR\n",
      "F-score: 15.86t for feature DETCRIM\n",
      "F-score: 16.18t for feature CASEID\n",
      "F-score: 17.38t for feature NOPRIOR\n",
      "F-score: 18.59t for feature FREQ2\n",
      "F-score: 19.11t for feature DIVISION\n",
      "F-score: 19.15t for feature PSOURCE\n",
      "F-score: 19.58t for feature FREQ1\n",
      "F-score: 19.62t for feature FRSTUSE3\n",
      "F-score: 21.08t for feature EDUC\n",
      "F-score: 22.84t for feature ROUTE1\n",
      "F-score: 24.07t for feature METHUSE\n",
      "F-score: 28.07t for feature NUMSUBS\n",
      "F-score: 28.42t for feature SUB1\n",
      "F-score: 31.67t for feature FREQ3\n",
      "F-score: 44.01t for feature AGE\n",
      "F-score: 48.63t for feature DSMCRIT\n",
      "F-score: 74.85t for feature IDU\n",
      "F-score: 264.49t for feature ROUTE2\n",
      "F-score: 272.33t for feature ALCDRUG\n",
      "F-score: 365.29t for feature FRSTUSE2\n"
     ]
    }
   ],
   "source": [
    "# for sub2\n",
    "\n",
    "\n",
    "\n",
    "X_train = train.drop(['SUB2'], axis=1)\n",
    "Y_train = train[\"SUB2\"]\n",
    "\n",
    "from sklearn.feature_selection import SelectKBest, SelectPercentile\n",
    "from sklearn.feature_selection import f_classif,chi2\n",
    "#Selector_f = SelectPercentile(f_classif, percentile=25)\n",
    "Selector_f = SelectKBest(f_classif, k=10)\n",
    "Selector_f.fit(X_train,Y_train)\n",
    "\n",
    "zipped = zip(X_train.columns.tolist(),Selector_f.scores_)\n",
    "ans = sorted(zipped, key=lambda x: x[1])\n",
    "for n,s in ans:    \n",
    "    if 'FLG' in n: \n",
    "        pass\n",
    "    else:\n",
    "        print 'F-score: %3.2ft for feature %s' % (s,n)\n",
    "                \n",
    "#print X_train.columns.tolist()"
   ]
  },
  {
   "cell_type": "code",
   "execution_count": 157,
   "metadata": {
    "collapsed": false
   },
   "outputs": [
    {
     "name": "stdout",
     "output_type": "stream",
     "text": [
      "'PREG','DAYWAIT','VET','ARRESTS','CBSA10','DETNLF','PRIMPAY','ETHNIC','RACE','PRIMINC','LIVARAG','EMPLOY','PSYPROB','MARSTAT','SUB3','SERVSETA','STFIPS','REGION','ROUTE3','GENDER','HLTHINS','FRSTUSE1','YEAR','DETCRIM','CASEID','NOPRIOR','FREQ2','DIVISION','PSOURCE','FREQ1','FRSTUSE3','EDUC','ROUTE1','METHUSE','NUMSUBS','SUB1','FREQ3','AGE','DSMCRIT','IDU','ROUTE2','ALCDRUG','FRSTUSE2',"
     ]
    }
   ],
   "source": [
    "# get the sorted feature list\n",
    "import sys\n",
    "for n, s in ans:\n",
    "    \n",
    "    if 'FLG' in n: \n",
    "        pass\n",
    "    else:\n",
    "        sys.stdout.write('\\'%s\\',' % (n))\n"
   ]
  },
  {
   "cell_type": "code",
   "execution_count": 158,
   "metadata": {
    "collapsed": false
   },
   "outputs": [
    {
     "data": {
      "text/plain": [
       "((4771, 23), (4784, 23))"
      ]
     },
     "execution_count": 158,
     "metadata": {},
     "output_type": "execute_result"
    }
   ],
   "source": [
    "#train = train.query('SUB1 <= 10').query('SUB2 <= 10')\n",
    "#validate = validate.query('SUB1 <= 10').query('SUB2 <= 10')\n",
    "\n",
    "drop_list = ['SUB2',  'ROUTE2', 'FREQ2', 'FRSTUSE2', 'SUB3', 'ROUTE3', 'FREQ3', 'FRSTUSE3', 'NUMSUBS'\n",
    "             ]\n",
    "retain_list = ['EMPLOY','GENDER','FREQ1','YEAR','EDUC','PSYPROB','PSOURCE','SERVSETA','DETCRIM',\n",
    "               'REGION','NOPRIOR','DIVISION','DSMCRIT','ROUTE1','SUB1','AGE','IDU','SUB3','ROUTE3',\n",
    "               'FREQ3','FRSTUSE3','FREQ2','FRSTUSE2']\n",
    "X_train = train[retain_list]\n",
    "Y_train = train[\"SUB2\"]\n",
    "X_validate = validate[retain_list]\n",
    "Y_validate = validate[\"SUB2\"]\n",
    "#X_test  = test.drop(drop_list, axis=1)\n",
    "X_train.shape, X_validate.shape, #X_test.shape\n",
    "\n"
   ]
  },
  {
   "cell_type": "code",
   "execution_count": 159,
   "metadata": {
    "collapsed": false
   },
   "outputs": [
    {
     "name": "stdout",
     "output_type": "stream",
     "text": [
      "['EMPLOY', 'GENDER', 'FREQ1', 'YEAR', 'EDUC', 'PSYPROB', 'PSOURCE', 'SERVSETA', 'DETCRIM', 'REGION', 'NOPRIOR', 'DIVISION', 'DSMCRIT', 'ROUTE1', 'SUB1', 'AGE', 'IDU', 'SUB3', 'ROUTE3', 'FREQ3', 'FRSTUSE3', 'FREQ2', 'FRSTUSE2']\n"
     ]
    }
   ],
   "source": [
    "print X_train.columns.tolist()"
   ]
  },
  {
   "cell_type": "code",
   "execution_count": 160,
   "metadata": {
    "collapsed": false
   },
   "outputs": [
    {
     "data": {
      "text/plain": [
       "((4771, 184), (4784, 184))"
      ]
     },
     "execution_count": 160,
     "metadata": {},
     "output_type": "execute_result"
    }
   ],
   "source": [
    "#one hot\n",
    "from sklearn import preprocessing\n",
    "\n",
    "# 1. INSTANTIATE\n",
    "enc = preprocessing.OneHotEncoder()\n",
    "\n",
    "# 2. FIT\n",
    "enc.fit(X_train)\n",
    "\n",
    "# 3. Transform\n",
    "onehotlabels = enc.transform(X_train).toarray()\n",
    "#onehotlabels.shape\n",
    "X_train = onehotlabels\n",
    "\n",
    "onehotlabels = enc.transform(X_validate).toarray()\n",
    "X_validate = onehotlabels\n",
    "\n",
    "X_train.shape, X_validate.shape"
   ]
  },
  {
   "cell_type": "code",
   "execution_count": 161,
   "metadata": {
    "collapsed": false
   },
   "outputs": [
    {
     "name": "stdout",
     "output_type": "stream",
     "text": [
      "67.85\n"
     ]
    }
   ],
   "source": [
    "# Logistic Regression\n",
    "logreg = LogisticRegression(C=1)\n",
    "logreg.fit(X_train, Y_train)\n",
    "#Y_pred = logreg.predict(X_test)\n",
    "acc_log = round(logreg.score(X_validate, Y_validate) * 100, 2)\n",
    "print acc_log\n"
   ]
  },
  {
   "cell_type": "code",
   "execution_count": 162,
   "metadata": {
    "collapsed": false
   },
   "outputs": [
    {
     "name": "stdout",
     "output_type": "stream",
     "text": [
      "58.59\n"
     ]
    }
   ],
   "source": [
    "# Perceptron\n",
    "\n",
    "perceptron = Perceptron()\n",
    "perceptron.fit(X_train, Y_train)\n",
    "#Y_pred = perceptron.predict(X_test)\n",
    "acc_perceptron = round(perceptron.score(X_validate, Y_validate) * 100, 2)\n",
    "print acc_perceptron\n"
   ]
  },
  {
   "cell_type": "code",
   "execution_count": 163,
   "metadata": {
    "collapsed": false
   },
   "outputs": [
    {
     "name": "stdout",
     "output_type": "stream",
     "text": [
      "60.16\n"
     ]
    }
   ],
   "source": [
    "# Stochastic Gradient Descent\n",
    "\n",
    "sgd = SGDClassifier()\n",
    "sgd.fit(X_train, Y_train)\n",
    "#Y_pred = sgd.predict(X_test)\n",
    "acc_sgd = round(sgd.score(X_validate, Y_validate) * 100, 2)\n",
    "print acc_sgd\n"
   ]
  },
  {
   "cell_type": "code",
   "execution_count": 164,
   "metadata": {
    "collapsed": false
   },
   "outputs": [
    {
     "name": "stdout",
     "output_type": "stream",
     "text": [
      "61.68\n"
     ]
    }
   ],
   "source": [
    "# Random Forest (slow)\n",
    "\n",
    "random_forest = RandomForestClassifier(max_depth=20)\n",
    "random_forest.fit(X_train, Y_train)\n",
    "#Y_pred = random_forest.predict(X_test)\n",
    "random_forest.score(X_train, Y_train)\n",
    "acc_random_forest = round(random_forest.score(X_validate, Y_validate) * 100, 2)\n",
    "print acc_random_forest\n",
    "\n",
    "#print cross_val_score(random_forest, X_validate, Y_validate)"
   ]
  },
  {
   "cell_type": "code",
   "execution_count": 165,
   "metadata": {
    "collapsed": false
   },
   "outputs": [
    {
     "name": "stdout",
     "output_type": "stream",
     "text": [
      "52.13\n"
     ]
    }
   ],
   "source": [
    "from sklearn.ensemble import GradientBoostingClassifier,\\\n",
    " AdaBoostClassifier, RandomForestClassifier\n",
    "#Adaboost \n",
    "ada_boost = AdaBoostClassifier()\n",
    "ada_boost.fit(X_train, Y_train) \n",
    "\n",
    "acc_ada = round(ada_boost.score(X_validate, Y_validate) * 100, 2)\n",
    "print acc_ada\n"
   ]
  },
  {
   "cell_type": "code",
   "execution_count": 166,
   "metadata": {
    "collapsed": false
   },
   "outputs": [
    {
     "name": "stdout",
     "output_type": "stream",
     "text": [
      "61.2\n"
     ]
    }
   ],
   "source": [
    "# Stochastic Gradient Descent\n",
    "sgd = SGDClassifier()\n",
    "sgd.fit(X_train, Y_train)\n",
    "#Y_pred = sgd.predict(X_test)\n",
    "acc_sgd = round(sgd.score(X_validate, Y_validate) * 100, 2)\n",
    "print acc_sgd\n"
   ]
  },
  {
   "cell_type": "code",
   "execution_count": 167,
   "metadata": {
    "collapsed": false
   },
   "outputs": [
    {
     "name": "stdout",
     "output_type": "stream",
     "text": [
      "67.66\n"
     ]
    }
   ],
   "source": [
    "# Linear SVC\n",
    "linear_svc = LinearSVC(C=1)\n",
    "linear_svc.fit(X_train, Y_train)\n",
    "#Y_pred = linear_svc.predict(X_test)\n",
    "acc_linear_svc = round(linear_svc.score(X_validate, Y_validate) * 100, 2)\n",
    "print acc_linear_svc\n"
   ]
  },
  {
   "cell_type": "code",
   "execution_count": 168,
   "metadata": {
    "collapsed": false
   },
   "outputs": [
    {
     "name": "stdout",
     "output_type": "stream",
     "text": [
      "predict-top6-sub2-allcols-sample10000\n",
      "                        Model  Validate Set Score\n",
      "0         Logistic Regression               67.85\n",
      "4                  Linear SVC               67.66\n",
      "1               Random Forest               61.68\n",
      "3  Stochastic Gradient Decent               61.20\n",
      "2                  Perceptron               58.59\n",
      "5                    AdaBoost               52.13\n"
     ]
    }
   ],
   "source": [
    "print 'predict-top6-sub2-allcols-sample10000'\n",
    "models = pd.DataFrame({\n",
    "    'Model': [ 'Logistic Regression', \n",
    "              'Random Forest',  'Perceptron', \n",
    "              'Stochastic Gradient Decent', 'Linear SVC', \n",
    "               'AdaBoost'],\n",
    "    'Validate Set Score': [acc_log, \n",
    "              acc_random_forest,  acc_perceptron, \n",
    "              acc_sgd, acc_linear_svc, acc_ada]\n",
    "    })\n",
    "print models.sort_values(by='Validate Set Score', ascending=False)\n"
   ]
  }
 ],
 "metadata": {
  "kernelspec": {
   "display_name": "Python 2",
   "language": "python",
   "name": "python2"
  },
  "language_info": {
   "codemirror_mode": {
    "name": "ipython",
    "version": 2
   },
   "file_extension": ".py",
   "mimetype": "text/x-python",
   "name": "python",
   "nbconvert_exporter": "python",
   "pygments_lexer": "ipython2",
   "version": "2.7.10"
  }
 },
 "nbformat": 4,
 "nbformat_minor": 2
}
