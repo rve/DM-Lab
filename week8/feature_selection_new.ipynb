{
 "cells": [
  {
   "cell_type": "code",
   "execution_count": 1,
   "metadata": {
    "collapsed": false
   },
   "outputs": [
    {
     "data": {
      "text/plain": [
       "(9105077, 62)"
      ]
     },
     "execution_count": 1,
     "metadata": {},
     "output_type": "execute_result"
    }
   ],
   "source": [
    "import pandas as pd\n",
    "df=pd.read_csv('../final.csv')\n",
    "df.shape"
   ]
  },
  {
   "cell_type": "code",
   "execution_count": 2,
   "metadata": {
    "collapsed": false,
    "scrolled": false
   },
   "outputs": [
    {
     "name": "stderr",
     "output_type": "stream",
     "text": [
      "/Users/arc/Codes/DM-Lab/dmlab/lib/python2.7/site-packages/ipykernel_launcher.py:18: DeprecationWarning: \n",
      ".ix is deprecated. Please use\n",
      ".loc for label based indexing or\n",
      ".iloc for positional indexing\n",
      "\n",
      "See the documentation here:\n",
      "http://pandas.pydata.org/pandas-docs/stable/indexing.html#ix-indexer-is-deprecated\n"
     ]
    },
    {
     "name": "stdout",
     "output_type": "stream",
     "text": [
      "(450179, 62)\n",
      "['CASEID', 'YEAR', 'AGE', 'GENDER', 'RACE', 'ETHNIC', 'MARSTAT', 'EDUC', 'EMPLOY', 'DETNLF', 'PREG', 'VET', 'LIVARAG', 'PRIMINC', 'ARRESTS', 'STFIPS', 'CBSA10', 'REGION', 'DIVISION', 'SERVSETA', 'METHUSE', 'DAYWAIT', 'PSOURCE', 'DETCRIM', 'NOPRIOR', 'SUB1', 'ROUTE1', 'FREQ1', 'FRSTUSE1', 'SUB2', 'ROUTE2', 'FREQ2', 'FRSTUSE2', 'SUB3', 'ROUTE3', 'FREQ3', 'FRSTUSE3', 'NUMSUBS', 'IDU', 'ALCFLG', 'COKEFLG', 'MARFLG', 'HERFLG', 'METHFLG', 'OPSYNFLG', 'PCPFLG', 'HALLFLG', 'MTHAMFLG', 'AMPHFLG', 'STIMFLG', 'BENZFLG', 'TRNQFLG', 'BARBFLG', 'SEDHPFLG', 'INHFLG', 'OTCFLG', 'OTHERFLG', 'ALCDRUG', 'DSMCRIT', 'PSYPROB', 'HLTHINS', 'PRIMPAY']\n"
     ]
    }
   ],
   "source": [
    "#for drop_list_suppl , we'll handle the missing values later\n",
    "drop_list = ['REGION', 'DIVISION', 'PRIMPAY', 'PRIMINC', 'DAYWAIT',\n",
    "             'HLTHINS', 'CBSA10', 'CASEID', 'YEAR', 'STFIPS', \n",
    "             'ALCFLG', 'COKEFLG', 'MARFLG', 'HERFLG', 'METHFLG', 'OPSYNFLG', 'PCPFLG', 'HALLFLG', 'MTHAMFLG', \n",
    "             'AMPHFLG', 'STIMFLG', 'BENZFLG', 'TRNQFLG', 'BARBFLG', 'SEDHPFLG', 'INHFLG', 'OTCFLG', 'OTHERFLG', \n",
    "             'ALCDRUG',]\n",
    "drop_list_suppl = ['FREQ2', 'FREQ3', 'FRSTUSE2', 'FRSTUSE3', 'ROUTE2', 'ROUTE3', ]\n",
    "                      \n",
    "drop_list=[]\n",
    "drop_list_suppl = []\n",
    "\n",
    "#howto deal with: priminc\n",
    "#add NOPRIOr freq1 frstuse1 route1 SERVSETA sub3 PSYPROB MARSTAT VET, PSOURCE DETCRIM METHUSE DETNLF IDU PREG\n",
    "train_df = df.drop(drop_list + drop_list_suppl, axis=1)\n",
    "train_df['DETCRIM'].replace(to_replace=[-9], value = 0, inplace=True)\n",
    "train_df['DETNLF'].replace(to_replace=[-9], value = 0, inplace=True)\n",
    "train_df['IDU'].replace(to_replace=[-9], value = 0, inplace=True)\n",
    "train_df.ix[train_df.GENDER.isin([1]), 'PREG'] = 2\n",
    "train_df.ix[train_df.SUB2.isin([1]), 'FREQ2'] = 0\n",
    "train_df.ix[train_df.SUB2.isin([1]), 'FRSTUSE2'] = 0\n",
    "train_df.ix[train_df.SUB2.isin([1]), 'ROUTE2'] = 0\n",
    "train_df.ix[train_df.SUB3.isin([1]), 'FREQ3'] = 0\n",
    "train_df.ix[train_df.SUB3.isin([1]), 'FRSTUSE3'] = 0\n",
    "train_df.ix[train_df.SUB3.isin([1]), 'ROUTE3'] = 0\n",
    "\n",
    "\n",
    "df3 = train_df\n",
    "df3 = df3[(df3 >= 0).all(1)]\n",
    "print df3.shape\n",
    "print df3.columns.tolist()"
   ]
  },
  {
   "cell_type": "code",
   "execution_count": 23,
   "metadata": {
    "collapsed": false
   },
   "outputs": [
    {
     "name": "stdout",
     "output_type": "stream",
     "text": [
      "F-score: 22.23t for feature ARRESTS\n",
      "F-score: 37.52t for feature PREG\n",
      "F-score: 93.01t for feature PRIMPAY\n",
      "F-score: 106.96t for feature DETNLF\n",
      "F-score: 107.82t for feature ETHNIC\n",
      "F-score: 108.98t for feature DAYWAIT\n",
      "F-score: 140.91t for feature RACE\n",
      "F-score: 163.39t for feature VET\n",
      "F-score: 170.13t for feature LIVARAG\n",
      "F-score: 174.62t for feature PRIMINC\n",
      "F-score: 229.16t for feature FRSTUSE1\n",
      "F-score: 279.11t for feature HLTHINS\n",
      "F-score: 305.64t for feature MARSTAT\n",
      "F-score: 339.36t for feature METHUSE\n",
      "F-score: 366.75t for feature CBSA10\n",
      "F-score: 384.64t for feature GENDER\n",
      "F-score: 398.89t for feature EMPLOY\n",
      "F-score: 409.23t for feature FREQ1\n",
      "F-score: 511.42t for feature PSYPROB\n",
      "F-score: 538.45t for feature YEAR\n",
      "F-score: 539.85t for feature EDUC\n",
      "F-score: 576.25t for feature CASEID\n",
      "F-score: 659.02t for feature PSOURCE\n",
      "F-score: 777.69t for feature REGION\n",
      "F-score: 808.08t for feature NOPRIOR\n",
      "F-score: 817.57t for feature SERVSETA\n",
      "F-score: 863.48t for feature DETCRIM\n",
      "F-score: 944.47t for feature DIVISION\n",
      "F-score: 976.85t for feature STFIPS\n",
      "F-score: 1106.89t for feature DSMCRIT\n",
      "F-score: 1229.30t for feature ROUTE1\n",
      "F-score: 1625.03t for feature AGE\n",
      "F-score: 1780.06t for feature SUB1\n",
      "F-score: 2684.00t for feature IDU\n",
      "F-score: 57142.24t for feature ALCDRUG\n",
      "F-score: 95105.36t for feature NUMSUBS\n"
     ]
    }
   ],
   "source": [
    "# for sub2\n",
    "\n",
    "X_train = df3.drop(['SUB2'], axis=1)\n",
    "Y_train = df3[\"SUB2\"]\n",
    "\n",
    "from sklearn.feature_selection import SelectKBest, SelectPercentile\n",
    "from sklearn.feature_selection import f_classif,chi2\n",
    "#Selector_f = SelectPercentile(f_classif, percentile=25)\n",
    "Selector_f = SelectKBest(f_classif, k=10)\n",
    "Selector_f.fit(X_train,Y_train)\n",
    "\n",
    "zipped = zip(X_train.columns.tolist(),Selector_f.scores_)\n",
    "ans = sorted(zipped, key=lambda x: x[1])\n",
    "for n,s in ans:    \n",
    "    if 'FLG' in n or '2' in n or '3' in n: \n",
    "        pass\n",
    "    else:\n",
    "        print 'F-score: %3.2ft for feature %s' % (s,n)\n",
    "                \n",
    "#print X_train.columns.tolist()"
   ]
  },
  {
   "cell_type": "code",
   "execution_count": 18,
   "metadata": {
    "collapsed": false
   },
   "outputs": [
    {
     "name": "stdout",
     "output_type": "stream",
     "text": [
      "'ARRESTS','PREG','PRIMPAY','DETNLF','ETHNIC','DAYWAIT','RACE','VET','LIVARAG','PRIMINC','FRSTUSE1','HLTHINS','MARSTAT','METHUSE','CBSA10','GENDER','EMPLOY','FREQ1','PSYPROB','YEAR','EDUC','CASEID','PSOURCE','REGION','NOPRIOR','SERVSETA','DETCRIM','DIVISION','STFIPS','DSMCRIT','ROUTE1','AGE','SUB1','IDU','ALCFLG','SUB3','ROUTE3','HERFLG','FREQ3','FRSTUSE3','MTHAMFLG','PCPFLG','INHFLG','AMPHFLG','OPSYNFLG','OTCFLG','METHFLG','HALLFLG','STIMFLG','MARFLG','TRNQFLG','COKEFLG','BARBFLG','SEDHPFLG','BENZFLG','ROUTE2','OTHERFLG','FREQ2','ALCDRUG','FRSTUSE2','NUMSUBS',"
     ]
    }
   ],
   "source": [
    "# get the sorted feature list\n",
    "import sys\n",
    "for n, s in ans:\n",
    "    sys.stdout.write('\\'%s\\',' % (n))\n"
   ]
  },
  {
   "cell_type": "code",
   "execution_count": 20,
   "metadata": {
    "collapsed": false
   },
   "outputs": [
    {
     "name": "stdout",
     "output_type": "stream",
     "text": [
      "F-score: 19.04t for feature BARBFLG\n",
      "F-score: 39.20t for feature TRNQFLG\n",
      "F-score: 41.93t for feature OTCFLG\n",
      "F-score: 46.05t for feature INHFLG\n",
      "F-score: 65.85t for feature STIMFLG\n",
      "F-score: 75.71t for feature ARRESTS\n",
      "F-score: 105.00t for feature HALLFLG\n",
      "F-score: 106.60t for feature SEDHPFLG\n",
      "F-score: 133.69t for feature PREG\n",
      "F-score: 153.54t for feature METHFLG\n",
      "F-score: 183.45t for feature DAYWAIT\n",
      "F-score: 239.05t for feature ETHNIC\n",
      "F-score: 308.00t for feature VET\n",
      "F-score: 337.00t for feature AMPHFLG\n",
      "F-score: 495.24t for feature DETNLF\n",
      "F-score: 499.69t for feature SUB3\n",
      "F-score: 510.50t for feature RACE\n",
      "F-score: 566.23t for feature PCPFLG\n",
      "F-score: 593.46t for feature PRIMINC\n",
      "F-score: 674.04t for feature LIVARAG\n",
      "F-score: 689.57t for feature BENZFLG\n",
      "F-score: 715.93t for feature HLTHINS\n",
      "F-score: 797.10t for feature GENDER\n",
      "F-score: 850.22t for feature ROUTE3\n",
      "F-score: 863.91t for feature PRIMPAY\n",
      "F-score: 1004.23t for feature MARSTAT\n",
      "F-score: 1066.96t for feature PSYPROB\n",
      "F-score: 1096.80t for feature ROUTE2\n",
      "F-score: 1150.15t for feature EMPLOY\n",
      "F-score: 1163.78t for feature CBSA10\n",
      "F-score: 1190.77t for feature SUB2\n",
      "F-score: 1395.98t for feature FRSTUSE3\n",
      "F-score: 1434.56t for feature FREQ3\n",
      "F-score: 1594.12t for feature FRSTUSE2\n",
      "F-score: 1607.93t for feature OTHERFLG\n",
      "F-score: 1768.67t for feature EDUC\n",
      "F-score: 1774.19t for feature FREQ2\n",
      "F-score: 2001.41t for feature FREQ1\n",
      "F-score: 2347.10t for feature YEAR\n",
      "F-score: 2414.86t for feature PSOURCE\n",
      "F-score: 2435.33t for feature CASEID\n",
      "F-score: 2529.56t for feature DETCRIM\n",
      "F-score: 2530.45t for feature DIVISION\n",
      "F-score: 2560.02t for feature REGION\n",
      "F-score: 2615.98t for feature NOPRIOR\n",
      "F-score: 3278.82t for feature STFIPS\n",
      "F-score: 3331.53t for feature NUMSUBS\n",
      "F-score: 3424.96t for feature ALCDRUG\n",
      "F-score: 4740.91t for feature METHUSE\n",
      "F-score: 5008.03t for feature FRSTUSE1\n",
      "F-score: 5157.01t for feature AGE\n",
      "F-score: 5379.46t for feature COKEFLG\n",
      "F-score: 5725.27t for feature OPSYNFLG\n",
      "F-score: 5984.62t for feature IDU\n",
      "F-score: 6952.38t for feature SERVSETA\n",
      "F-score: 8271.91t for feature ROUTE1\n",
      "F-score: 8340.87t for feature MARFLG\n",
      "F-score: 10180.29t for feature MTHAMFLG\n",
      "F-score: 14283.57t for feature HERFLG\n",
      "F-score: 16353.05t for feature ALCFLG\n",
      "F-score: 34193.82t for feature SUB1\n",
      "['CASEID', 'YEAR', 'AGE', 'GENDER', 'RACE', 'ETHNIC', 'MARSTAT', 'EDUC', 'EMPLOY', 'DETNLF', 'PREG', 'VET', 'LIVARAG', 'PRIMINC', 'ARRESTS', 'STFIPS', 'CBSA10', 'REGION', 'DIVISION', 'SERVSETA', 'METHUSE', 'DAYWAIT', 'PSOURCE', 'DETCRIM', 'NOPRIOR', 'SUB1', 'ROUTE1', 'FREQ1', 'FRSTUSE1', 'SUB2', 'ROUTE2', 'FREQ2', 'FRSTUSE2', 'SUB3', 'ROUTE3', 'FREQ3', 'FRSTUSE3', 'NUMSUBS', 'IDU', 'ALCFLG', 'COKEFLG', 'MARFLG', 'HERFLG', 'METHFLG', 'OPSYNFLG', 'PCPFLG', 'HALLFLG', 'MTHAMFLG', 'AMPHFLG', 'STIMFLG', 'BENZFLG', 'TRNQFLG', 'BARBFLG', 'SEDHPFLG', 'INHFLG', 'OTCFLG', 'OTHERFLG', 'ALCDRUG', 'PSYPROB', 'HLTHINS', 'PRIMPAY']\n"
     ]
    }
   ],
   "source": [
    "# for dsm\n",
    "\n",
    "X_train = df3.drop(['DSMCRIT'], axis=1)\n",
    "Y_train = df3[\"DSMCRIT\"]\n",
    "\n",
    "from sklearn.feature_selection import SelectKBest, SelectPercentile\n",
    "from sklearn.feature_selection import f_classif,chi2\n",
    "#Selector_f = SelectPercentile(f_classif, percentile=25)\n",
    "Selector_f = SelectKBest(f_classif, k=10)\n",
    "Selector_f.fit(X_train,Y_train)\n",
    "\n",
    "zipped = zip(X_train.columns.tolist(),Selector_f.scores_)\n",
    "ans = sorted(zipped, key=lambda x: x[1])\n",
    "for n,s in ans:\n",
    "     print 'F-score: %3.2ft for feature %s' % (s,n)\n",
    "                \n",
    "#print X_train.columns.tolist()"
   ]
  },
  {
   "cell_type": "code",
   "execution_count": 21,
   "metadata": {
    "collapsed": false
   },
   "outputs": [
    {
     "name": "stdout",
     "output_type": "stream",
     "text": [
      "'BARBFLG','TRNQFLG','OTCFLG','INHFLG','STIMFLG','ARRESTS','HALLFLG','SEDHPFLG','PREG','METHFLG','DAYWAIT','ETHNIC','VET','AMPHFLG','DETNLF','SUB3','RACE','PCPFLG','PRIMINC','LIVARAG','BENZFLG','HLTHINS','GENDER','ROUTE3','PRIMPAY','MARSTAT','PSYPROB','ROUTE2','EMPLOY','CBSA10','SUB2','FRSTUSE3','FREQ3','FRSTUSE2','OTHERFLG','EDUC','FREQ2','FREQ1','YEAR','PSOURCE','CASEID','DETCRIM','DIVISION','REGION','NOPRIOR','STFIPS','NUMSUBS','ALCDRUG','METHUSE','FRSTUSE1','AGE','COKEFLG','OPSYNFLG','IDU','SERVSETA','ROUTE1','MARFLG','MTHAMFLG','HERFLG','ALCFLG','SUB1',"
     ]
    }
   ],
   "source": [
    "# get the sorted feature list\n",
    "import sys\n",
    "for n, s in ans:\n",
    "    sys.stdout.write('\\'%s\\',' % (n))\n"
   ]
  },
  {
   "cell_type": "code",
   "execution_count": 14,
   "metadata": {
    "collapsed": false
   },
   "outputs": [
    {
     "data": {
      "text/plain": [
       "((301619, 62),\n",
       " (148560, 62),\n",
       "               CASEID  YEAR  AGE  GENDER  RACE  ETHNIC  MARSTAT  EDUC  EMPLOY  \\\n",
       " 1751274  20101751277  2010   10       1     5       3        1     2       4   \n",
       " 5843604  20130140153  2013    5       1     5       5        1     3       3   \n",
       " \n",
       "          DETNLF   ...     BARBFLG  SEDHPFLG  INHFLG  OTCFLG  OTHERFLG  \\\n",
       " 1751274       3   ...           0         0       0       0         0   \n",
       " 5843604       0   ...           0         0       0       0         0   \n",
       " \n",
       "          ALCDRUG  DSMCRIT  PSYPROB  HLTHINS  PRIMPAY  \n",
       " 1751274        1        4        2        4        1  \n",
       " 5843604        3        4        1        4        5  \n",
       " \n",
       " [2 rows x 62 columns])"
      ]
     },
     "execution_count": 14,
     "metadata": {},
     "output_type": "execute_result"
    }
   ],
   "source": [
    "from sklearn.model_selection import train_test_split\n",
    "train, validate = train_test_split(df3, test_size=0.33, random_state=42)\n",
    "train.shape, validate.shape, train.head(2)"
   ]
  },
  {
   "cell_type": "code",
   "execution_count": 15,
   "metadata": {
    "collapsed": false
   },
   "outputs": [
    {
     "name": "stdout",
     "output_type": "stream",
     "text": [
      "done\n"
     ]
    }
   ],
   "source": [
    "#df3.to_csv('../trainval.csv', index=False)\n",
    "\n",
    "train.to_csv('../train_allcols.csv', index=False)\n",
    "validate.to_csv('../validate_allcols.csv', index=False)\n",
    "\n",
    "#train.to_csv('../train_abuse.csv', index=False)\n",
    "#validate.to_csv('../validate_abuse.csv', index=False)\n",
    "print 'done'"
   ]
  }
 ],
 "metadata": {
  "kernelspec": {
   "display_name": "Python 2",
   "language": "python",
   "name": "python2"
  },
  "language_info": {
   "codemirror_mode": {
    "name": "ipython",
    "version": 2
   },
   "file_extension": ".py",
   "mimetype": "text/x-python",
   "name": "python",
   "nbconvert_exporter": "python",
   "pygments_lexer": "ipython2",
   "version": "2.7.10"
  }
 },
 "nbformat": 4,
 "nbformat_minor": 2
}
