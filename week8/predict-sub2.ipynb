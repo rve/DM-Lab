{
 "cells": [
  {
   "cell_type": "code",
   "execution_count": 19,
   "metadata": {
    "collapsed": false
   },
   "outputs": [
    {
     "data": {
      "text/plain": [
       "((301619, 62), (148560, 62))"
      ]
     },
     "execution_count": 19,
     "metadata": {},
     "output_type": "execute_result"
    }
   ],
   "source": [
    "#visualization part\n",
    "#import matplotlib.pyplot as plt\n",
    "#import seaborn as sns\n",
    "\n",
    "\n",
    "#basic libs\n",
    "import pandas as pd\n",
    "import numpy as np\n",
    "import random as rnd\n",
    "\n",
    "from sklearn.model_selection import cross_val_score\n",
    "\n",
    "# machine learning\n",
    "from sklearn.linear_model import LogisticRegression\n",
    "from sklearn.svm import SVC, LinearSVC\n",
    "from sklearn.ensemble import RandomForestClassifier\n",
    "from sklearn.neighbors import KNeighborsClassifier\n",
    "from sklearn.naive_bayes import GaussianNB\n",
    "from sklearn.linear_model import Perceptron\n",
    "from sklearn.linear_model import SGDClassifier\n",
    "from sklearn.tree import DecisionTreeClassifier\n",
    "\n",
    "\n",
    "\n",
    "train_=pd.read_csv('../train_allcols.csv')\n",
    "validate_=pd.read_csv('../validate_allcols.csv')\n",
    "#test=pd.read_csv('../testwDSM.csv')\n",
    "\n",
    "train_.shape, validate_.shape, #test.shape"
   ]
  },
  {
   "cell_type": "code",
   "execution_count": 20,
   "metadata": {
    "collapsed": false
   },
   "outputs": [
    {
     "data": {
      "text/plain": [
       "((301619, 62),)"
      ]
     },
     "execution_count": 20,
     "metadata": {},
     "output_type": "execute_result"
    }
   ],
   "source": [
    "#train.describe()\n",
    "train = train_.sample(10000)\n",
    "validate = validate_.sample(3000)\n",
    "train_.shape, #validate_.shape, validate.head(2)"
   ]
  },
  {
   "cell_type": "code",
   "execution_count": 21,
   "metadata": {
    "collapsed": false
   },
   "outputs": [
    {
     "data": {
      "text/plain": [
       "((10000, 28), (3000, 28))"
      ]
     },
     "execution_count": 21,
     "metadata": {},
     "output_type": "execute_result"
    }
   ],
   "source": [
    "#train = train.query('SUB1 <= 10').query('SUB2 <= 10')\n",
    "#validate = validate.query('SUB1 <= 10').query('SUB2 <= 10')\n",
    "\n",
    "drop_list = ['SUB2',  'ROUTE2', 'FREQ2', 'FRSTUSE2', 'SUB3', 'ROUTE3', 'FREQ3', 'FRSTUSE3', 'NUMSUBS'\n",
    "             ]\n",
    "retain_list = ['DETNLF','ETHNIC','DAYWAIT','RACE','VET','LIVARAG','PRIMINC','FRSTUSE1','HLTHINS','MARSTAT',\n",
    "               'METHUSE','GENDER','EMPLOY','FREQ1','PSYPROB','YEAR','EDUC','PSOURCE','REGION',\n",
    "               'NOPRIOR','SERVSETA','DETCRIM','DIVISION','DSMCRIT','ROUTE1','AGE','SUB1','IDU',]\n",
    "X_train = train[retain_list]\n",
    "Y_train = train[\"SUB2\"]\n",
    "X_validate = validate[retain_list]\n",
    "Y_validate = validate[\"SUB2\"]\n",
    "#X_test  = test.drop(drop_list, axis=1)\n",
    "X_train.shape, X_validate.shape, #X_test.shape\n",
    "\n"
   ]
  },
  {
   "cell_type": "code",
   "execution_count": 22,
   "metadata": {
    "collapsed": false
   },
   "outputs": [
    {
     "name": "stdout",
     "output_type": "stream",
     "text": [
      "['DETNLF', 'ETHNIC', 'DAYWAIT', 'RACE', 'VET', 'LIVARAG', 'PRIMINC', 'FRSTUSE1', 'HLTHINS', 'MARSTAT', 'METHUSE', 'GENDER', 'EMPLOY', 'FREQ1', 'PSYPROB', 'YEAR', 'EDUC', 'PSOURCE', 'REGION', 'NOPRIOR', 'SERVSETA', 'DETCRIM', 'DIVISION', 'DSMCRIT', 'ROUTE1', 'AGE', 'SUB1', 'IDU']\n"
     ]
    }
   ],
   "source": [
    "print X_train.columns.tolist()"
   ]
  },
  {
   "cell_type": "code",
   "execution_count": 23,
   "metadata": {
    "collapsed": false
   },
   "outputs": [
    {
     "data": {
      "text/plain": [
       "((10000, 322), (3000, 322))"
      ]
     },
     "execution_count": 23,
     "metadata": {},
     "output_type": "execute_result"
    }
   ],
   "source": [
    "#one hot\n",
    "from sklearn import preprocessing\n",
    "\n",
    "# 1. INSTANTIATE\n",
    "enc = preprocessing.OneHotEncoder()\n",
    "\n",
    "# 2. FIT\n",
    "enc.fit(X_train)\n",
    "\n",
    "# 3. Transform\n",
    "onehotlabels = enc.transform(X_train).toarray()\n",
    "#onehotlabels.shape\n",
    "X_train = onehotlabels\n",
    "\n",
    "onehotlabels = enc.transform(X_validate).toarray()\n",
    "X_validate = onehotlabels\n",
    "\n",
    "X_train.shape, X_validate.shape"
   ]
  },
  {
   "cell_type": "code",
   "execution_count": 24,
   "metadata": {
    "collapsed": false
   },
   "outputs": [
    {
     "name": "stdout",
     "output_type": "stream",
     "text": [
      "52.53\n"
     ]
    }
   ],
   "source": [
    "# Logistic Regression\n",
    "logreg = LogisticRegression()\n",
    "logreg.fit(X_train, Y_train)\n",
    "#Y_pred = logreg.predict(X_test)\n",
    "acc_log = round(logreg.score(X_validate, Y_validate) * 100, 2)\n",
    "print acc_log\n"
   ]
  },
  {
   "cell_type": "code",
   "execution_count": 25,
   "metadata": {
    "collapsed": false
   },
   "outputs": [
    {
     "name": "stderr",
     "output_type": "stream",
     "text": [
      "/Users/arc/Codes/DM-Lab/dmlab/lib/python2.7/site-packages/sklearn/linear_model/stochastic_gradient.py:128: FutureWarning: max_iter and tol parameters have been added in <class 'sklearn.linear_model.perceptron.Perceptron'> in 0.19. If both are left unset, they default to max_iter=5 and tol=None. If tol is not None, max_iter defaults to max_iter=1000. From 0.21, default max_iter will be 1000, and default tol will be 1e-3.\n",
      "  \"and default tol will be 1e-3.\" % type(self), FutureWarning)\n"
     ]
    },
    {
     "name": "stdout",
     "output_type": "stream",
     "text": [
      "46.23\n"
     ]
    }
   ],
   "source": [
    "# Perceptron\n",
    "\n",
    "perceptron = Perceptron()\n",
    "perceptron.fit(X_train, Y_train)\n",
    "#Y_pred = perceptron.predict(X_test)\n",
    "acc_perceptron = round(perceptron.score(X_validate, Y_validate) * 100, 2)\n",
    "print acc_perceptron\n"
   ]
  },
  {
   "cell_type": "code",
   "execution_count": 26,
   "metadata": {
    "collapsed": false
   },
   "outputs": [
    {
     "name": "stderr",
     "output_type": "stream",
     "text": [
      "/Users/arc/Codes/DM-Lab/dmlab/lib/python2.7/site-packages/sklearn/linear_model/stochastic_gradient.py:128: FutureWarning: max_iter and tol parameters have been added in <class 'sklearn.linear_model.stochastic_gradient.SGDClassifier'> in 0.19. If both are left unset, they default to max_iter=5 and tol=None. If tol is not None, max_iter defaults to max_iter=1000. From 0.21, default max_iter will be 1000, and default tol will be 1e-3.\n",
      "  \"and default tol will be 1e-3.\" % type(self), FutureWarning)\n"
     ]
    },
    {
     "name": "stdout",
     "output_type": "stream",
     "text": [
      "46.8\n"
     ]
    }
   ],
   "source": [
    "# Stochastic Gradient Descent\n",
    "\n",
    "sgd = SGDClassifier()\n",
    "sgd.fit(X_train, Y_train)\n",
    "#Y_pred = sgd.predict(X_test)\n",
    "acc_sgd = round(sgd.score(X_validate, Y_validate) * 100, 2)\n",
    "print acc_sgd\n"
   ]
  },
  {
   "cell_type": "code",
   "execution_count": 27,
   "metadata": {
    "collapsed": false
   },
   "outputs": [
    {
     "name": "stdout",
     "output_type": "stream",
     "text": [
      "52.2\n"
     ]
    }
   ],
   "source": [
    "# Random Forest (slow)\n",
    "\n",
    "random_forest = RandomForestClassifier(n_estimators=100)\n",
    "random_forest.fit(X_train, Y_train)\n",
    "#Y_pred = random_forest.predict(X_test)\n",
    "random_forest.score(X_train, Y_train)\n",
    "acc_random_forest = round(random_forest.score(X_validate, Y_validate) * 100, 2)\n",
    "print acc_random_forest\n",
    "\n",
    "#print cross_val_score(random_forest, X_validate, Y_validate)"
   ]
  },
  {
   "cell_type": "code",
   "execution_count": 28,
   "metadata": {
    "collapsed": false
   },
   "outputs": [
    {
     "name": "stdout",
     "output_type": "stream",
     "text": [
      "44.7\n"
     ]
    }
   ],
   "source": [
    "from sklearn.ensemble import GradientBoostingClassifier,\\\n",
    " AdaBoostClassifier, RandomForestClassifier\n",
    "#Adaboost \n",
    "ada_boost = AdaBoostClassifier(random_state=1851)\n",
    "ada_boost.fit(X_train, Y_train) \n",
    "\n",
    "acc_ada = round(ada_boost.score(X_validate, Y_validate) * 100, 2)\n",
    "print acc_ada\n"
   ]
  },
  {
   "cell_type": "code",
   "execution_count": 29,
   "metadata": {
    "collapsed": false
   },
   "outputs": [
    {
     "name": "stdout",
     "output_type": "stream",
     "text": [
      "36.07\n"
     ]
    }
   ],
   "source": [
    "# Stochastic Gradient Descent\n",
    "sgd = SGDClassifier()\n",
    "sgd.fit(X_train, Y_train)\n",
    "#Y_pred = sgd.predict(X_test)\n",
    "acc_sgd = round(sgd.score(X_validate, Y_validate) * 100, 2)\n",
    "print acc_sgd\n"
   ]
  },
  {
   "cell_type": "code",
   "execution_count": 30,
   "metadata": {
    "collapsed": false
   },
   "outputs": [
    {
     "name": "stdout",
     "output_type": "stream",
     "text": [
      "52.17\n"
     ]
    }
   ],
   "source": [
    "# Linear SVC\n",
    "linear_svc = LinearSVC()\n",
    "linear_svc.fit(X_train, Y_train)\n",
    "#Y_pred = linear_svc.predict(X_test)\n",
    "acc_linear_svc = round(linear_svc.score(X_validate, Y_validate) * 100, 2)\n",
    "print acc_linear_svc\n"
   ]
  },
  {
   "cell_type": "code",
   "execution_count": 31,
   "metadata": {
    "collapsed": false
   },
   "outputs": [
    {
     "name": "stdout",
     "output_type": "stream",
     "text": [
      "predict-sub2-woflags-newsplit-sample20000\n",
      "                        Model  Validate Set Score\n",
      "0         Logistic Regression               52.53\n",
      "1               Random Forest               52.20\n",
      "4                  Linear SVC               52.17\n",
      "2                  Perceptron               46.23\n",
      "5                    AdaBoost               44.70\n",
      "3  Stochastic Gradient Decent               36.07\n"
     ]
    }
   ],
   "source": [
    "print 'predict-sub2-woflags-newsplit-sample20000'\n",
    "models = pd.DataFrame({\n",
    "    'Model': [ 'Logistic Regression', \n",
    "              'Random Forest',  'Perceptron', \n",
    "              'Stochastic Gradient Decent', 'Linear SVC', \n",
    "               'AdaBoost'],\n",
    "    'Validate Set Score': [acc_log, \n",
    "              acc_random_forest,  acc_perceptron, \n",
    "              acc_sgd, acc_linear_svc, acc_ada]\n",
    "    })\n",
    "print models.sort_values(by='Validate Set Score', ascending=False)\n"
   ]
  }
 ],
 "metadata": {
  "kernelspec": {
   "display_name": "Python 2",
   "language": "python",
   "name": "python2"
  },
  "language_info": {
   "codemirror_mode": {
    "name": "ipython",
    "version": 2
   },
   "file_extension": ".py",
   "mimetype": "text/x-python",
   "name": "python",
   "nbconvert_exporter": "python",
   "pygments_lexer": "ipython2",
   "version": "2.7.10"
  }
 },
 "nbformat": 4,
 "nbformat_minor": 2
}
