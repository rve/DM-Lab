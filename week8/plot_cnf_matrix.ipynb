{
 "cells": [
  {
   "cell_type": "code",
   "execution_count": 20,
   "metadata": {
    "collapsed": false
   },
   "outputs": [
    {
     "data": {
      "text/plain": [
       "((1508933, 48), (743207, 48))"
      ]
     },
     "execution_count": 20,
     "metadata": {},
     "output_type": "execute_result"
    }
   ],
   "source": [
    "#visualization part\n",
    "import matplotlib.pyplot as plt\n",
    "import seaborn as sns\n",
    "sns.set(font_scale=1)\n",
    "plt.style.use('ggplot')\n",
    "\n",
    "#import csv from the dataset\n",
    "import pandas as pd\n",
    "import numpy as np\n",
    "import random as rnd\n",
    "\n",
    "from sklearn.model_selection import cross_val_score\n",
    "\n",
    "# machine learning\n",
    "from sklearn.linear_model import LogisticRegression\n",
    "from sklearn.svm import SVC, LinearSVC\n",
    "from sklearn.ensemble import RandomForestClassifier\n",
    "from sklearn.neighbors import KNeighborsClassifier\n",
    "from sklearn.naive_bayes import GaussianNB\n",
    "from sklearn.linear_model import Perceptron\n",
    "from sklearn.linear_model import SGDClassifier\n",
    "from sklearn.tree import DecisionTreeClassifier\n",
    "\n",
    "\n",
    "\n",
    "train=pd.read_csv('../train.csv')\n",
    "validate=pd.read_csv('../validate.csv')\n",
    "#test=pd.read_csv('../testwDSM.csv')\n",
    "\n",
    "train.shape, validate.shape, #test.shape"
   ]
  },
  {
   "cell_type": "code",
   "execution_count": 21,
   "metadata": {
    "collapsed": false
   },
   "outputs": [
    {
     "data": {
      "text/plain": [
       "(20000, 48)"
      ]
     },
     "execution_count": 21,
     "metadata": {},
     "output_type": "execute_result"
    }
   ],
   "source": [
    "#train.describe()\n",
    "train = train.head(20000)\n",
    "validate = validate.head(6000)\n",
    "train.shape"
   ]
  },
  {
   "cell_type": "code",
   "execution_count": 22,
   "metadata": {
    "collapsed": false
   },
   "outputs": [
    {
     "data": {
      "text/plain": [
       "((20000, 27), (6000, 27))"
      ]
     },
     "execution_count": 22,
     "metadata": {},
     "output_type": "execute_result"
    }
   ],
   "source": [
    "#train = train.query('SUB1 <= 10').query('SUB2 <= 10')\n",
    "#validate = validate.query('SUB1 <= 10').query('SUB2 <= 10')\n",
    "\n",
    "drop_list = ['DSMCRIT', 'STFIPS', \n",
    "             'ALCFLG', 'COKEFLG', 'MARFLG', 'HERFLG', 'METHFLG', 'OPSYNFLG', 'PCPFLG', 'HALLFLG', 'MTHAMFLG', \n",
    "             'AMPHFLG', 'STIMFLG', 'BENZFLG', 'TRNQFLG', 'BARBFLG', 'SEDHPFLG', 'INHFLG', 'OTCFLG', 'OTHERFLG', \n",
    "             'ALCDRUG', \n",
    "             ]\n",
    "\n",
    "X_train = train.drop(drop_list, axis=1)\n",
    "Y_train = train[\"DSMCRIT\"]\n",
    "X_validate = validate.drop(drop_list, axis=1)\n",
    "Y_validate = validate[\"DSMCRIT\"]\n",
    "#X_test  = test.drop(drop_list, axis=1)\n",
    "X_train.shape, X_validate.shape, #X_test.shape\n",
    "\n"
   ]
  },
  {
   "cell_type": "code",
   "execution_count": 23,
   "metadata": {
    "collapsed": false
   },
   "outputs": [
    {
     "name": "stdout",
     "output_type": "stream",
     "text": [
      "['YEAR', 'AGE', 'GENDER', 'RACE', 'ETHNIC', 'MARSTAT', 'EDUC', 'EMPLOY', 'DETNLF', 'PREG', 'VET', 'LIVARAG', 'ARRESTS', 'SERVSETA', 'METHUSE', 'PSOURCE', 'DETCRIM', 'NOPRIOR', 'SUB1', 'ROUTE1', 'FREQ1', 'FRSTUSE1', 'SUB2', 'SUB3', 'NUMSUBS', 'IDU', 'PSYPROB']\n"
     ]
    }
   ],
   "source": [
    "print X_train.columns.tolist()"
   ]
  },
  {
   "cell_type": "code",
   "execution_count": 24,
   "metadata": {
    "collapsed": false
   },
   "outputs": [
    {
     "data": {
      "text/plain": [
       "((20000, 179), (6000, 179))"
      ]
     },
     "execution_count": 24,
     "metadata": {},
     "output_type": "execute_result"
    }
   ],
   "source": [
    "#one hot\n",
    "from sklearn import preprocessing\n",
    "\n",
    "# 1. INSTANTIATE\n",
    "enc = preprocessing.OneHotEncoder()\n",
    "\n",
    "# 2. FIT\n",
    "enc.fit(X_train)\n",
    "\n",
    "# 3. Transform\n",
    "onehotlabels = enc.transform(X_train).toarray()\n",
    "#onehotlabels.shape\n",
    "X_train = onehotlabels\n",
    "\n",
    "onehotlabels = enc.transform(X_validate).toarray()\n",
    "X_validate = onehotlabels\n",
    "\n",
    "X_train.shape, X_validate.shape"
   ]
  },
  {
   "cell_type": "code",
   "execution_count": null,
   "metadata": {
    "collapsed": false
   },
   "outputs": [],
   "source": []
  },
  {
   "cell_type": "code",
   "execution_count": 25,
   "metadata": {
    "collapsed": false
   },
   "outputs": [
    {
     "name": "stdout",
     "output_type": "stream",
     "text": [
      "59.73\n",
      "91.79\n"
     ]
    }
   ],
   "source": [
    "# Decision Tree\n",
    "\n",
    "decision_tree = DecisionTreeClassifier(max_depth=20)\n",
    "decision_tree.fit(X_train, Y_train)\n",
    "#Y_pred = decision_tree.predict(X_test)\n",
    "acc_decision_tree = round(decision_tree.score(X_validate, Y_validate) * 100, 2)\n",
    "print acc_decision_tree\n",
    "ts_acc_decision_tree = round(decision_tree.score(X_train, Y_train) * 100, 2)\n",
    "print ts_acc_decision_tree\n",
    "#print cross_val_score(decision_tree, X_validate, Y_validate)"
   ]
  },
  {
   "cell_type": "code",
   "execution_count": 26,
   "metadata": {
    "collapsed": false
   },
   "outputs": [
    {
     "name": "stderr",
     "output_type": "stream",
     "text": [
      "/Users/arc/Codes/DM-Lab/dmlab/lib/python2.7/site-packages/sklearn/linear_model/logistic.py:1228: UserWarning: 'n_jobs' > 1 does not have any effect when 'solver' is set to 'liblinear'. Got 'n_jobs' = -1.\n",
      "  \" = {}.\".format(self.n_jobs))\n"
     ]
    },
    {
     "name": "stdout",
     "output_type": "stream",
     "text": [
      "68.48\n",
      "68.87\n"
     ]
    }
   ],
   "source": [
    "# Logistic Regression\n",
    "logreg = LogisticRegression(n_jobs=-1)\n",
    "logreg.fit(X_train, Y_train)\n",
    "#Y_pred = logreg.predict(X_test)\n",
    "acc_log = round(logreg.score(X_validate, Y_validate) * 100, 2)\n",
    "print acc_log\n",
    "ts_acc_log = round(logreg.score(X_train, Y_train) * 100, 2)\n",
    "print ts_acc_log\n",
    "#print cross_val_score(logreg, X_validate, Y_validate)"
   ]
  },
  {
   "cell_type": "code",
   "execution_count": 27,
   "metadata": {
    "collapsed": false
   },
   "outputs": [
    {
     "name": "stderr",
     "output_type": "stream",
     "text": [
      "/Users/arc/Codes/DM-Lab/dmlab/lib/python2.7/site-packages/sklearn/linear_model/stochastic_gradient.py:128: FutureWarning: max_iter and tol parameters have been added in <class 'sklearn.linear_model.perceptron.Perceptron'> in 0.19. If both are left unset, they default to max_iter=5 and tol=None. If tol is not None, max_iter defaults to max_iter=1000. From 0.21, default max_iter will be 1000, and default tol will be 1e-3.\n",
      "  \"and default tol will be 1e-3.\" % type(self), FutureWarning)\n"
     ]
    },
    {
     "name": "stdout",
     "output_type": "stream",
     "text": [
      "57.65\n",
      "58.13\n"
     ]
    }
   ],
   "source": [
    "# Perceptron\n",
    "\n",
    "perceptron = Perceptron(n_jobs=-1)\n",
    "perceptron.fit(X_train, Y_train)\n",
    "#Y_pred = perceptron.predict(X_test)\n",
    "acc_perceptron = round(perceptron.score(X_validate, Y_validate) * 100, 2)\n",
    "print acc_perceptron\n",
    "ts_acc_perceptron = round(perceptron.score(X_train, Y_train) * 100, 2)\n",
    "print ts_acc_perceptron\n",
    "#print cross_val_score(perceptron, X_validate, Y_validate)"
   ]
  },
  {
   "cell_type": "code",
   "execution_count": 29,
   "metadata": {
    "collapsed": false
   },
   "outputs": [
    {
     "name": "stdout",
     "output_type": "stream",
     "text": [
      "68.62\n",
      "91.18\n"
     ]
    }
   ],
   "source": [
    "# Random Forest (slow)\n",
    "\n",
    "random_forest = RandomForestClassifier(n_estimators=100, n_jobs=-1, max_depth=20)\n",
    "random_forest.fit(X_train, Y_train)\n",
    "#Y_pred = random_forest.predict(X_test)\n",
    "random_forest.score(X_train, Y_train)\n",
    "acc_random_forest = round(random_forest.score(X_validate, Y_validate) * 100, 2)\n",
    "print acc_random_forest\n",
    "ts_acc_random_forest = round(random_forest.score(X_train, Y_train) * 100, 2)\n",
    "print ts_acc_random_forest\n",
    "\n",
    "#print cross_val_score(random_forest, X_validate, Y_validate)"
   ]
  },
  {
   "cell_type": "code",
   "execution_count": 30,
   "metadata": {
    "collapsed": false
   },
   "outputs": [
    {
     "name": "stdout",
     "output_type": "stream",
     "text": [
      "49.85\n",
      "73.93\n"
     ]
    }
   ],
   "source": [
    "# 2-nn\n",
    "knn = KNeighborsClassifier(n_neighbors = 2, n_jobs=-1)\n",
    "knn.fit(X_train, Y_train)\n",
    "#Y_pred = knn.predict(X_test)\n",
    "acc_2nn = round(knn.score(X_validate, Y_validate) * 100, 2)\n",
    "print acc_2nn\n",
    "ts_acc_2nn = round(knn.score(X_train, Y_train) * 100, 2)\n",
    "print ts_acc_2nn\n",
    "#print cross_val_score(knn, X_validate, Y_validate)"
   ]
  },
  {
   "cell_type": "code",
   "execution_count": 31,
   "metadata": {
    "collapsed": false
   },
   "outputs": [
    {
     "name": "stderr",
     "output_type": "stream",
     "text": [
      "/Users/arc/Codes/DM-Lab/dmlab/lib/python2.7/site-packages/sklearn/linear_model/stochastic_gradient.py:128: FutureWarning: max_iter and tol parameters have been added in <class 'sklearn.linear_model.stochastic_gradient.SGDClassifier'> in 0.19. If both are left unset, they default to max_iter=5 and tol=None. If tol is not None, max_iter defaults to max_iter=1000. From 0.21, default max_iter will be 1000, and default tol will be 1e-3.\n",
      "  \"and default tol will be 1e-3.\" % type(self), FutureWarning)\n"
     ]
    },
    {
     "name": "stdout",
     "output_type": "stream",
     "text": [
      "63.93\n",
      "63.87\n"
     ]
    }
   ],
   "source": [
    "# Stochastic Gradient Descent\n",
    "\n",
    "sgd = SGDClassifier(n_jobs=-1)\n",
    "sgd.fit(X_train, Y_train)\n",
    "#Y_pred = sgd.predict(X_test)\n",
    "acc_sgd = round(sgd.score(X_validate, Y_validate) * 100, 2)\n",
    "print acc_sgd\n",
    "ts_acc_sgd = round(sgd.score(X_train, Y_train) * 100, 2)\n",
    "print ts_acc_sgd\n",
    "#print cross_val_score(sgd, X_validate, Y_validate)"
   ]
  },
  {
   "cell_type": "code",
   "execution_count": 32,
   "metadata": {
    "collapsed": false
   },
   "outputs": [
    {
     "name": "stdout",
     "output_type": "stream",
     "text": [
      "67.97\n",
      "67.55\n"
     ]
    }
   ],
   "source": [
    "# Linear SVC\n",
    "linear_svc = LinearSVC(C=0.5)\n",
    "linear_svc.fit(X_train, Y_train)\n",
    "#Y_pred = linear_svc.predict(X_test)\n",
    "\n",
    "acc_linear_svc = round(linear_svc.score(X_train, Y_train) * 100, 2)\n",
    "print acc_linear_svc\n",
    "ts_acc_linear_svc = round(linear_svc.score(X_validate, Y_validate) * 100, 2)\n",
    "print ts_acc_linear_svc\n"
   ]
  },
  {
   "cell_type": "code",
   "execution_count": 44,
   "metadata": {
    "collapsed": false
   },
   "outputs": [],
   "source": []
  },
  {
   "cell_type": "code",
   "execution_count": 41,
   "metadata": {
    "collapsed": false
   },
   "outputs": [
    {
     "name": "stdout",
     "output_type": "stream",
     "text": [
      "predict-dsm-woflags-newsplit-sample20000\n"
     ]
    },
    {
     "data": {
      "text/html": [
       "<div>\n",
       "<style scoped>\n",
       "    .dataframe tbody tr th:only-of-type {\n",
       "        vertical-align: middle;\n",
       "    }\n",
       "\n",
       "    .dataframe tbody tr th {\n",
       "        vertical-align: top;\n",
       "    }\n",
       "\n",
       "    .dataframe thead th {\n",
       "        text-align: right;\n",
       "    }\n",
       "</style>\n",
       "<table border=\"1\" class=\"dataframe\">\n",
       "  <thead>\n",
       "    <tr style=\"text-align: right;\">\n",
       "      <th></th>\n",
       "      <th>Model</th>\n",
       "      <th>Training Error</th>\n",
       "      <th>Validation Set Accuracy</th>\n",
       "    </tr>\n",
       "  </thead>\n",
       "  <tbody>\n",
       "    <tr>\n",
       "      <th>2</th>\n",
       "      <td>Random Forest</td>\n",
       "      <td>8.82</td>\n",
       "      <td>68.62</td>\n",
       "    </tr>\n",
       "    <tr>\n",
       "      <th>1</th>\n",
       "      <td>Logistic Regression</td>\n",
       "      <td>31.13</td>\n",
       "      <td>68.48</td>\n",
       "    </tr>\n",
       "    <tr>\n",
       "      <th>5</th>\n",
       "      <td>Linear SVM</td>\n",
       "      <td>32.45</td>\n",
       "      <td>67.97</td>\n",
       "    </tr>\n",
       "    <tr>\n",
       "      <th>4</th>\n",
       "      <td>Stochastic Gradient Decent</td>\n",
       "      <td>36.13</td>\n",
       "      <td>63.93</td>\n",
       "    </tr>\n",
       "    <tr>\n",
       "      <th>6</th>\n",
       "      <td>Decision Tree</td>\n",
       "      <td>8.21</td>\n",
       "      <td>59.73</td>\n",
       "    </tr>\n",
       "    <tr>\n",
       "      <th>3</th>\n",
       "      <td>Perceptron</td>\n",
       "      <td>41.87</td>\n",
       "      <td>57.65</td>\n",
       "    </tr>\n",
       "    <tr>\n",
       "      <th>0</th>\n",
       "      <td>2-NN</td>\n",
       "      <td>26.07</td>\n",
       "      <td>49.85</td>\n",
       "    </tr>\n",
       "  </tbody>\n",
       "</table>\n",
       "</div>"
      ],
      "text/plain": [
       "                        Model  Training Error  Validation Set Accuracy\n",
       "2               Random Forest            8.82                    68.62\n",
       "1         Logistic Regression           31.13                    68.48\n",
       "5                  Linear SVM           32.45                    67.97\n",
       "4  Stochastic Gradient Decent           36.13                    63.93\n",
       "6               Decision Tree            8.21                    59.73\n",
       "3                  Perceptron           41.87                    57.65\n",
       "0                        2-NN           26.07                    49.85"
      ]
     },
     "execution_count": 41,
     "metadata": {},
     "output_type": "execute_result"
    }
   ],
   "source": [
    "print 'predict-dsm-woflags-newsplit-sample20000'\n",
    "models = pd.DataFrame({\n",
    "    'Model': [ '2-NN', 'Logistic Regression', \n",
    "              'Random Forest', 'Perceptron', \n",
    "              'Stochastic Gradient Decent', 'Linear SVM', \n",
    "              'Decision Tree'],\n",
    "    \n",
    "    'Validation Set Accuracy': [ acc_2nn, acc_log, \n",
    "              acc_random_forest, acc_perceptron, \n",
    "              acc_sgd, acc_linear_svc, acc_decision_tree],\n",
    "        \n",
    "    'Training Error': [100 - item for item in [ts_acc_2nn, ts_acc_log, \n",
    "              ts_acc_random_forest, ts_acc_perceptron, \n",
    "              ts_acc_sgd, ts_acc_linear_svc, ts_acc_decision_tree]],\n",
    "    })\n",
    "models.sort_values(by='Validation Set Accuracy', ascending=False)\n"
   ]
  },
  {
   "cell_type": "code",
   "execution_count": 47,
   "metadata": {
    "collapsed": true
   },
   "outputs": [],
   "source": []
  },
  {
   "cell_type": "code",
   "execution_count": 50,
   "metadata": {
    "collapsed": false
   },
   "outputs": [
    {
     "name": "stdout",
     "output_type": "stream",
     "text": [
      "Confusion matrix, without normalization\n",
      "[[ 517   55    0    1    0    0    2    0]\n",
      " [  66 1094   10   23   21    8   57    0]\n",
      " [   0   18 1079    9   11    9    1    5]\n",
      " [   0   22    9  249   30    3    0    9]\n",
      " [   0   19   12    7  433    9    6  114]\n",
      " [   2   80  101   29   57  311    3    3]\n",
      " [  27  246    1    4   13    9  129    4]\n",
      " [   0   14    5    8  144    0    3  231]]\n",
      "Normalized confusion matrix\n",
      "[[  8.99e-01   9.57e-02   0.00e+00   1.74e-03   0.00e+00   0.00e+00\n",
      "    3.48e-03   0.00e+00]\n",
      " [  5.16e-02   8.55e-01   7.82e-03   1.80e-02   1.64e-02   6.25e-03\n",
      "    4.46e-02   0.00e+00]\n",
      " [  0.00e+00   1.59e-02   9.53e-01   7.95e-03   9.72e-03   7.95e-03\n",
      "    8.83e-04   4.42e-03]\n",
      " [  0.00e+00   6.83e-02   2.80e-02   7.73e-01   9.32e-02   9.32e-03\n",
      "    0.00e+00   2.80e-02]\n",
      " [  0.00e+00   3.17e-02   2.00e-02   1.17e-02   7.22e-01   1.50e-02\n",
      "    1.00e-02   1.90e-01]\n",
      " [  3.41e-03   1.37e-01   1.72e-01   4.95e-02   9.73e-02   5.31e-01\n",
      "    5.12e-03   5.12e-03]\n",
      " [  6.24e-02   5.68e-01   2.31e-03   9.24e-03   3.00e-02   2.08e-02\n",
      "    2.98e-01   9.24e-03]\n",
      " [  0.00e+00   3.46e-02   1.23e-02   1.98e-02   3.56e-01   0.00e+00\n",
      "    7.41e-03   5.70e-01]]\n"
     ]
    }
   ],
   "source": [
    "Y_pred = linear_svc.predict(X_validate)\n",
    "\n",
    "\n",
    "from sklearn.metrics import confusion_matrix\n",
    "\n",
    "cm = confusion_matrix(Y_validate, Y_pred, labels=[3,4,5,6,7,8,9,10])\n",
    "\n",
    "import itertools\n",
    "\n",
    "def plot_confusion_matrix(cm, classes,\n",
    "                          normalize=False,\n",
    "                          title='Confusion matrix',\n",
    "                          cmap=plt.cm.Blues):\n",
    "    \"\"\"\n",
    "    This function prints and plots the confusion matrix.\n",
    "    Normalization can be applied by setting `normalize=True`.\n",
    "    \"\"\"\n",
    "    if normalize:\n",
    "        cm = cm.astype('float') / cm.sum(axis=1)[:, np.newaxis]\n",
    "        print(\"Normalized confusion matrix\")\n",
    "    else:\n",
    "        print('Confusion matrix, without normalization')\n",
    "\n",
    "    print(cm)\n",
    "\n",
    "    plt.imshow(cm, interpolation='nearest', cmap=cmap)\n",
    "    plt.title(title)\n",
    "    plt.colorbar()\n",
    "    tick_marks = np.arange(len(classes))\n",
    "    plt.xticks(tick_marks, classes, rotation=45)\n",
    "    plt.yticks(tick_marks, classes)\n",
    "\n",
    "    fmt = '.2f' if normalize else 'd'\n",
    "    thresh = cm.max() / 2.\n",
    "    for i, j in itertools.product(range(cm.shape[0]), range(cm.shape[1])):\n",
    "        plt.text(j, i, format(cm[i, j], fmt),\n",
    "                 horizontalalignment=\"center\",\n",
    "                 color=\"white\" if cm[i, j] > thresh else \"black\")\n",
    "\n",
    "    plt.tight_layout()\n",
    "    plt.ylabel('True label')\n",
    "    plt.xlabel('Predicted label')\n",
    "\n",
    "# Compute confusion matrix\n",
    "cnf_matrix = cm #confusion_matrix(y_test, Y_pred)\n",
    "#class_names = [\"ANXIETY\",\"DEPRESS\",\"SCHIZOPHRENIA\",\"BIPOLAR\",\"ATTENTION DEFICIT\"]\n",
    "class_names = [3,4,5,6,7,8,9,10]\n",
    "np.set_printoptions(precision=2)\n",
    "\n",
    "# Plot non-normalized confusion matrix\n",
    "plt.figure()\n",
    "plot_confusion_matrix(cnf_matrix, class_names,\n",
    "                      title='Confusion matrix, without normalization')\n",
    "plt.savefig('cnf matrix', dpi=150)\n",
    "\n",
    "# Plot normalized confusion matrix\n",
    "plt.figure()\n",
    "plot_confusion_matrix(cnf_matrix, classes=class_names, normalize=True,\n",
    "                      title='Normalized confusion matrix')\n",
    "\n",
    "#plt.figure(figsize=(16,8))\n",
    "plt.savefig('cnf matrix norm', dpi=150)"
   ]
  }
 ],
 "metadata": {
  "kernelspec": {
   "display_name": "Python 2",
   "language": "python",
   "name": "python2"
  },
  "language_info": {
   "codemirror_mode": {
    "name": "ipython",
    "version": 2
   },
   "file_extension": ".py",
   "mimetype": "text/x-python",
   "name": "python",
   "nbconvert_exporter": "python",
   "pygments_lexer": "ipython2",
   "version": "2.7.10"
  }
 },
 "nbformat": 4,
 "nbformat_minor": 2
}
