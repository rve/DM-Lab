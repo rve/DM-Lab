{
 "cells": [
  {
   "cell_type": "code",
   "execution_count": 9,
   "metadata": {
    "collapsed": false
   },
   "outputs": [
    {
     "ename": "ImportError",
     "evalue": "No module named pandas",
     "output_type": "error",
     "traceback": [
      "\u001b[0;31m---------------------------------------------------------------------------\u001b[0m",
      "\u001b[0;31mImportError\u001b[0m                               Traceback (most recent call last)",
      "\u001b[0;32m<ipython-input-9-6f9f8af912a0>\u001b[0m in \u001b[0;36m<module>\u001b[0;34m()\u001b[0m\n\u001b[1;32m      1\u001b[0m \u001b[0;31m#import csv from the dataset\u001b[0m\u001b[0;34m\u001b[0m\u001b[0;34m\u001b[0m\u001b[0m\n\u001b[0;32m----> 2\u001b[0;31m \u001b[0;32mimport\u001b[0m \u001b[0mpandas\u001b[0m \u001b[0;32mas\u001b[0m \u001b[0mpd\u001b[0m\u001b[0;34m\u001b[0m\u001b[0m\n\u001b[0m\u001b[1;32m      3\u001b[0m \u001b[0mdf\u001b[0m\u001b[0;34m=\u001b[0m\u001b[0mpd\u001b[0m\u001b[0;34m.\u001b[0m\u001b[0mread_csv\u001b[0m\u001b[0;34m(\u001b[0m\u001b[0;34m'c:/Users/Raghav.sharma/Desktop/dmLab/combinedfile2.csv'\u001b[0m\u001b[0;34m)\u001b[0m\u001b[0;34m\u001b[0m\u001b[0m\n",
      "\u001b[0;31mImportError\u001b[0m: No module named pandas"
     ]
    }
   ],
   "source": [
    "#import csv from the dataset\n",
    "import pandas as pd\n",
    "df=pd.read_csv('c:/Users/Raghav.sharma/Desktop/dmLab/combinedfile2.csv')"
   ]
  },
  {
   "cell_type": "code",
   "execution_count": null,
   "metadata": {
    "collapsed": false
   },
   "outputs": [],
   "source": [
    "df.head()"
   ]
  },
  {
   "cell_type": "code",
   "execution_count": null,
   "metadata": {
    "collapsed": false
   },
   "outputs": [],
   "source": [
    "import matplotlib.pyplot as plt\n",
    "import seaborn as sns\n",
    "sns.set(font_scale=1)\n",
    "df1="
   ]
  },
  {
   "cell_type": "code",
   "execution_count": null,
   "metadata": {
    "collapsed": false
   },
   "outputs": [],
   "source": [
    "corr=df.loc[:,[\"GENDER\",\"RACE\",\"ETHNIC\",\"EDUC\",\"EMPLOY\",\"LIVARAG\",\"PRIMINC\",\"ARRESTS\",\"STFIPS\",\"REGION\",\"DIVISION\",\"SERVSETA\",\"DAYWAIT\",\"PSOURCE\",\"NOPRIOR\",\"SUB1\",\"FRSTUSE1\",\"FREQ1\"]].corr()#[\"Survived\"]\n",
    "plt.figure(figsize=(10, 20))\n",
    "sns.heatmap(corr, vmax=.8, linewidths=0.01,\n",
    "            square=True,annot=True,cmap='YlGnBu',linecolor=\"white\")\n",
    "plt.title('Correlation between features');\n",
    "plt.show()"
   ]
  },
  {
   "cell_type": "code",
   "execution_count": null,
   "metadata": {
    "collapsed": false
   },
   "outputs": [],
   "source": [
    "#df.RACE.apply(df.value_counts).plot.pie(subplots = True)\n",
    "#a.apply(pd.value_counts).plot.pie(subplots=True)\n",
    "slices=df['RACE'].value_counts()\n",
    "list(slices)\n",
    "\n",
    "labels=[]\n",
    "plt.pie(slices,labels=labels,colors=['white', '#0fff00','gold', 'yellowgreen', 'lightcoral', 'lightskyblue','red','yellow','blue'],startangle=90,shadow=True,autopct='%1.1f%%')\n",
    "fig = plt.gcf()\n",
    "fig.set_size_inches(6,6)\n",
    "plt.legend(labels, loc=\"best\")\n",
    "\n",
    "plt.show()"
   ]
  },
  {
   "cell_type": "code",
   "execution_count": null,
   "metadata": {
    "collapsed": false
   },
   "outputs": [],
   "source": [
    "import matplotlib.pyplot as plt\n",
    "# The slices will be ordered and plotted counter-clockwise.\n",
    "labels = ['WHITE','BLACK OR AFRICAN AMERICAN','OTHER SINGLE RACE','AMERICAN INDIAN OTHER THAN ALASKA NATIVE','TWO OR MORE RACES','ASIAN','NATIVE HAWAIIAN OR OTHER PACIFIC ISLANDER','ALASKA NATIVE (ALEUT, ESKIMO, INDIAN)','ASIAN OR PACIFIC ISLANDER']\n",
    "slices=df['RACE'].value_counts()\n",
    "slices=slices.drop([-9])\n",
    "colors = ['cyan', '#0fff00','gold', 'yellowgreen', 'lightcoral', 'lightskyblue','red','yellow','black']\n",
    "patches, texts = plt.pie(slices, colors=colors, startangle=90)\n",
    "plt.legend(patches, labels,loc = 'best')\n",
    "# Set aspect ratio to be equal so that pie is drawn as a circle.\n",
    "plt.axis('equal')\n",
    "fig = plt.gcf()\n",
    "fig.set_size_inches(5,5)\n",
    "plt.tight_layout()\n",
    "plt.title(\"RACE OF MENTAL PATIENTS OVER THE YEARS\")\n",
    "plt.show()\n",
    "slices"
   ]
  },
  {
   "cell_type": "code",
   "execution_count": null,
   "metadata": {
    "collapsed": false,
    "scrolled": true
   },
   "outputs": [],
   "source": [
    "import matplotlib.pyplot as plt\n",
    "# The slices will be ordered and plotted counter-clockwise.\n",
    "labels = [\"NOT OF HISPANIC ORIGIN\",\"PUERTO RICAN\",\"MEXICAN\",\"OTHER SPECIFIC HISPANIC\",\"HISPANIC SPECIFIC ORIGIN NOT SPECIFIED\",\"CUBAN\"]\n",
    "slices=df['ETHNIC'].value_counts()\n",
    "slices=slices.drop([-9])\n",
    "colors = ['cyan', '#0fff00', 'yellowgreen', 'lightcoral', 'lightskyblue','yellow']\n",
    "patches, texts = plt.pie(slices, colors=colors, startangle=90)\n",
    "plt.legend(patches, labels,loc = 'best')\n",
    "# Set aspect ratio to be equal so that pie is drawn as a circle.\n",
    "plt.axis('equal')\n",
    "fig = plt.gcf()\n",
    "fig.set_size_inches(5,5)\n",
    "plt.tight_layout()\n",
    "plt.title(\"ETHNICITY OF MENTAL PATIENTS OVER YEARS\")\n",
    "plt.show()\n",
    "slices"
   ]
  },
  {
   "cell_type": "code",
   "execution_count": null,
   "metadata": {
    "collapsed": false
   },
   "outputs": [],
   "source": [
    "df.groupby('AGE')['YEAR'].value_counts()"
   ]
  },
  {
   "cell_type": "code",
   "execution_count": null,
   "metadata": {
    "collapsed": true
   },
   "outputs": [],
   "source": []
  },
  {
   "cell_type": "code",
   "execution_count": null,
   "metadata": {
    "collapsed": true
   },
   "outputs": [],
   "source": [
    "import matplotlib\n",
    "matplotlib.style.use('ggplot')\n"
   ]
  },
  {
   "cell_type": "code",
   "execution_count": null,
   "metadata": {
    "collapsed": false
   },
   "outputs": [],
   "source": [
    "plt.figure()\n",
    "df.groupby('AGE')['YEAR'].value_counts().unstack().plot()\n",
    "plt.title('Number Of Patients by Age group')\n",
    "\n",
    "ax = plt.gca() # grab the current axis\n",
    "#ax.set_xticks([2,4,6]) # choose which x locations to have ticks\n",
    "ax.set_xticklabels([\"12-14\",\"18-20\",\"25-29\",\"35-39\",\"45-49\",\"55 AND OVER\"]) \n",
    "plt.show()\n",
    "# set the labels to display at those ticks"
   ]
  },
  {
   "cell_type": "code",
   "execution_count": null,
   "metadata": {
    "collapsed": false
   },
   "outputs": [],
   "source": [
    "import matplotlib.pyplot as plt\n",
    "\n",
    "ax = plt.gca() # grab the current axis\n",
    "ax.set_xticks([1,2,3]) # choose which x locations to have ticks\n",
    "ax.set_xticklabels([1,\"key point\",2]) # set the labels to display at those ticks"
   ]
  },
  {
   "cell_type": "code",
   "execution_count": 7,
   "metadata": {
    "collapsed": false
   },
   "outputs": [
    {
     "ename": "NameError",
     "evalue": "name 'df' is not defined",
     "output_type": "error",
     "traceback": [
      "\u001b[0;31m---------------------------------------------------------------------------\u001b[0m",
      "\u001b[0;31mNameError\u001b[0m                                 Traceback (most recent call last)",
      "\u001b[0;32m<ipython-input-7-371261531b02>\u001b[0m in \u001b[0;36m<module>\u001b[0;34m()\u001b[0m\n\u001b[0;32m----> 1\u001b[0;31m \u001b[0mdf\u001b[0m\u001b[0;34m.\u001b[0m\u001b[0mgroupby\u001b[0m\u001b[0;34m(\u001b[0m\u001b[0;34m'STFIPS'\u001b[0m\u001b[0;34m)\u001b[0m\u001b[0;34m[\u001b[0m\u001b[0;34m'DAYWAIT'\u001b[0m\u001b[0;34m]\u001b[0m\u001b[0;34m.\u001b[0m\u001b[0mvalue_counts\u001b[0m\u001b[0;34m(\u001b[0m\u001b[0;34m)\u001b[0m\u001b[0;34m\u001b[0m\u001b[0m\n\u001b[0m",
      "\u001b[0;31mNameError\u001b[0m: name 'df' is not defined"
     ]
    }
   ],
   "source": []
  }
 ],
 "metadata": {
  "kernelspec": {
   "display_name": "Python 2",
   "language": "python",
   "name": "python2"
  },
  "language_info": {
   "codemirror_mode": {
    "name": "ipython",
    "version": 2
   },
   "file_extension": ".py",
   "mimetype": "text/x-python",
   "name": "python",
   "nbconvert_exporter": "python",
   "pygments_lexer": "ipython2",
   "version": "2.7.10"
  }
 },
 "nbformat": 4,
 "nbformat_minor": 2
}
