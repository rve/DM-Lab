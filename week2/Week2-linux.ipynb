{
 "cells": [
  {
   "cell_type": "code",
   "execution_count": null,
   "metadata": {
    "collapsed": false
   },
   "outputs": [],
   "source": [
    "#import csv from the dataset\n",
    "import pandas as pd\n",
    "import os\n",
    "\n",
    "print(os.getcwd())\n"
   ]
  },
  {
   "cell_type": "code",
   "execution_count": null,
   "metadata": {
    "collapsed": false
   },
   "outputs": [],
   "source": [
    "df=pd.read_csv('../final.csv')\n",
    "df.head()\n",
    "\n"
   ]
  },
  {
   "cell_type": "code",
   "execution_count": null,
   "metadata": {
    "collapsed": false
   },
   "outputs": [],
   "source": [
    "import matplotlib.pyplot as plt\n",
    "import seaborn as sns\n",
    "sns.set(font_scale=1)\n"
   ]
  },
  {
   "cell_type": "code",
   "execution_count": null,
   "metadata": {
    "collapsed": false
   },
   "outputs": [],
   "source": [
    "corr=df.loc[:,[\"GENDER\",\"RACE\",\"ETHNIC\",\"EDUC\",\"EMPLOY\",\"LIVARAG\",\"PRIMINC\",\"ARRESTS\",\"STFIPS\",\"REGION\",\"DIVISION\",\"SERVSETA\",\"DAYWAIT\",\"PSOURCE\",\"NOPRIOR\",\"SUB1\",\"FRSTUSE1\",\"FREQ1\"]].corr()#[\"Survived\"]\n",
    "plt.figure(figsize=(10, 20))\n",
    "sns.heatmap(corr, vmax=.8, linewidths=0.01,\n",
    "            square=True,annot=True,cmap='YlGnBu',linecolor=\"white\")\n",
    "plt.title('Correlation between features');\n",
    "plt.show()"
   ]
  },
  {
   "cell_type": "code",
   "execution_count": null,
   "metadata": {
    "collapsed": false
   },
   "outputs": [],
   "source": [
    "#df.RACE.apply(df.value_counts).plot.pie(subplots = True)\n",
    "#a.apply(pd.value_counts).plot.pie(subplots=True)\n",
    "slices=df['RACE'].value_counts()\n",
    "list(slices)\n",
    "\n",
    "labels=[]\n",
    "plt.pie(slices,labels=labels,colors=['white', '#0fff00','gold', 'yellowgreen', 'lightcoral', 'lightskyblue','red','yellow','blue'],startangle=90,shadow=True,autopct='%1.1f%%')\n",
    "fig = plt.gcf()\n",
    "fig.set_size_inches(6,6)\n",
    "plt.legend(labels, loc=\"best\")\n",
    "\n",
    "plt.show()"
   ]
  },
  {
   "cell_type": "code",
   "execution_count": null,
   "metadata": {
    "collapsed": false
   },
   "outputs": [],
   "source": [
    "import matplotlib.pyplot as plt\n",
    "# The slices will be ordered and plotted counter-clockwise.\n",
    "labels = ['WHITE','BLACK OR AFRICAN AMERICAN','OTHER SINGLE RACE','AMERICAN INDIAN OTHER THAN ALASKA NATIVE','TWO OR MORE RACES','ASIAN','NATIVE HAWAIIAN OR OTHER PACIFIC ISLANDER','ALASKA NATIVE (ALEUT, ESKIMO, INDIAN)','ASIAN OR PACIFIC ISLANDER']\n",
    "slices=df['RACE'].value_counts()\n",
    "slices=slices.drop([-9])\n",
    "colors = ['cyan', '#0fff00','gold', 'yellowgreen', 'lightcoral', 'lightskyblue','red','yellow','black']\n",
    "patches, texts = plt.pie(slices, colors=colors, startangle=90)\n",
    "plt.legend(patches, labels,loc = 'best')\n",
    "# Set aspect ratio to be equal so that pie is drawn as a circle.\n",
    "plt.axis('equal')\n",
    "fig = plt.gcf()\n",
    "fig.set_size_inches(5,5)\n",
    "plt.tight_layout()\n",
    "plt.title(\"RACE OF MENTAL PATIENTS OVER THE YEARS\")\n",
    "plt.show()\n",
    "slices"
   ]
  },
  {
   "cell_type": "code",
   "execution_count": null,
   "metadata": {
    "collapsed": false,
    "scrolled": true
   },
   "outputs": [],
   "source": [
    "import matplotlib.pyplot as plt\n",
    "# The slices will be ordered and plotted counter-clockwise.\n",
    "labels = [\"NOT OF HISPANIC ORIGIN\",\"PUERTO RICAN\",\"MEXICAN\",\"OTHER SPECIFIC HISPANIC\",\"HISPANIC SPECIFIC ORIGIN NOT SPECIFIED\",\"CUBAN\"]\n",
    "slices=df['ETHNIC'].value_counts()\n",
    "slices=slices.drop([-9])\n",
    "colors = ['cyan', '#0fff00', 'yellowgreen', 'lightcoral', 'lightskyblue','yellow']\n",
    "patches, texts = plt.pie(slices, colors=colors, startangle=90)\n",
    "plt.legend(patches, labels,loc = 'best')\n",
    "# Set aspect ratio to be equal so that pie is drawn as a circle.\n",
    "plt.axis('equal')\n",
    "fig = plt.gcf()\n",
    "fig.set_size_inches(5,5)\n",
    "plt.tight_layout()\n",
    "plt.title(\"ETHNICITY OF MENTAL PATIENTS OVER YEARS\")\n",
    "plt.show()\n",
    "slices"
   ]
  },
  {
   "cell_type": "code",
   "execution_count": null,
   "metadata": {
    "collapsed": false
   },
   "outputs": [],
   "source": [
    "df.groupby('AGE')['YEAR'].value_counts()"
   ]
  },
  {
   "cell_type": "code",
   "execution_count": null,
   "metadata": {
    "collapsed": true
   },
   "outputs": [],
   "source": []
  },
  {
   "cell_type": "code",
   "execution_count": null,
   "metadata": {
    "collapsed": false
   },
   "outputs": [],
   "source": [
    "import matplotlib\n",
    "matplotlib.style.use('ggplot')\n",
    "print(df['YEAR'].value_counts())"
   ]
  },
  {
   "cell_type": "code",
   "execution_count": null,
   "metadata": {
    "collapsed": false
   },
   "outputs": [],
   "source": [
    "plt.figure()\n",
    "df['YEAR'].value_counts().unstack().plot()\n",
    "plt.title('Number Of Patients by Age group')\n",
    "\n",
    "ax = plt.gca() # grab the current axis\n",
    "#ax.set_xticks([2,4,6]) # choose which x locations to have ticks\n",
    "ax.set_xticklabels([\"12-14\",\"18-20\",\"25-29\",\"35-39\",\"45-49\",\"55 AND OVER\"]) \n",
    "plt.show()\n",
    "# set the labels to display at those ticks"
   ]
  },
  {
   "cell_type": "code",
   "execution_count": null,
   "metadata": {
    "collapsed": false
   },
   "outputs": [],
   "source": [
    "import matplotlib.pyplot as plt\n",
    "\n",
    "ax = plt.gca() # grab the current axis\n",
    "ax.set_xticks([1,2,3]) # choose which x locations to have ticks\n",
    "ax.set_xticklabels([1,\"key point\",2]) # set the labels to display at those ticks"
   ]
  },
  {
   "cell_type": "code",
   "execution_count": null,
   "metadata": {
    "collapsed": false
   },
   "outputs": [],
   "source": [
    "df2 = df[(df[['DAYWAIT']] > 0).all(1)]\n",
    "df_positive = df[(df[['DAYWAIT']] >= 0).all(1)]\n",
    "df2 = df2[(df2[['DAYWAIT']] <= 35 ).all(1)]\n",
    "df2.groupby('YEAR')['DAYWAIT'].value_counts()"
   ]
  },
  {
   "cell_type": "code",
   "execution_count": null,
   "metadata": {
    "collapsed": false
   },
   "outputs": [],
   "source": [
    "plt.figure()\n",
    "#df3 = df_positive[(df_positive[['DAYWAIT']] <= 550 ).all(1)]\n",
    "df3 = df\n",
    "df3['WAITING'] = df3['DAYWAIT'].apply(lambda x: '0 daywait' if x==0 else 'missing' if x < 0 else 'daywait > 1')\n",
    "df3.groupby('YEAR')['WAITING'].value_counts().unstack().plot()\n",
    "print(df3.groupby('YEAR')['WAITING'].value_counts())\n",
    "plt.title('Waiting of Patients by Year')\n",
    "plt.ylabel('number of patients')\n",
    "\n",
    "ax = plt.gca() # grab the current axis\n",
    "#ax.set_xticks([2,4,6]) # choose which x locations to have ticks\n",
    "#ax.set_xticklabels([\"12-14\",\"18-20\",\"25-29\",\"35-39\",\"45-49\",\"55 AND OVER\"]) \n",
    "plt.show()"
   ]
  },
  {
   "cell_type": "code",
   "execution_count": null,
   "metadata": {
    "collapsed": false
   },
   "outputs": [],
   "source": [
    "print(df3.groupby('YEAR')['WAITING'].value_counts())\n",
    "\n",
    "#df4=pd.read_csv('../tmp3.csv')\n",
    "#print (df4)\n",
    "\n",
    "#df4['percent'] = df4.COUNT/df4.groupby('YEAR').COUNT.transform('sum')\n",
    "#print df4"
   ]
  },
  {
   "cell_type": "code",
   "execution_count": null,
   "metadata": {
    "collapsed": false
   },
   "outputs": [],
   "source": [
    "print(df3.groupby('YEAR')['WAITING'].value_counts())\n"
   ]
  },
  {
   "cell_type": "code",
   "execution_count": null,
   "metadata": {
    "collapsed": false
   },
   "outputs": [],
   "source": [
    "df_mean = df_positive[['STFIPS','DAYWAIT']]\n",
    "\n",
    "df_mean = df_mean.groupby(['STFIPS'])[['DAYWAIT']].mean()\n",
    "#df_mean = df_mean.groupby('DAYWAIT').nlargest(5)\n",
    "df_mean_sorted = df_mean.sort_values(by='DAYWAIT').head(5)\n",
    "print(df_mean_sorted)\n",
    "#df_positive.query('STFIPS == 20')['DAYWAIT']\n",
    "#df_mean\n"
   ]
  },
  {
   "cell_type": "code",
   "execution_count": null,
   "metadata": {
    "collapsed": false
   },
   "outputs": [],
   "source": [
    "df2=pd.read_csv('../tmp.csv')\n",
    "print(df2)\n",
    "df2.dtypes.index\n",
    "#plt.scatter(df2['STATE'], df2['DAYWAIT'])\n",
    "df2.plot(x='STATE', y='DAYWAIT')\n",
    "plt.title(\"top 5 states - lowest mean \")\n",
    "plt.show()\n"
   ]
  },
  {
   "cell_type": "code",
   "execution_count": null,
   "metadata": {
    "collapsed": false
   },
   "outputs": [],
   "source": []
  },
  {
   "cell_type": "code",
   "execution_count": null,
   "metadata": {
    "collapsed": false
   },
   "outputs": [],
   "source": [
    "df3 = df_positive['STFIPS'].value_counts()\n",
    "print(df3.head(5))\n",
    "print(df_mean.sort_values(by='DAYWAIT'))\n"
   ]
  },
  {
   "cell_type": "code",
   "execution_count": null,
   "metadata": {
    "collapsed": true
   },
   "outputs": [],
   "source": []
  }
 ],
 "metadata": {
  "kernelspec": {
   "display_name": "Python 2",
   "language": "python",
   "name": "python2"
  },
  "language_info": {
   "codemirror_mode": {
    "name": "ipython",
    "version": 2
   },
   "file_extension": ".py",
   "mimetype": "text/x-python",
   "name": "python",
   "nbconvert_exporter": "python",
   "pygments_lexer": "ipython2",
   "version": "2.7.10"
  }
 },
 "nbformat": 4,
 "nbformat_minor": 2
}
