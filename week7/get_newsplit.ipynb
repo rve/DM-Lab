{
 "cells": [
  {
   "cell_type": "code",
   "execution_count": 1,
   "metadata": {
    "collapsed": false
   },
   "outputs": [
    {
     "data": {
      "text/plain": [
       "(9105077, 62)"
      ]
     },
     "execution_count": 1,
     "metadata": {},
     "output_type": "execute_result"
    }
   ],
   "source": [
    "#import csv from the dataset\n",
    "import pandas as pd\n",
    "import matplotlib.pyplot as plt\n",
    "import seaborn as sns\n",
    "sns.set(font_scale=1)\n",
    "plt.style.use('ggplot')\n",
    "\n",
    "\n",
    "df=pd.read_csv('../final.csv')\n",
    "\n",
    "df.shape"
   ]
  },
  {
   "cell_type": "code",
   "execution_count": 8,
   "metadata": {
    "collapsed": false,
    "scrolled": false
   },
   "outputs": [
    {
     "name": "stdout",
     "output_type": "stream",
     "text": [
      "(2292156, 42)\n",
      "['YEAR', 'AGE', 'GENDER', 'RACE', 'ETHNIC', 'MARSTAT', 'EDUC', 'EMPLOY', 'VET', 'LIVARAG', 'ARRESTS', 'STFIPS', 'SERVSETA', 'NOPRIOR', 'SUB1', 'ROUTE1', 'FREQ1', 'FRSTUSE1', 'SUB2', 'SUB3', 'NUMSUBS', 'ALCFLG', 'COKEFLG', 'MARFLG', 'HERFLG', 'METHFLG', 'OPSYNFLG', 'PCPFLG', 'HALLFLG', 'MTHAMFLG', 'AMPHFLG', 'STIMFLG', 'BENZFLG', 'TRNQFLG', 'BARBFLG', 'SEDHPFLG', 'INHFLG', 'OTCFLG', 'OTHERFLG', 'ALCDRUG', 'DSMCRIT', 'PSYPROB']\n"
     ]
    }
   ],
   "source": [
    "#for drop_list_suppl , we'll handle the missing values later\n",
    "drop_list = ['REGION', 'DIVISION', 'PSOURCE', 'PRIMPAY', 'PRIMINC', 'DAYWAIT',\n",
    "             'DETCRIM', 'HLTHINS', 'CBSA10', 'METHUSE', 'CASEID', 'DETNLF',]\n",
    "drop_list_suppl = ['FREQ2', 'FREQ3', 'FRSTUSE2', 'FRSTUSE3', 'ROUTE2', 'ROUTE3', \n",
    "                    'IDU', 'PREG', ]\n",
    "\n",
    "#remove NOPRIOr freq1 frstuse1 route1 SERVSETA sub3 PSYPROB MARSTAT VET\n",
    "train_df = df.drop(drop_list + drop_list_suppl, axis=1)\n",
    "\n",
    "df3 = train_df\n",
    "df3 = df3[(df3 >= 0).all(1)]\n",
    "print df3.shape\n",
    "print df3.columns.tolist()"
   ]
  },
  {
   "cell_type": "code",
   "execution_count": 9,
   "metadata": {
    "collapsed": false
   },
   "outputs": [
    {
     "name": "stdout",
     "output_type": "stream",
     "text": [
      "   YEAR  AGE  GENDER  RACE  ETHNIC  MARSTAT  EDUC  EMPLOY  VET  LIVARAG  \\\n",
      "0  2010    9       1    20       1        2     3       4    2        3   \n",
      "4  2010    9       1    20       1        2     2       4    2        3   \n",
      "5  2010    5       1    20       1        1     3       2    2        3   \n",
      "6  2010    8       1    20       1        1     3       4    2        3   \n",
      "8  2010    9       1    20       1        1     3       3    2        3   \n",
      "\n",
      "    ...     BENZFLG  TRNQFLG  BARBFLG  SEDHPFLG  INHFLG  OTCFLG  OTHERFLG  \\\n",
      "0   ...           0        0        0         0       0       0         0   \n",
      "4   ...           0        0        0         0       0       0         0   \n",
      "5   ...           1        0        0         0       0       0         0   \n",
      "6   ...           1        0        0         0       0       0         0   \n",
      "8   ...           0        0        0         0       0       0         0   \n",
      "\n",
      "   ALCDRUG  DSMCRIT  PSYPROB  \n",
      "0        1        4        1  \n",
      "4        2       15        2  \n",
      "5        2        8        1  \n",
      "6        3       15        1  \n",
      "8        2        5        2  \n",
      "\n",
      "[5 rows x 42 columns]\n"
     ]
    }
   ],
   "source": [
    "print df3.head()"
   ]
  },
  {
   "cell_type": "code",
   "execution_count": 10,
   "metadata": {
    "collapsed": false
   },
   "outputs": [
    {
     "data": {
      "text/plain": [
       "((1535744, 42),\n",
       " (756412, 42),\n",
       "          YEAR  AGE  GENDER  RACE  ETHNIC  MARSTAT  EDUC  EMPLOY  VET  LIVARAG  \\\n",
       " 2027294  2011    4       1     5       5        1     3       3    2        3   \n",
       " 3234043  2011    8       1     4       5        1     2       3    2        3   \n",
       " \n",
       "           ...     BENZFLG  TRNQFLG  BARBFLG  SEDHPFLG  INHFLG  OTCFLG  \\\n",
       " 2027294   ...           0        0        0         0       0       0   \n",
       " 3234043   ...           0        0        0         0       0       0   \n",
       " \n",
       "          OTHERFLG  ALCDRUG  DSMCRIT  PSYPROB  \n",
       " 2027294         0        3       10        2  \n",
       " 3234043         0        2        6        2  \n",
       " \n",
       " [2 rows x 42 columns])"
      ]
     },
     "execution_count": 10,
     "metadata": {},
     "output_type": "execute_result"
    }
   ],
   "source": [
    "from sklearn.model_selection import train_test_split\n",
    "train, validate = train_test_split(df3, test_size=0.33, random_state=42)\n",
    "train.shape, validate.shape, train.head(2)"
   ]
  },
  {
   "cell_type": "code",
   "execution_count": 11,
   "metadata": {
    "collapsed": false
   },
   "outputs": [],
   "source": [
    "train.to_csv('../train.csv', index=False)\n",
    "validate.to_csv('../validate.csv', index=False)"
   ]
  },
  {
   "cell_type": "code",
   "execution_count": null,
   "metadata": {
    "collapsed": false
   },
   "outputs": [],
   "source": []
  }
 ],
 "metadata": {
  "kernelspec": {
   "display_name": "Python 2",
   "language": "python",
   "name": "python2"
  },
  "language_info": {
   "codemirror_mode": {
    "name": "ipython",
    "version": 2
   },
   "file_extension": ".py",
   "mimetype": "text/x-python",
   "name": "python",
   "nbconvert_exporter": "python",
   "pygments_lexer": "ipython2",
   "version": "2.7.10"
  }
 },
 "nbformat": 4,
 "nbformat_minor": 2
}
