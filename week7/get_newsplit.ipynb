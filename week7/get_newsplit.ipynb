{
 "cells": [
  {
   "cell_type": "code",
   "execution_count": null,
   "metadata": {
    "collapsed": false
   },
   "outputs": [],
   "source": [
    "#import csv from the dataset\n",
    "import pandas as pd\n",
    "import matplotlib.pyplot as plt\n",
    "import seaborn as sns\n",
    "sns.set(font_scale=1)\n",
    "plt.style.use('ggplot')\n",
    "\n",
    "\n",
    "df=pd.read_csv('../final.csv')\n",
    "\n",
    "df.shape"
   ]
  },
  {
   "cell_type": "code",
   "execution_count": null,
   "metadata": {
    "collapsed": false,
    "scrolled": false
   },
   "outputs": [],
   "source": [
    "#for drop_list_suppl , we'll handle the missing values later\n",
    "drop_list = ['REGION', 'DIVISION', 'PRIMPAY', 'PRIMINC', 'DAYWAIT',\n",
    "             'HLTHINS', 'CBSA10', 'CASEID',]\n",
    "drop_list_suppl = ['FREQ2', 'FREQ3', 'FRSTUSE2', 'FRSTUSE3', 'ROUTE2', 'ROUTE3', \n",
    "                      ]\n",
    "\n",
    "\n",
    "#howto deal with: priminc\n",
    "#remove NOPRIOr freq1 frstuse1 route1 SERVSETA sub3 PSYPROB MARSTAT VET, PSOURCE DETCRIM METHUSE DETNLF IDU PREG\n",
    "train_df = df.drop(drop_list + drop_list_suppl, axis=1)\n",
    "train_df['DETCRIM'].replace(to_replace=[-9], value = 0, inplace=True)\n",
    "train_df['DETNLF'].replace(to_replace=[-9], value = 0, inplace=True)\n",
    "train_df['IDU'].replace(to_replace=[-9], value = 0, inplace=True)\n",
    "train_df.ix[train_df.GENDER.isin([1]), 'PREG'] = 2\n",
    "\n",
    "df3 = train_df\n",
    "df3 = df3[(df3 >= 0).all(1)]\n",
    "print df3.shape\n",
    "print df3.columns.tolist()"
   ]
  },
  {
   "cell_type": "code",
   "execution_count": null,
   "metadata": {
    "collapsed": false
   },
   "outputs": [],
   "source": [
    "df3['IDU'].describe()\n",
    "#print df3.head()"
   ]
  },
  {
   "cell_type": "code",
   "execution_count": null,
   "metadata": {
    "collapsed": false
   },
   "outputs": [],
   "source": [
    "from sklearn.model_selection import train_test_split\n",
    "train, validate = train_test_split(df3, test_size=0.33, random_state=42)\n",
    "train.shape, validate.shape, train.head(2)"
   ]
  },
  {
   "cell_type": "code",
   "execution_count": null,
   "metadata": {
    "collapsed": false
   },
   "outputs": [],
   "source": [
    "df3.to_csv('../trainval.csv', index=False)\n",
    "\n",
    "#train.to_csv('../train.csv', index=False)\n",
    "#validate.to_csv('../validate.csv', index=False)\n",
    "print 'done'"
   ]
  },
  {
   "cell_type": "code",
   "execution_count": null,
   "metadata": {
    "collapsed": false
   },
   "outputs": [],
   "source": []
  }
 ],
 "metadata": {
  "kernelspec": {
   "display_name": "Python 2",
   "language": "python",
   "name": "python2"
  },
  "language_info": {
   "codemirror_mode": {
    "name": "ipython",
    "version": 2
   },
   "file_extension": ".py",
   "mimetype": "text/x-python",
   "name": "python",
   "nbconvert_exporter": "python",
   "pygments_lexer": "ipython2",
   "version": "2.7.10"
  }
 },
 "nbformat": 4,
 "nbformat_minor": 2
}
