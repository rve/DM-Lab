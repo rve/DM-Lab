{
 "cells": [
  {
   "cell_type": "code",
   "execution_count": 1,
   "metadata": {
    "collapsed": false
   },
   "outputs": [
    {
     "data": {
      "text/plain": [
       "(9105077, 62)"
      ]
     },
     "execution_count": 1,
     "metadata": {},
     "output_type": "execute_result"
    }
   ],
   "source": [
    "#import csv from the dataset\n",
    "import pandas as pd\n",
    "import matplotlib.pyplot as plt\n",
    "import seaborn as sns\n",
    "sns.set(font_scale=1)\n",
    "plt.style.use('ggplot')\n",
    "\n",
    "\n",
    "df=pd.read_csv('../final.csv')\n",
    "df[['SUB1','GENDER']].head()\n",
    "\n",
    "df.shape"
   ]
  },
  {
   "cell_type": "code",
   "execution_count": 2,
   "metadata": {
    "collapsed": false,
    "scrolled": false
   },
   "outputs": [
    {
     "name": "stdout",
     "output_type": "stream",
     "text": [
      "(3216619, 33)\n",
      "['YEAR', 'AGE', 'GENDER', 'RACE', 'ETHNIC', 'EDUC', 'EMPLOY', 'LIVARAG', 'ARRESTS', 'STFIPS', 'SUB1', 'SUB2', 'NUMSUBS', 'ALCFLG', 'COKEFLG', 'MARFLG', 'HERFLG', 'METHFLG', 'OPSYNFLG', 'PCPFLG', 'HALLFLG', 'MTHAMFLG', 'AMPHFLG', 'STIMFLG', 'BENZFLG', 'TRNQFLG', 'BARBFLG', 'SEDHPFLG', 'INHFLG', 'OTCFLG', 'OTHERFLG', 'ALCDRUG', 'DSMCRIT']\n"
     ]
    }
   ],
   "source": [
    "#for drop_list_suppl , we'll handle the missing values later\n",
    "drop_list = ['REGION', 'DIVISION', 'PSOURCE', 'PRIMPAY', 'VET', 'PRIMINC', 'DAYWAIT',\n",
    "             'DETCRIM', 'HLTHINS', 'CBSA10', 'METHUSE', 'CASEID']\n",
    "drop_list_suppl = ['FREQ1', 'FREQ2', 'FREQ3', 'FRSTUSE1', 'FRSTUSE2', 'FRSTUSE3', 'ROUTE1', 'ROUTE2', 'ROUTE3', \n",
    "                   'PSYPROB', 'MARSTAT', 'NOPRIOR', 'SUB3', 'SERVSETA', 'IDU', 'PREG', 'DETNLF',]\n",
    "train_df = df.drop(drop_list + drop_list_suppl, axis=1)\n",
    "\n",
    "df3 = train_df\n",
    "df3 = df3[(df3 >= 0).all(1)]\n",
    "print df3.shape\n",
    "print df3.columns.tolist()"
   ]
  },
  {
   "cell_type": "code",
   "execution_count": 3,
   "metadata": {
    "collapsed": false
   },
   "outputs": [
    {
     "name": "stdout",
     "output_type": "stream",
     "text": [
      "   YEAR  AGE  GENDER  RACE  ETHNIC  EDUC  EMPLOY  LIVARAG  ARRESTS  STFIPS  \\\n",
      "0  2010    9       1    20       1     3       4        3        0      72   \n",
      "1  2010    9       1    20       1     1       1        3        0      72   \n",
      "3  2010    5       1    20       1     4       2        3        0      72   \n",
      "4  2010    9       1    20       1     2       4        3        1      72   \n",
      "5  2010    5       1    20       1     3       2        3        0      72   \n",
      "\n",
      "    ...     STIMFLG  BENZFLG  TRNQFLG  BARBFLG  SEDHPFLG  INHFLG  OTCFLG  \\\n",
      "0   ...           0        0        0        0         0       0       0   \n",
      "1   ...           0        0        0        0         0       0       0   \n",
      "3   ...           0        0        0        0         0       0       0   \n",
      "4   ...           0        0        0        0         0       0       0   \n",
      "5   ...           0        1        0        0         0       0       0   \n",
      "\n",
      "   OTHERFLG  ALCDRUG  DSMCRIT  \n",
      "0         0        1        4  \n",
      "1         1        3        9  \n",
      "3         0        3       19  \n",
      "4         0        2       15  \n",
      "5         0        2        8  \n",
      "\n",
      "[5 rows x 33 columns]\n"
     ]
    }
   ],
   "source": [
    "print df3.head()"
   ]
  },
  {
   "cell_type": "code",
   "execution_count": 6,
   "metadata": {
    "collapsed": false
   },
   "outputs": [],
   "source": [
    "from sklearn.model_selection import train_test_split\n",
    "train, validate = train_test_split(df3, test_size=0.33, random_state=42)\n"
   ]
  },
  {
   "cell_type": "code",
   "execution_count": 7,
   "metadata": {
    "collapsed": false
   },
   "outputs": [],
   "source": [
    "train.to_csv('../train.csv', index=False)\n",
    "validate.to_csv('../validate.csv', index=False)"
   ]
  },
  {
   "cell_type": "code",
   "execution_count": null,
   "metadata": {
    "collapsed": false
   },
   "outputs": [],
   "source": []
  }
 ],
 "metadata": {
  "kernelspec": {
   "display_name": "Python 2",
   "language": "python",
   "name": "python2"
  },
  "language_info": {
   "codemirror_mode": {
    "name": "ipython",
    "version": 2
   },
   "file_extension": ".py",
   "mimetype": "text/x-python",
   "name": "python",
   "nbconvert_exporter": "python",
   "pygments_lexer": "ipython2",
   "version": "2.7.10"
  }
 },
 "nbformat": 4,
 "nbformat_minor": 2
}
