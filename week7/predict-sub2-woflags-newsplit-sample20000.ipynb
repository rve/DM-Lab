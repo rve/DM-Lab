{
 "cells": [
  {
   "cell_type": "code",
   "execution_count": 1,
   "metadata": {
    "collapsed": false
   },
   "outputs": [
    {
     "data": {
      "text/plain": [
       "((1508933, 48), (743207, 48))"
      ]
     },
     "execution_count": 1,
     "metadata": {},
     "output_type": "execute_result"
    }
   ],
   "source": [
    "#import csv from the dataset\n",
    "import pandas as pd\n",
    "import matplotlib.pyplot as plt\n",
    "import seaborn as sns\n",
    "import numpy as np\n",
    "import random as rnd\n",
    "\n",
    "from sklearn.model_selection import cross_val_score\n",
    "\n",
    "# machine learning\n",
    "from sklearn.linear_model import LogisticRegression\n",
    "from sklearn.svm import SVC, LinearSVC\n",
    "from sklearn.ensemble import RandomForestClassifier\n",
    "from sklearn.neighbors import KNeighborsClassifier\n",
    "from sklearn.naive_bayes import GaussianNB\n",
    "from sklearn.linear_model import Perceptron\n",
    "from sklearn.linear_model import SGDClassifier\n",
    "from sklearn.tree import DecisionTreeClassifier\n",
    "sns.set(font_scale=1)\n",
    "plt.style.use('ggplot')\n",
    "\n",
    "\n",
    "train=pd.read_csv('../train.csv')\n",
    "validate=pd.read_csv('../validate.csv')\n",
    "#test=pd.read_csv('../testwDSM.csv')\n",
    "\n",
    "train.shape, validate.shape, #test.shape"
   ]
  },
  {
   "cell_type": "code",
   "execution_count": 2,
   "metadata": {
    "collapsed": false
   },
   "outputs": [
    {
     "data": {
      "text/plain": [
       "((20000, 48),\n",
       " (6000, 48),\n",
       "         YEAR  AGE  GENDER  RACE  ETHNIC  MARSTAT  EDUC  EMPLOY  DETNLF  PREG  \\\n",
       " 514023  2011    8       2     5       5        3     2       4       1     2   \n",
       " 361035  2014   10       1     5       5        1     3       1       0     2   \n",
       " \n",
       "          ...     BENZFLG  TRNQFLG  BARBFLG  SEDHPFLG  INHFLG  OTCFLG  \\\n",
       " 514023   ...           0        0        0         0       0       0   \n",
       " 361035   ...           0        0        0         0       0       0   \n",
       " \n",
       "         OTHERFLG  ALCDRUG  DSMCRIT  PSYPROB  \n",
       " 514023         0        2       17        1  \n",
       " 361035         0        1        4        2  \n",
       " \n",
       " [2 rows x 48 columns])"
      ]
     },
     "execution_count": 2,
     "metadata": {},
     "output_type": "execute_result"
    }
   ],
   "source": [
    "#train.describe()\n",
    "train = train.sample(20000)\n",
    "validate = validate.sample(6000)\n",
    "train.shape, validate.shape, validate.head(2)"
   ]
  },
  {
   "cell_type": "code",
   "execution_count": 3,
   "metadata": {
    "collapsed": false
   },
   "outputs": [
    {
     "data": {
      "text/plain": [
       "((20000, 26), (6000, 26))"
      ]
     },
     "execution_count": 3,
     "metadata": {},
     "output_type": "execute_result"
    }
   ],
   "source": [
    "#train = train.query('SUB1 <= 10').query('SUB2 <= 10')\n",
    "#validate = validate.query('SUB1 <= 10').query('SUB2 <= 10')\n",
    "\n",
    "drop_list = ['SUB2', 'YEAR', 'STFIPS', \n",
    "             'ALCFLG', 'COKEFLG', 'MARFLG', 'HERFLG', 'METHFLG', 'OPSYNFLG', 'PCPFLG', 'HALLFLG', 'MTHAMFLG', \n",
    "             'AMPHFLG', 'STIMFLG', 'BENZFLG', 'TRNQFLG', 'BARBFLG', 'SEDHPFLG', 'INHFLG', 'OTCFLG', 'OTHERFLG', \n",
    "             'ALCDRUG', #'NUMSUBS'\n",
    "             ]\n",
    "\n",
    "X_train = train.drop(drop_list, axis=1)\n",
    "Y_train = train[\"SUB2\"]\n",
    "X_validate = validate.drop(drop_list, axis=1)\n",
    "Y_validate = validate[\"SUB2\"]\n",
    "#X_test  = test.drop(drop_list, axis=1)\n",
    "X_train.shape, X_validate.shape, #X_test.shape\n",
    "\n"
   ]
  },
  {
   "cell_type": "code",
   "execution_count": 4,
   "metadata": {
    "collapsed": false
   },
   "outputs": [
    {
     "name": "stdout",
     "output_type": "stream",
     "text": [
      "['AGE', 'GENDER', 'RACE', 'ETHNIC', 'MARSTAT', 'EDUC', 'EMPLOY', 'DETNLF', 'PREG', 'VET', 'LIVARAG', 'ARRESTS', 'SERVSETA', 'METHUSE', 'PSOURCE', 'DETCRIM', 'NOPRIOR', 'SUB1', 'ROUTE1', 'FREQ1', 'FRSTUSE1', 'SUB3', 'NUMSUBS', 'IDU', 'DSMCRIT', 'PSYPROB']\n"
     ]
    }
   ],
   "source": [
    "print X_train.columns.tolist()"
   ]
  },
  {
   "cell_type": "code",
   "execution_count": 5,
   "metadata": {
    "collapsed": false
   },
   "outputs": [
    {
     "data": {
      "text/plain": [
       "((20000, 176), (6000, 176))"
      ]
     },
     "execution_count": 5,
     "metadata": {},
     "output_type": "execute_result"
    }
   ],
   "source": [
    "#one hot\n",
    "from sklearn import preprocessing\n",
    "\n",
    "# 1. INSTANTIATE\n",
    "enc = preprocessing.OneHotEncoder()\n",
    "\n",
    "# 2. FIT\n",
    "enc.fit(X_train)\n",
    "\n",
    "# 3. Transform\n",
    "onehotlabels = enc.transform(X_train).toarray()\n",
    "#onehotlabels.shape\n",
    "X_train = onehotlabels\n",
    "\n",
    "onehotlabels = enc.transform(X_validate).toarray()\n",
    "X_validate = onehotlabels\n",
    "\n",
    "X_train.shape, X_validate.shape"
   ]
  },
  {
   "cell_type": "code",
   "execution_count": null,
   "metadata": {
    "collapsed": false
   },
   "outputs": [],
   "source": []
  },
  {
   "cell_type": "code",
   "execution_count": 6,
   "metadata": {
    "collapsed": false
   },
   "outputs": [
    {
     "name": "stdout",
     "output_type": "stream",
     "text": [
      "68.58\n",
      "100.0\n"
     ]
    }
   ],
   "source": [
    "# Decision Tree\n",
    "\n",
    "decision_tree = DecisionTreeClassifier()\n",
    "decision_tree.fit(X_train, Y_train)\n",
    "#Y_pred = decision_tree.predict(X_test)\n",
    "acc_decision_tree = round(decision_tree.score(X_validate, Y_validate) * 100, 2)\n",
    "print acc_decision_tree\n",
    "ts_acc_decision_tree = round(decision_tree.score(X_train, Y_train) * 100, 2)\n",
    "print ts_acc_decision_tree\n",
    "#print cross_val_score(decision_tree, X_validate, Y_validate)"
   ]
  },
  {
   "cell_type": "code",
   "execution_count": 7,
   "metadata": {
    "collapsed": false
   },
   "outputs": [
    {
     "name": "stdout",
     "output_type": "stream",
     "text": [
      "77.45\n",
      "77.98\n"
     ]
    }
   ],
   "source": [
    "# Logistic Regression\n",
    "logreg = LogisticRegression()\n",
    "logreg.fit(X_train, Y_train)\n",
    "#Y_pred = logreg.predict(X_test)\n",
    "acc_log = round(logreg.score(X_validate, Y_validate) * 100, 2)\n",
    "print acc_log\n",
    "ts_acc_log = round(logreg.score(X_train, Y_train) * 100, 2)\n",
    "print ts_acc_log\n",
    "#print cross_val_score(logreg, X_validate, Y_validate)"
   ]
  },
  {
   "cell_type": "code",
   "execution_count": 8,
   "metadata": {
    "collapsed": false
   },
   "outputs": [
    {
     "name": "stderr",
     "output_type": "stream",
     "text": [
      "/Users/arc/Codes/DM-Lab/dmlab/lib/python2.7/site-packages/sklearn/linear_model/stochastic_gradient.py:128: FutureWarning: max_iter and tol parameters have been added in <class 'sklearn.linear_model.perceptron.Perceptron'> in 0.19. If both are left unset, they default to max_iter=5 and tol=None. If tol is not None, max_iter defaults to max_iter=1000. From 0.21, default max_iter will be 1000, and default tol will be 1e-3.\n",
      "  \"and default tol will be 1e-3.\" % type(self), FutureWarning)\n"
     ]
    },
    {
     "name": "stdout",
     "output_type": "stream",
     "text": [
      "72.13\n",
      "72.76\n"
     ]
    }
   ],
   "source": [
    "# Perceptron\n",
    "\n",
    "perceptron = Perceptron()\n",
    "perceptron.fit(X_train, Y_train)\n",
    "#Y_pred = perceptron.predict(X_test)\n",
    "acc_perceptron = round(perceptron.score(X_validate, Y_validate) * 100, 2)\n",
    "print acc_perceptron\n",
    "ts_acc_perceptron = round(perceptron.score(X_train, Y_train) * 100, 2)\n",
    "print ts_acc_perceptron\n",
    "#print cross_val_score(perceptron, X_validate, Y_validate)"
   ]
  },
  {
   "cell_type": "code",
   "execution_count": 9,
   "metadata": {
    "collapsed": false
   },
   "outputs": [
    {
     "name": "stderr",
     "output_type": "stream",
     "text": [
      "/Users/arc/Codes/DM-Lab/dmlab/lib/python2.7/site-packages/sklearn/linear_model/stochastic_gradient.py:128: FutureWarning: max_iter and tol parameters have been added in <class 'sklearn.linear_model.stochastic_gradient.SGDClassifier'> in 0.19. If both are left unset, they default to max_iter=5 and tol=None. If tol is not None, max_iter defaults to max_iter=1000. From 0.21, default max_iter will be 1000, and default tol will be 1e-3.\n",
      "  \"and default tol will be 1e-3.\" % type(self), FutureWarning)\n"
     ]
    },
    {
     "name": "stdout",
     "output_type": "stream",
     "text": [
      "74.28\n",
      "74.69\n"
     ]
    }
   ],
   "source": [
    "# Stochastic Gradient Descent\n",
    "\n",
    "sgd = SGDClassifier()\n",
    "sgd.fit(X_train, Y_train)\n",
    "#Y_pred = sgd.predict(X_test)\n",
    "acc_sgd = round(sgd.score(X_validate, Y_validate) * 100, 2)\n",
    "print acc_sgd\n",
    "ts_acc_sgd = round(sgd.score(X_train, Y_train) * 100, 2)\n",
    "print ts_acc_sgd\n",
    "#print cross_val_score(sgd, X_validate, Y_validate)"
   ]
  },
  {
   "cell_type": "code",
   "execution_count": 10,
   "metadata": {
    "collapsed": false
   },
   "outputs": [
    {
     "name": "stdout",
     "output_type": "stream",
     "text": [
      "48.52\n",
      "49.11\n"
     ]
    }
   ],
   "source": [
    "# Gaussian Naive Bayes\n",
    "\n",
    "gaussian = GaussianNB()\n",
    "gaussian.fit(X_train, Y_train)\n",
    "#Y_pred = gaussian.predict(X_test)\n",
    "acc_gaussian = round(gaussian.score(X_validate, Y_validate) * 100, 2)\n",
    "print acc_gaussian\n",
    "ts_acc_gaussian = round(gaussian.score(X_train, Y_train) * 100, 2)\n",
    "print ts_acc_gaussian\n",
    "#print cross_val_score(gaussian, X_validate, Y_validate)"
   ]
  },
  {
   "cell_type": "code",
   "execution_count": 11,
   "metadata": {
    "collapsed": false
   },
   "outputs": [
    {
     "name": "stdout",
     "output_type": "stream",
     "text": [
      "76.53\n",
      "100.0\n"
     ]
    }
   ],
   "source": [
    "# Random Forest (slow)\n",
    "\n",
    "random_forest = RandomForestClassifier(n_estimators=100)\n",
    "random_forest.fit(X_train, Y_train)\n",
    "#Y_pred = random_forest.predict(X_test)\n",
    "random_forest.score(X_train, Y_train)\n",
    "acc_random_forest = round(random_forest.score(X_validate, Y_validate) * 100, 2)\n",
    "print acc_random_forest\n",
    "ts_acc_random_forest = round(random_forest.score(X_train, Y_train) * 100, 2)\n",
    "print ts_acc_random_forest\n",
    "\n",
    "#print cross_val_score(random_forest, X_validate, Y_validate)"
   ]
  },
  {
   "cell_type": "code",
   "execution_count": 12,
   "metadata": {
    "collapsed": false
   },
   "outputs": [
    {
     "name": "stdout",
     "output_type": "stream",
     "text": [
      "62.58\n",
      "78.55\n"
     ]
    }
   ],
   "source": [
    "# 2-nn\n",
    "knn = KNeighborsClassifier(n_neighbors = 2)\n",
    "knn.fit(X_train, Y_train)\n",
    "#Y_pred = knn.predict(X_test)\n",
    "acc_2nn = round(knn.score(X_validate, Y_validate) * 100, 2)\n",
    "print acc_2nn\n",
    "ts_acc_2nn = round(knn.score(X_train, Y_train) * 100, 2)\n",
    "print ts_acc_2nn\n",
    "#print cross_val_score(knn, X_validate, Y_validate)"
   ]
  },
  {
   "cell_type": "code",
   "execution_count": 13,
   "metadata": {
    "collapsed": false
   },
   "outputs": [
    {
     "name": "stdout",
     "output_type": "stream",
     "text": [
      "73.97\n",
      "74.63\n"
     ]
    }
   ],
   "source": [
    "# Stochastic Gradient Descent\n",
    "\n",
    "sgd = SGDClassifier()\n",
    "sgd.fit(X_train, Y_train)\n",
    "#Y_pred = sgd.predict(X_test)\n",
    "acc_sgd = round(sgd.score(X_validate, Y_validate) * 100, 2)\n",
    "print acc_sgd\n",
    "ts_acc_sgd = round(sgd.score(X_train, Y_train) * 100, 2)\n",
    "print ts_acc_sgd\n",
    "#print cross_val_score(sgd, X_validate, Y_validate)"
   ]
  },
  {
   "cell_type": "code",
   "execution_count": 14,
   "metadata": {
    "collapsed": false
   },
   "outputs": [
    {
     "name": "stdout",
     "output_type": "stream",
     "text": [
      "74.25\n",
      "74.31\n"
     ]
    }
   ],
   "source": [
    "# Support Vector Machines\n",
    "\n",
    "svc = SVC()\n",
    "svc.fit(X_train, Y_train)\n",
    "#Y_pred = svc.predict(X_test)\n",
    "acc_svc = round(svc.score(X_validate, Y_validate) * 100, 2)\n",
    "print acc_svc\n",
    "ts_acc_svc = round(svc.score(X_train, Y_train) * 100, 2)\n",
    "print ts_acc_svc"
   ]
  },
  {
   "cell_type": "code",
   "execution_count": 15,
   "metadata": {
    "collapsed": false
   },
   "outputs": [
    {
     "name": "stdout",
     "output_type": "stream",
     "text": [
      "77.56\n",
      "77.32\n"
     ]
    }
   ],
   "source": [
    "# Linear SVC\n",
    "linear_svc = LinearSVC()\n",
    "linear_svc.fit(X_train, Y_train)\n",
    "#Y_pred = linear_svc.predict(X_test)\n",
    "acc_linear_svc = round(linear_svc.score(X_train, Y_train) * 100, 2)\n",
    "print acc_linear_svc\n",
    "ts_acc_linear_svc = round(linear_svc.score(X_validate, Y_validate) * 100, 2)\n",
    "print ts_acc_linear_svc\n"
   ]
  },
  {
   "cell_type": "code",
   "execution_count": 16,
   "metadata": {
    "collapsed": false
   },
   "outputs": [
    {
     "name": "stdout",
     "output_type": "stream",
     "text": [
      "predict-sub2-woflags-newsplit-sample20000\n"
     ]
    },
    {
     "data": {
      "text/html": [
       "<div>\n",
       "<style scoped>\n",
       "    .dataframe tbody tr th:only-of-type {\n",
       "        vertical-align: middle;\n",
       "    }\n",
       "\n",
       "    .dataframe tbody tr th {\n",
       "        vertical-align: top;\n",
       "    }\n",
       "\n",
       "    .dataframe thead th {\n",
       "        text-align: right;\n",
       "    }\n",
       "</style>\n",
       "<table border=\"1\" class=\"dataframe\">\n",
       "  <thead>\n",
       "    <tr style=\"text-align: right;\">\n",
       "      <th></th>\n",
       "      <th>Model</th>\n",
       "      <th>Train Set Score</th>\n",
       "      <th>Validate Set Score</th>\n",
       "    </tr>\n",
       "  </thead>\n",
       "  <tbody>\n",
       "    <tr>\n",
       "      <th>7</th>\n",
       "      <td>Linear SVC</td>\n",
       "      <td>77.32</td>\n",
       "      <td>77.56</td>\n",
       "    </tr>\n",
       "    <tr>\n",
       "      <th>2</th>\n",
       "      <td>Logistic Regression</td>\n",
       "      <td>77.98</td>\n",
       "      <td>77.45</td>\n",
       "    </tr>\n",
       "    <tr>\n",
       "      <th>3</th>\n",
       "      <td>Random Forest</td>\n",
       "      <td>100.00</td>\n",
       "      <td>76.53</td>\n",
       "    </tr>\n",
       "    <tr>\n",
       "      <th>0</th>\n",
       "      <td>Support Vector Machines</td>\n",
       "      <td>74.31</td>\n",
       "      <td>74.25</td>\n",
       "    </tr>\n",
       "    <tr>\n",
       "      <th>6</th>\n",
       "      <td>Stochastic Gradient Decent</td>\n",
       "      <td>74.63</td>\n",
       "      <td>73.97</td>\n",
       "    </tr>\n",
       "    <tr>\n",
       "      <th>5</th>\n",
       "      <td>Perceptron</td>\n",
       "      <td>72.76</td>\n",
       "      <td>72.13</td>\n",
       "    </tr>\n",
       "    <tr>\n",
       "      <th>8</th>\n",
       "      <td>Decision Tree</td>\n",
       "      <td>100.00</td>\n",
       "      <td>68.58</td>\n",
       "    </tr>\n",
       "    <tr>\n",
       "      <th>1</th>\n",
       "      <td>2-NN</td>\n",
       "      <td>78.55</td>\n",
       "      <td>62.58</td>\n",
       "    </tr>\n",
       "    <tr>\n",
       "      <th>4</th>\n",
       "      <td>Naive Bayes</td>\n",
       "      <td>49.11</td>\n",
       "      <td>48.52</td>\n",
       "    </tr>\n",
       "  </tbody>\n",
       "</table>\n",
       "</div>"
      ],
      "text/plain": [
       "                        Model  Train Set Score  Validate Set Score\n",
       "7                  Linear SVC            77.32               77.56\n",
       "2         Logistic Regression            77.98               77.45\n",
       "3               Random Forest           100.00               76.53\n",
       "0     Support Vector Machines            74.31               74.25\n",
       "6  Stochastic Gradient Decent            74.63               73.97\n",
       "5                  Perceptron            72.76               72.13\n",
       "8               Decision Tree           100.00               68.58\n",
       "1                        2-NN            78.55               62.58\n",
       "4                 Naive Bayes            49.11               48.52"
      ]
     },
     "execution_count": 16,
     "metadata": {},
     "output_type": "execute_result"
    }
   ],
   "source": [
    "print 'predict-sub2-woflags-newsplit-sample20000'\n",
    "models = pd.DataFrame({\n",
    "    'Model': ['Support Vector Machines', '2-NN', 'Logistic Regression', \n",
    "              'Random Forest', 'Naive Bayes', 'Perceptron', \n",
    "              'Stochastic Gradient Decent', 'Linear SVC', \n",
    "              'Decision Tree'],\n",
    "    'Train Set Score': [ts_acc_svc, ts_acc_2nn, ts_acc_log, \n",
    "              ts_acc_random_forest, ts_acc_gaussian, ts_acc_perceptron, \n",
    "              ts_acc_sgd, ts_acc_linear_svc, ts_acc_decision_tree],\n",
    "    'Validate Set Score': [acc_svc, acc_2nn, acc_log, \n",
    "              acc_random_forest, acc_gaussian, acc_perceptron, \n",
    "              acc_sgd, acc_linear_svc, acc_decision_tree]\n",
    "    })\n",
    "models.sort_values(by='Validate Set Score', ascending=False)\n"
   ]
  }
 ],
 "metadata": {
  "kernelspec": {
   "display_name": "Python 2",
   "language": "python",
   "name": "python2"
  },
  "language_info": {
   "codemirror_mode": {
    "name": "ipython",
    "version": 2
   },
   "file_extension": ".py",
   "mimetype": "text/x-python",
   "name": "python",
   "nbconvert_exporter": "python",
   "pygments_lexer": "ipython2",
   "version": "2.7.10"
  }
 },
 "nbformat": 4,
 "nbformat_minor": 2
}
