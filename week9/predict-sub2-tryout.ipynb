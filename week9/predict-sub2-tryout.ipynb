{
 "cells": [
  {
   "cell_type": "code",
   "execution_count": 86,
   "metadata": {
    "collapsed": false
   },
   "outputs": [
    {
     "data": {
      "text/plain": [
       "((301619, 62), (148560, 62))"
      ]
     },
     "execution_count": 86,
     "metadata": {},
     "output_type": "execute_result"
    }
   ],
   "source": [
    "#visualization part\n",
    "#import matplotlib.pyplot as plt\n",
    "#import seaborn as sns\n",
    "\n",
    "\n",
    "#basic libs\n",
    "import pandas as pd\n",
    "import numpy as np\n",
    "import random as rnd\n",
    "\n",
    "from sklearn.model_selection import cross_val_score\n",
    "\n",
    "# machine learning\n",
    "from sklearn.linear_model import LogisticRegression\n",
    "from sklearn.svm import SVC, LinearSVC\n",
    "from sklearn.ensemble import RandomForestClassifier\n",
    "from sklearn.neighbors import KNeighborsClassifier\n",
    "from sklearn.naive_bayes import GaussianNB\n",
    "from sklearn.linear_model import Perceptron\n",
    "from sklearn.linear_model import SGDClassifier\n",
    "from sklearn.tree import DecisionTreeClassifier\n",
    "\n",
    "\n",
    "\n",
    "train_=pd.read_csv('../train_allcols.csv')\n",
    "validate_=pd.read_csv('../validate_allcols.csv')\n",
    "#test=pd.read_csv('../testwDSM.csv')\n",
    "\n",
    "train_.shape, validate_.shape, #test.shape"
   ]
  },
  {
   "cell_type": "code",
   "execution_count": 87,
   "metadata": {
    "collapsed": false
   },
   "outputs": [
    {
     "data": {
      "text/plain": [
       "((301619, 62),)"
      ]
     },
     "execution_count": 87,
     "metadata": {},
     "output_type": "execute_result"
    }
   ],
   "source": [
    "#train.describe()\n",
    "train = train_#.sample(40000)\n",
    "validate = validate_#.sample(10000)\n",
    "train.shape, #validate_.shape, validate.head(2)"
   ]
  },
  {
   "cell_type": "code",
   "execution_count": 88,
   "metadata": {
    "collapsed": false
   },
   "outputs": [
    {
     "name": "stdout",
     "output_type": "stream",
     "text": [
      "(144256, 62)\n",
      "4     51418\n",
      "2     42014\n",
      "3     23968\n",
      "7     11755\n",
      "10    10936\n",
      "5      4165\n",
      "Name: SUB2, dtype: int64\n"
     ]
    }
   ],
   "source": [
    "train = train.query('SUB2 != 1')\n",
    "validate = validate.query('SUB2 != 1')\n",
    "\n",
    "train = train[train.SUB2.isin([1,2,3,4,5,7,10])]\n",
    "validate = validate[validate.SUB2.isin([1,2,3,4,5,7,10])]\n",
    "#train = train[train.SUB1.isin([2,3,4,5,7,10])]\n",
    "#validate = validate[validate.SUB1.isin([2,3,4,5,7,10])]\n",
    "\n",
    "print train.shape\n",
    "print train['SUB2'].value_counts()"
   ]
  },
  {
   "cell_type": "code",
   "execution_count": 89,
   "metadata": {
    "collapsed": false
   },
   "outputs": [
    {
     "name": "stdout",
     "output_type": "stream",
     "text": [
      "F-score: 14.17t for feature DAYWAIT\n",
      "F-score: 17.34t for feature PREG\n",
      "F-score: 21.70t for feature VET\n",
      "F-score: 22.35t for feature ARRESTS\n",
      "F-score: 66.57t for feature DETNLF\n",
      "F-score: 81.89t for feature CBSA10\n",
      "F-score: 87.31t for feature ETHNIC\n",
      "F-score: 107.07t for feature PRIMINC\n",
      "F-score: 122.83t for feature PRIMPAY\n",
      "F-score: 139.18t for feature SUB3\n",
      "F-score: 147.93t for feature RACE\n",
      "F-score: 153.74t for feature REGION\n",
      "F-score: 164.78t for feature LIVARAG\n",
      "F-score: 231.84t for feature ROUTE3\n",
      "F-score: 254.47t for feature STFIPS\n",
      "F-score: 256.69t for feature PSYPROB\n",
      "F-score: 259.85t for feature FRSTUSE1\n",
      "F-score: 260.71t for feature GENDER\n",
      "F-score: 269.05t for feature MARSTAT\n",
      "F-score: 271.85t for feature EMPLOY\n",
      "F-score: 304.52t for feature YEAR\n",
      "F-score: 309.23t for feature CASEID\n",
      "F-score: 386.59t for feature DIVISION\n",
      "F-score: 422.86t for feature SERVSETA\n",
      "F-score: 436.77t for feature FRSTUSE3\n",
      "F-score: 442.57t for feature FREQ2\n",
      "F-score: 471.46t for feature HLTHINS\n",
      "F-score: 477.41t for feature DETCRIM\n",
      "F-score: 514.29t for feature EDUC\n",
      "F-score: 545.57t for feature METHUSE\n",
      "F-score: 549.24t for feature FREQ1\n",
      "F-score: 569.37t for feature NOPRIOR\n",
      "F-score: 649.78t for feature FREQ3\n",
      "F-score: 696.33t for feature NUMSUBS\n",
      "F-score: 700.34t for feature PSOURCE\n",
      "F-score: 745.90t for feature SUB1\n",
      "F-score: 748.00t for feature ROUTE1\n",
      "F-score: 1801.07t for feature DSMCRIT\n",
      "F-score: 1812.95t for feature AGE\n",
      "F-score: 2213.81t for feature IDU\n",
      "F-score: 7516.39t for feature ALCDRUG\n",
      "F-score: 8493.20t for feature ROUTE2\n",
      "F-score: 10287.60t for feature FRSTUSE2\n"
     ]
    }
   ],
   "source": [
    "# for sub2\n",
    "\n",
    "\n",
    "\n",
    "X_train = train.drop(['SUB2'], axis=1)\n",
    "Y_train = train[\"SUB2\"]\n",
    "\n",
    "from sklearn.feature_selection import SelectKBest, SelectPercentile\n",
    "from sklearn.feature_selection import f_classif,chi2\n",
    "#Selector_f = SelectPercentile(f_classif, percentile=25)\n",
    "Selector_f = SelectKBest(f_classif, k=10)\n",
    "Selector_f.fit(X_train,Y_train)\n",
    "\n",
    "zipped = zip(X_train.columns.tolist(),Selector_f.scores_)\n",
    "ans = sorted(zipped, key=lambda x: x[1])\n",
    "for n,s in ans:    \n",
    "    if 'FLG' in n: \n",
    "        pass\n",
    "    else:\n",
    "        print 'F-score: %3.2ft for feature %s' % (s,n)\n",
    "                \n",
    "#print X_train.columns.tolist()"
   ]
  },
  {
   "cell_type": "code",
   "execution_count": 90,
   "metadata": {
    "collapsed": false
   },
   "outputs": [
    {
     "name": "stdout",
     "output_type": "stream",
     "text": [
      "'DAYWAIT','PREG','VET','ARRESTS','DETNLF','CBSA10','ETHNIC','PRIMINC','PRIMPAY','SUB3','RACE','REGION','LIVARAG','ROUTE3','STFIPS','PSYPROB','FRSTUSE1','GENDER','MARSTAT','EMPLOY','YEAR','CASEID','DIVISION','SERVSETA','FRSTUSE3','FREQ2','HLTHINS','DETCRIM','EDUC','METHUSE','FREQ1','NOPRIOR','FREQ3','NUMSUBS','PSOURCE','SUB1','ROUTE1','DSMCRIT','AGE','IDU','ALCDRUG','ROUTE2','FRSTUSE2',"
     ]
    }
   ],
   "source": [
    "# get the sorted feature list\n",
    "import sys\n",
    "for n, s in ans:\n",
    "    \n",
    "    if 'FLG' in n: \n",
    "        pass\n",
    "    else:\n",
    "        sys.stdout.write('\\'%s\\',' % (n))\n"
   ]
  },
  {
   "cell_type": "code",
   "execution_count": 91,
   "metadata": {
    "collapsed": false
   },
   "outputs": [
    {
     "data": {
      "text/plain": [
       "((144256, 14), (70664, 14))"
      ]
     },
     "execution_count": 91,
     "metadata": {},
     "output_type": "execute_result"
    }
   ],
   "source": [
    "#train = train.query('SUB1 <= 10').query('SUB2 <= 10')\n",
    "#validate = validate.query('SUB1 <= 10').query('SUB2 <= 10')\n",
    "\n",
    "#drop_list = ['SUB2',  'ROUTE2', 'FREQ2', 'FRSTUSE2', 'SUB3', 'ROUTE3', 'FREQ3', 'FRSTUSE3', 'NUMSUBS'             ]\n",
    "\n",
    "\n",
    "retain_list = ['EMPLOY','GENDER','FREQ1','EDUC','PSYPROB','PSOURCE','SERVSETA','DETCRIM',\n",
    "               'NOPRIOR','DSMCRIT','ROUTE1','SUB1','AGE','IDU',\n",
    "               #'YEAR','REGION','DIVISION',\n",
    "               ]#'SUB3','ROUTE3','FREQ3','FRSTUSE3','FREQ2','FRSTUSE2']\n",
    "X_train = train[retain_list]\n",
    "Y_train = train[\"SUB2\"]\n",
    "X_validate = validate[retain_list]\n",
    "Y_validate = validate[\"SUB2\"]\n",
    "#X_test  = test.drop(drop_list, axis=1)\n",
    "X_train.shape, X_validate.shape, #X_test.shape\n",
    "\n"
   ]
  },
  {
   "cell_type": "code",
   "execution_count": 92,
   "metadata": {
    "collapsed": false
   },
   "outputs": [
    {
     "name": "stdout",
     "output_type": "stream",
     "text": [
      "set(['PSOURCE', 'DSMCRIT', 'SUB1', 'GENDER', 'AGE', 'IDU', 'PSYPROB', 'EMPLOY', 'FREQ1', 'DETCRIM', 'ROUTE1', 'EDUC', 'NOPRIOR', 'SERVSETA'])\n",
      "['YEAR', 'REGION', 'DIVISION']\n"
     ]
    }
   ],
   "source": [
    "retain_list = ['EMPLOY','GENDER','FREQ1','YEAR','EDUC','PSYPROB','PSOURCE','SERVSETA','DETCRIM',\n",
    "               'REGION','NOPRIOR','DIVISION','DSMCRIT','ROUTE1','SUB1','AGE','IDU',\n",
    "               ]\n",
    "list1 = [u'AGE', u'GENDER', u'RACE', u'ETHNIC', u'MARSTAT', u'EDUC', u'EMPLOY', u'DETNLF', u'PREG',\n",
    "         u'VET', u'LIVARAG', u'ARRESTS', u'SERVSETA', u'PSOURCE', u'DETCRIM', u'NOPRIOR', u'SUB1', u'ROUTE1', \n",
    "         u'FREQ1', u'FRSTUSE1', u'IDU', u'DSMCRIT', u'PSYPROB']\n",
    "\n",
    "common = set(retain_list) & set(list1)\n",
    "print list2 \n",
    "print [item for item in retain_list if item not in common]"
   ]
  },
  {
   "cell_type": "code",
   "execution_count": 93,
   "metadata": {
    "collapsed": false
   },
   "outputs": [
    {
     "name": "stdout",
     "output_type": "stream",
     "text": [
      "['EMPLOY', 'GENDER', 'FREQ1', 'EDUC', 'PSYPROB', 'PSOURCE', 'SERVSETA', 'DETCRIM', 'NOPRIOR', 'DSMCRIT', 'ROUTE1', 'SUB1', 'AGE', 'IDU']\n"
     ]
    }
   ],
   "source": [
    "print X_train.columns.tolist()"
   ]
  },
  {
   "cell_type": "code",
   "execution_count": 94,
   "metadata": {
    "collapsed": false
   },
   "outputs": [
    {
     "data": {
      "text/plain": [
       "((144256, 103), (70664, 103))"
      ]
     },
     "execution_count": 94,
     "metadata": {},
     "output_type": "execute_result"
    }
   ],
   "source": [
    "#one hot\n",
    "from sklearn import preprocessing\n",
    "\n",
    "# 1. INSTANTIATE\n",
    "enc = preprocessing.OneHotEncoder()\n",
    "\n",
    "# 2. FIT\n",
    "enc.fit(X_train)\n",
    "\n",
    "# 3. Transform\n",
    "onehotlabels = enc.transform(X_train).toarray()\n",
    "#onehotlabels.shape\n",
    "X_train = onehotlabels\n",
    "\n",
    "onehotlabels = enc.transform(X_validate).toarray()\n",
    "X_validate = onehotlabels\n",
    "\n",
    "X_train.shape, X_validate.shape"
   ]
  },
  {
   "cell_type": "code",
   "execution_count": 95,
   "metadata": {
    "collapsed": false
   },
   "outputs": [
    {
     "name": "stdout",
     "output_type": "stream",
     "text": [
      "58.02\n"
     ]
    }
   ],
   "source": [
    "# Logistic Regression\n",
    "logreg = LogisticRegression(C=1)\n",
    "logreg.fit(X_train, Y_train)\n",
    "#Y_pred = logreg.predict(X_test)\n",
    "acc_log = round(logreg.score(X_validate, Y_validate) * 100, 2)\n",
    "print acc_log\n"
   ]
  },
  {
   "cell_type": "code",
   "execution_count": 97,
   "metadata": {
    "collapsed": false
   },
   "outputs": [
    {
     "name": "stdout",
     "output_type": "stream",
     "text": [
      "51.0\n"
     ]
    }
   ],
   "source": [
    "# Perceptron\n",
    "\n",
    "perceptron = Perceptron()\n",
    "perceptron.fit(X_train, Y_train)\n",
    "#Y_pred = perceptron.predict(X_test)\n",
    "acc_perceptron = round(perceptron.score(X_validate, Y_validate) * 100, 2)\n",
    "print acc_perceptron\n"
   ]
  },
  {
   "cell_type": "code",
   "execution_count": 98,
   "metadata": {
    "collapsed": false
   },
   "outputs": [
    {
     "name": "stdout",
     "output_type": "stream",
     "text": [
      "56.22\n"
     ]
    }
   ],
   "source": [
    "# Stochastic Gradient Descent\n",
    "\n",
    "sgd = SGDClassifier()\n",
    "sgd.fit(X_train, Y_train)\n",
    "#Y_pred = sgd.predict(X_test)\n",
    "acc_sgd = round(sgd.score(X_validate, Y_validate) * 100, 2)\n",
    "print acc_sgd\n"
   ]
  },
  {
   "cell_type": "code",
   "execution_count": 99,
   "metadata": {
    "collapsed": false
   },
   "outputs": [
    {
     "name": "stdout",
     "output_type": "stream",
     "text": [
      "59.21\n"
     ]
    }
   ],
   "source": [
    "# Random Forest (slow)\n",
    "\n",
    "random_forest = RandomForestClassifier(n_estimators=100, max_depth=20)\n",
    "random_forest.fit(X_train, Y_train)\n",
    "#Y_pred = random_forest.predict(X_test)\n",
    "random_forest.score(X_train, Y_train)\n",
    "acc_random_forest = round(random_forest.score(X_validate, Y_validate) * 100, 2)\n",
    "print acc_random_forest\n",
    "\n",
    "#print cross_val_score(random_forest, X_validate, Y_validate)"
   ]
  },
  {
   "cell_type": "code",
   "execution_count": 100,
   "metadata": {
    "collapsed": false
   },
   "outputs": [
    {
     "name": "stdout",
     "output_type": "stream",
     "text": [
      "56.4\n"
     ]
    }
   ],
   "source": [
    "# Stochastic Gradient Descent\n",
    "sgd = SGDClassifier()\n",
    "sgd.fit(X_train, Y_train)\n",
    "#Y_pred = sgd.predict(X_test)\n",
    "acc_sgd = round(sgd.score(X_validate, Y_validate) * 100, 2)\n",
    "print acc_sgd\n"
   ]
  },
  {
   "cell_type": "code",
   "execution_count": 101,
   "metadata": {
    "collapsed": false
   },
   "outputs": [
    {
     "name": "stdout",
     "output_type": "stream",
     "text": [
      "57.64\n"
     ]
    }
   ],
   "source": [
    "# Linear SVC\n",
    "linear_svc = LinearSVC(C=1)\n",
    "linear_svc.fit(X_train, Y_train)\n",
    "#Y_pred = linear_svc.predict(X_test)\n",
    "acc_linear_svc = round(linear_svc.score(X_validate, Y_validate) * 100, 2)\n",
    "print acc_linear_svc\n"
   ]
  },
  {
   "cell_type": "code",
   "execution_count": 102,
   "metadata": {
    "collapsed": false
   },
   "outputs": [
    {
     "name": "stdout",
     "output_type": "stream",
     "text": [
      "57.48\n"
     ]
    }
   ],
   "source": [
    "import xgboost as xgb\n",
    "xgb_boost = xgb.XGBClassifier(seed=1850, n_jobs=-1)\n",
    "xgb_boost.fit(X_train, Y_train) \n",
    "acc_xgb = round(xgb_boost.score(X_validate, Y_validate) * 100, 2)\n",
    "print acc_xgb"
   ]
  },
  {
   "cell_type": "code",
   "execution_count": 103,
   "metadata": {
    "collapsed": false
   },
   "outputs": [
    {
     "name": "stdout",
     "output_type": "stream",
     "text": [
      "predict-top6-sub2-allcols-sample10000\n",
      "                        Model  Validate Set Score\n",
      "1               Random Forest               59.21\n",
      "0         Logistic Regression               58.02\n",
      "4                  Linear SVC               57.64\n",
      "5                     XGBoost               57.48\n",
      "3  Stochastic Gradient Decent               56.40\n",
      "2                  Perceptron               51.00\n"
     ]
    }
   ],
   "source": [
    "print 'predict-top6-sub2-allcols-sample10000'\n",
    "models = pd.DataFrame({\n",
    "    'Model': [ 'Logistic Regression', \n",
    "              'Random Forest',  'Perceptron', \n",
    "              'Stochastic Gradient Decent', 'Linear SVC', \n",
    "               'XGBoost'],\n",
    "    'Validate Set Score': [acc_log, \n",
    "              acc_random_forest,  acc_perceptron, \n",
    "              acc_sgd, acc_linear_svc, acc_xgb]\n",
    "    })\n",
    "print models.sort_values(by='Validate Set Score', ascending=False)\n"
   ]
  }
 ],
 "metadata": {
  "kernelspec": {
   "display_name": "Python 2",
   "language": "python",
   "name": "python2"
  },
  "language_info": {
   "codemirror_mode": {
    "name": "ipython",
    "version": 2
   },
   "file_extension": ".py",
   "mimetype": "text/x-python",
   "name": "python",
   "nbconvert_exporter": "python",
   "pygments_lexer": "ipython2",
   "version": "2.7.10"
  }
 },
 "nbformat": 4,
 "nbformat_minor": 2
}
