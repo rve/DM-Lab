{
 "cells": [
  {
   "cell_type": "code",
   "execution_count": 1,
   "metadata": {
    "collapsed": false
   },
   "outputs": [
    {
     "name": "stderr",
     "output_type": "stream",
     "text": [
      "/Users/arc/Codes/DM-Lab/dmlab/lib/python2.7/site-packages/sklearn/cross_validation.py:41: DeprecationWarning: This module was deprecated in version 0.18 in favor of the model_selection module into which all the refactored classes and functions are moved. Also note that the interface of the new CV iterators are different from that of this module. This module will be removed in 0.20.\n",
      "  \"This module will be removed in 0.20.\", DeprecationWarning)\n"
     ]
    },
    {
     "data": {
      "text/plain": [
       "((301619, 62), (148560, 62))"
      ]
     },
     "execution_count": 1,
     "metadata": {},
     "output_type": "execute_result"
    }
   ],
   "source": [
    "#import matplotlib.pyplot as plt\n",
    "#import seaborn as sns\n",
    "\n",
    "\n",
    "import pandas as pd\n",
    "import numpy as np\n",
    "import random as rnd\n",
    "\n",
    "from sklearn.cross_validation import KFold, cross_val_score\n",
    "\n",
    "# machine learning\n",
    "from sklearn.linear_model import LogisticRegression\n",
    "from sklearn.svm import SVC, LinearSVC\n",
    "from sklearn.ensemble import RandomForestClassifier\n",
    "from sklearn.neighbors import KNeighborsClassifier\n",
    "from sklearn.naive_bayes import GaussianNB\n",
    "from sklearn.linear_model import Perceptron\n",
    "from sklearn.linear_model import SGDClassifier\n",
    "from sklearn.tree import DecisionTreeClassifier\n",
    "\n",
    "\n",
    "\n",
    "train_=pd.read_csv('../train_allcols.csv')\n",
    "validate_=pd.read_csv('../validate_allcols.csv')\n",
    "#test=pd.read_csv('../testwDSM.csv')\n",
    "\n",
    "characters = pd.read_csv('chars.csv', sep=',')\n",
    "\n",
    "train_.shape, validate_.shape, #test.shape"
   ]
  },
  {
   "cell_type": "code",
   "execution_count": 2,
   "metadata": {
    "collapsed": false
   },
   "outputs": [
    {
     "data": {
      "text/plain": [
       "(9, 63)"
      ]
     },
     "execution_count": 2,
     "metadata": {},
     "output_type": "execute_result"
    }
   ],
   "source": [
    "characters.shape\n"
   ]
  },
  {
   "cell_type": "code",
   "execution_count": 3,
   "metadata": {
    "collapsed": false
   },
   "outputs": [
    {
     "name": "stdout",
     "output_type": "stream",
     "text": [
      "(20000, 62)\n"
     ]
    }
   ],
   "source": [
    "train = train_.query('DSMCRIT < 14').sample(20000)\n",
    "validate = validate_.query('DSMCRIT < 14').sample(10000)\n",
    "#print train['DSMCRIT'].value_counts()\n",
    "print train.shape"
   ]
  },
  {
   "cell_type": "code",
   "execution_count": 4,
   "metadata": {
    "collapsed": false
   },
   "outputs": [
    {
     "name": "stderr",
     "output_type": "stream",
     "text": [
      "/Users/arc/Codes/DM-Lab/dmlab/lib/python2.7/site-packages/ipykernel_launcher.py:2: DeprecationWarning: \n",
      ".ix is deprecated. Please use\n",
      ".loc for label based indexing or\n",
      ".iloc for positional indexing\n",
      "\n",
      "See the documentation here:\n",
      "http://pandas.pydata.org/pandas-docs/stable/indexing.html#ix-indexer-is-deprecated\n",
      "  \n",
      "/Users/arc/Codes/DM-Lab/dmlab/lib/python2.7/site-packages/ipykernel_launcher.py:4: DeprecationWarning: \n",
      ".ix is deprecated. Please use\n",
      ".loc for label based indexing or\n",
      ".iloc for positional indexing\n",
      "\n",
      "See the documentation here:\n",
      "http://pandas.pydata.org/pandas-docs/stable/indexing.html#ix-indexer-is-deprecated\n",
      "  after removing the cwd from sys.path.\n"
     ]
    }
   ],
   "source": [
    "#frist classifier: merge 4&9 -> 4, 7&10  -> 7\n",
    "train.ix[train.DSMCRIT.isin([9]), 'DSMCRIT'] = 4\n",
    "train.ix[train.DSMCRIT.isin([10]), 'DSMCRIT'] = 7\n",
    "validate.ix[validate.DSMCRIT.isin([9]), 'DSMCRIT'] = 4\n",
    "validate.ix[validate.DSMCRIT.isin([10]), 'DSMCRIT'] = 7"
   ]
  },
  {
   "cell_type": "code",
   "execution_count": 5,
   "metadata": {
    "collapsed": false
   },
   "outputs": [
    {
     "data": {
      "text/plain": [
       "((20000, 42),)"
      ]
     },
     "execution_count": 5,
     "metadata": {},
     "output_type": "execute_result"
    }
   ],
   "source": [
    "#train = train.query('SUB1 <= 10').query('SUB2 <= 10')\n",
    "#validate = validate.query('SUB1 <= 10').query('SUB2 <= 10')\n",
    "\n",
    "drop_list = ['DSMCRIT',  #'NUMSUBS'\n",
    "             ]\n",
    "drop_list_select = ['RACE', 'PREG', 'ARRESTS', 'PSYPROB', 'DETNLF', 'ETHNIC', 'MARSTAT', 'GENDER', 'EDUC'\n",
    "                   ,'LIVARAG', 'EMPLOY', 'SUB3']\n",
    "\n",
    "retain_list = ['RACE','PCPFLG','PRIMINC','LIVARAG','BENZFLG','HLTHINS','GENDER','ROUTE3','PRIMPAY',\n",
    "               'MARSTAT','PSYPROB','ROUTE2','EMPLOY','SUB2','FRSTUSE3','FREQ3','FRSTUSE2','OTHERFLG',\n",
    "               'EDUC','FREQ2','FREQ1','YEAR',\n",
    "               'PSOURCE','DETCRIM','DIVISION','REGION','NOPRIOR','NUMSUBS','ALCDRUG',\n",
    "               'METHUSE','FRSTUSE1','AGE','COKEFLG','OPSYNFLG','IDU','SERVSETA','ROUTE1','MARFLG',\n",
    "               'MTHAMFLG','HERFLG',\n",
    "               'ALCFLG','SUB1']\n",
    "X_train = train[retain_list]\n",
    "\n",
    "X_c = characters[retain_list]\n",
    "Y_c = characters[\"DSMCRIT\"]\n",
    "#X_train = train.drop(drop_list + drop_list_select, axis=1)\n",
    "Y_train = train[\"DSMCRIT\"]\n",
    "#X_validate = validate.drop(drop_list + drop_list_select, axis=1)\n",
    "#Y_validate = validate[\"DSMCRIT\"]\n",
    "#X_test  = test.drop(drop_list, axis=1)\n",
    "X_train.shape, #X_validate.shape, #X_test.shape\n",
    "\n"
   ]
  },
  {
   "cell_type": "code",
   "execution_count": 6,
   "metadata": {
    "collapsed": false
   },
   "outputs": [],
   "source": [
    "#print X_train.columns.tolist()"
   ]
  },
  {
   "cell_type": "code",
   "execution_count": 7,
   "metadata": {
    "collapsed": false
   },
   "outputs": [
    {
     "name": "stdout",
     "output_type": "stream",
     "text": [
      "(20000, 241) (9, 241)\n"
     ]
    }
   ],
   "source": [
    "#one hot\n",
    "from sklearn import preprocessing\n",
    "\n",
    "# 1. INSTANTIATE\n",
    "enc = preprocessing.OneHotEncoder()\n",
    "\n",
    "# 2. FIT\n",
    "enc.fit(X_train)\n",
    "\n",
    "# 3. Transform\n",
    "onehotlabels = enc.transform(X_train).toarray()\n",
    "X_train = onehotlabels\n",
    "\n",
    "#onehotlabels = enc.transform(X_validate).toarray()\n",
    "#X_validate = onehotlabels\n",
    "\n",
    "\n",
    "X_char = enc.transform(X_c).toarray()\n",
    "\n",
    "print X_train.shape, X_char.shape#X_validate.shape"
   ]
  },
  {
   "cell_type": "code",
   "execution_count": 8,
   "metadata": {
    "collapsed": true
   },
   "outputs": [],
   "source": [
    "#kfold\n",
    "kf = 3"
   ]
  },
  {
   "cell_type": "code",
   "execution_count": 9,
   "metadata": {
    "collapsed": false
   },
   "outputs": [
    {
     "name": "stderr",
     "output_type": "stream",
     "text": [
      "/Users/arc/Codes/DM-Lab/dmlab/lib/python2.7/site-packages/sklearn/linear_model/logistic.py:1228: UserWarning: 'n_jobs' > 1 does not have any effect when 'solver' is set to 'liblinear'. Got 'n_jobs' = -1.\n",
      "  \" = {}.\".format(self.n_jobs))\n"
     ]
    },
    {
     "name": "stdout",
     "output_type": "stream",
     "text": [
      "['0.803', '0.809', '0.805']\n",
      "0.806\n"
     ]
    }
   ],
   "source": [
    "# Logistic Regression\n",
    "logreg = LogisticRegression(n_jobs=-1)\n",
    "logreg.fit(X_train, Y_train)\n",
    "#Y_pred = logreg.predict(X_test)\n",
    "\n",
    "l_acc_log = cross_val_score(logreg, X_train, Y_train, cv=kf)\n",
    "acc_log = round(np.mean(l_acc_log), 3)\n",
    "\n",
    "l_acc_log = ['%.3f' % elem for elem in l_acc_log]\n",
    "print l_acc_log\n",
    "print acc_log"
   ]
  },
  {
   "cell_type": "code",
   "execution_count": 10,
   "metadata": {
    "collapsed": false
   },
   "outputs": [
    {
     "name": "stdout",
     "output_type": "stream",
     "text": [
      "['0.807', '0.818', '0.813']\n",
      "0.813\n"
     ]
    }
   ],
   "source": [
    "# Random Forest (slow)\n",
    "\n",
    "random_forest = RandomForestClassifier(n_estimators=200, max_depth=20, n_jobs=-1)\n",
    "random_forest.fit(X_train, Y_train)\n",
    "#Y_pred = random_forest.predict(X_test)\n",
    "\n",
    "l_acc_random_forest = cross_val_score(random_forest, X_train, Y_train, cv=kf)\n",
    "acc_random_forest = round(np.mean(l_acc_random_forest), 3)\n",
    "\n",
    "l_acc_random_forest = ['%.3f' % elem for elem in l_acc_random_forest]\n",
    "print l_acc_random_forest\n",
    "print acc_random_forest"
   ]
  },
  {
   "cell_type": "code",
   "execution_count": 15,
   "metadata": {
    "collapsed": false
   },
   "outputs": [
    {
     "name": "stdout",
     "output_type": "stream",
     "text": [
      "0.806\n",
      "[[  1.66428356e-04   2.00980077e-04   6.70190515e-05   8.96110366e-05\n",
      "    9.27053601e-01   8.35648305e-03   6.50180203e-03   2.76022276e-02\n",
      "    2.85986193e-02   1.24694532e-03   9.35095086e-05   2.27739578e-05]\n",
      " [  1.24895226e-05   2.67136207e-05   1.95053380e-02   3.43203023e-07\n",
      "    9.92976350e-03   3.52815302e-03   1.39429789e-02   8.72229153e-01\n",
      "    4.92319479e-02   2.51194905e-02   3.11095101e-03   3.36267771e-03]\n",
      " [  2.79895835e-05   2.94461601e-05   8.32488958e-03   1.80989571e-06\n",
      "    4.92423586e-02   2.51748171e-02   5.21483553e-04   4.83641879e-03\n",
      "    8.12737134e-01   2.53072689e-02   7.37941581e-02   2.22613991e-06]\n",
      " [  1.78927926e-04   1.55435328e-05   7.79004423e-02   1.69402703e-06\n",
      "    4.40500111e-02   1.20777770e-02   6.90243295e-02   7.75919740e-01\n",
      "    1.50207691e-02   3.10293263e-03   1.35272239e-04   2.57256052e-03]\n",
      " [  4.40493595e-06   1.02415318e-04   5.26855705e-04   7.82606139e-05\n",
      "    9.19614742e-01   2.71781851e-03   8.83139090e-03   4.96336801e-03\n",
      "    4.24421098e-02   2.03512041e-02   2.36178805e-04   1.31250840e-04]\n",
      " [  8.91243123e-05   8.25454404e-06   5.42963007e-02   7.84798992e-07\n",
      "    5.86401731e-02   1.62946055e-02   3.39036273e-02   8.01947833e-01\n",
      "    1.31749305e-02   1.01555021e-02   6.69637248e-04   1.08192270e-02]\n",
      " [  4.72133990e-04   1.40885147e-04   5.03902437e-05   7.37057226e-03\n",
      "    8.66770278e-01   6.50764448e-03   2.21833685e-02   1.87595410e-04\n",
      "    9.16656962e-02   3.18277693e-03   9.68015234e-04   5.00643806e-04]\n",
      " [  4.61407088e-04   1.51030953e-04   5.39637117e-05   3.91264932e-03\n",
      "    9.28647686e-01   6.67099191e-03   1.82690951e-02   2.42723490e-04\n",
      "    4.03790458e-02   6.06099865e-04   2.94497116e-04   3.10809373e-04]\n",
      " [  3.52193164e-04   2.10449772e-05   3.30959991e-03   2.46425631e-02\n",
      "    9.58643585e-01   1.99360566e-03   5.28529967e-04   1.01678928e-04\n",
      "    9.24948723e-03   1.18381279e-04   2.96209883e-04   7.43121172e-04]]\n"
     ]
    }
   ],
   "source": [
    "yp_char = logreg.predict_proba(X_char)\n",
    "print acc_log\n",
    "print yp_char"
   ]
  },
  {
   "cell_type": "code",
   "execution_count": 12,
   "metadata": {
    "collapsed": false
   },
   "outputs": [
    {
     "name": "stdout",
     "output_type": "stream",
     "text": [
      "[[  4.97933267e-04   4.92099947e-03   7.53247559e-03   8.91932275e-03\n",
      "    9.00620618e-01   6.50748792e-04   6.31176789e-03   4.92441331e-02\n",
      "    1.48743081e-02   1.13788712e-03   0.00000000e+00   5.28980649e-03]\n",
      " [  0.00000000e+00   0.00000000e+00   4.27168383e-04   0.00000000e+00\n",
      "    1.28414425e-01   6.72612375e-03   1.10979879e-02   7.30394131e-01\n",
      "    5.67492332e-02   6.03743601e-02   5.74900291e-03   6.75675676e-05]\n",
      " [  5.12195122e-03   0.00000000e+00   7.74378427e-02   1.00000000e-02\n",
      "    1.53347986e-01   2.99153877e-01   2.50000000e-02   1.04166667e-02\n",
      "    3.11746262e-01   6.55216802e-02   3.22537342e-02   1.00000000e-02]\n",
      " [  5.74097292e-03   3.77271153e-04   1.72544945e-02   2.66666667e-05\n",
      "    1.89069389e-01   8.89345825e-04   7.31551543e-03   7.18416885e-01\n",
      "    5.44120377e-02   5.78990069e-03   3.16455696e-05   6.75875479e-04]\n",
      " [  3.08300395e-04   1.07694555e-03   3.57097160e-02   1.65646927e-02\n",
      "    6.45563390e-01   8.70249694e-04   1.98345178e-02   2.63125595e-02\n",
      "    2.11526638e-01   3.17243087e-02   3.75939850e-05   1.04710885e-02]\n",
      " [  8.25814633e-04   1.33333333e-05   5.49505980e-03   2.05238095e-04\n",
      "    1.25067111e-02   5.23489093e-04   1.12998846e-02   9.19808620e-01\n",
      "    1.54162099e-02   1.53840140e-02   1.11146110e-03   1.74101647e-02]\n",
      " [  2.99784645e-04   2.16450216e-05   1.97368421e-04   2.21278098e-02\n",
      "    9.21902247e-01   4.80769231e-05   6.57894737e-05   2.60863095e-03\n",
      "    4.23738399e-02   1.02890184e-02   0.00000000e+00   6.57894737e-05]\n",
      " [  7.76189275e-05   1.08735116e-02   5.28329924e-03   4.72972028e-02\n",
      "    8.78617903e-01   3.56894697e-02   2.01569816e-05   9.89501836e-04\n",
      "    1.58959852e-02   2.35193252e-04   5.00000000e-03   2.01569816e-05]\n",
      " [  7.09733007e-03   4.07074354e-03   3.49437289e-02   4.67893585e-02\n",
      "    9.07009262e-01   0.00000000e+00   0.00000000e+00   3.33333333e-05\n",
      "    2.71739130e-05   2.90697674e-05   0.00000000e+00   0.00000000e+00]]\n"
     ]
    }
   ],
   "source": [
    "yp_char = random_forest.predict_proba(X_char)\n",
    "print acc_random_forest\n",
    "print yp_char"
   ]
  }
 ],
 "metadata": {
  "kernelspec": {
   "display_name": "Python 2",
   "language": "python",
   "name": "python2"
  },
  "language_info": {
   "codemirror_mode": {
    "name": "ipython",
    "version": 2
   },
   "file_extension": ".py",
   "mimetype": "text/x-python",
   "name": "python",
   "nbconvert_exporter": "python",
   "pygments_lexer": "ipython2",
   "version": "2.7.10"
  }
 },
 "nbformat": 4,
 "nbformat_minor": 2
}
