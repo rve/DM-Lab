{
 "cells": [
  {
   "cell_type": "code",
   "execution_count": 1,
   "metadata": {
    "collapsed": false
   },
   "outputs": [
    {
     "name": "stderr",
     "output_type": "stream",
     "text": [
      "/Users/arc/Codes/DM-Lab/dmlab/lib/python2.7/site-packages/sklearn/cross_validation.py:41: DeprecationWarning: This module was deprecated in version 0.18 in favor of the model_selection module into which all the refactored classes and functions are moved. Also note that the interface of the new CV iterators are different from that of this module. This module will be removed in 0.20.\n",
      "  \"This module will be removed in 0.20.\", DeprecationWarning)\n"
     ]
    },
    {
     "data": {
      "text/plain": [
       "((301619, 62), (148560, 62))"
      ]
     },
     "execution_count": 1,
     "metadata": {},
     "output_type": "execute_result"
    }
   ],
   "source": [
    "#import matplotlib.pyplot as plt\n",
    "#import seaborn as sns\n",
    "\n",
    "\n",
    "import pandas as pd\n",
    "import numpy as np\n",
    "import random as rnd\n",
    "\n",
    "from sklearn.cross_validation import KFold, cross_val_score\n",
    "\n",
    "# machine learning\n",
    "from sklearn.linear_model import LogisticRegression\n",
    "from sklearn.svm import SVC, LinearSVC\n",
    "from sklearn.ensemble import RandomForestClassifier\n",
    "from sklearn.neighbors import KNeighborsClassifier\n",
    "from sklearn.naive_bayes import GaussianNB\n",
    "from sklearn.linear_model import Perceptron\n",
    "from sklearn.linear_model import SGDClassifier\n",
    "from sklearn.tree import DecisionTreeClassifier\n",
    "\n",
    "\n",
    "\n",
    "train_=pd.read_csv('../train_allcols.csv')\n",
    "validate_=pd.read_csv('../validate_allcols.csv')\n",
    "#test=pd.read_csv('../testwDSM.csv')\n",
    "\n",
    "characters = pd.read_csv('finalcharacters.csv', sep=',')\n",
    "\n",
    "train_.shape, validate_.shape, #test.shape"
   ]
  },
  {
   "cell_type": "code",
   "execution_count": 2,
   "metadata": {
    "collapsed": false
   },
   "outputs": [
    {
     "data": {
      "text/plain": [
       "(9, 63)"
      ]
     },
     "execution_count": 2,
     "metadata": {},
     "output_type": "execute_result"
    }
   ],
   "source": [
    "characters.shape\n"
   ]
  },
  {
   "cell_type": "code",
   "execution_count": 5,
   "metadata": {
    "collapsed": false
   },
   "outputs": [
    {
     "name": "stdout",
     "output_type": "stream",
     "text": [
      "(20000, 62)\n"
     ]
    }
   ],
   "source": [
    "train = train_.query('DSMCRIT < 14').sample(20000)\n",
    "validate = validate_.query('DSMCRIT < 14').sample(10000)\n",
    "#print train['DSMCRIT'].value_counts()\n",
    "print train.shape"
   ]
  },
  {
   "cell_type": "code",
   "execution_count": 6,
   "metadata": {
    "collapsed": false
   },
   "outputs": [
    {
     "data": {
      "text/plain": [
       "((20000, 42),)"
      ]
     },
     "execution_count": 6,
     "metadata": {},
     "output_type": "execute_result"
    }
   ],
   "source": [
    "#train = train.query('SUB1 <= 10').query('SUB2 <= 10')\n",
    "#validate = validate.query('SUB1 <= 10').query('SUB2 <= 10')\n",
    "\n",
    "drop_list = ['DSMCRIT',  #'NUMSUBS'\n",
    "             ]\n",
    "drop_list_select = ['RACE', 'PREG', 'ARRESTS', 'PSYPROB', 'DETNLF', 'ETHNIC', 'MARSTAT', 'GENDER', 'EDUC'\n",
    "                   ,'LIVARAG', 'EMPLOY', 'SUB3']\n",
    "\n",
    "retain_list = ['RACE','PCPFLG','PRIMINC','LIVARAG','BENZFLG','HLTHINS','GENDER','ROUTE3','PRIMPAY',\n",
    "               'MARSTAT','PSYPROB','ROUTE2','EMPLOY','SUB2','FRSTUSE3','FREQ3','FRSTUSE2','OTHERFLG',\n",
    "               'EDUC','FREQ2','FREQ1','YEAR',\n",
    "               'PSOURCE','DETCRIM','DIVISION','REGION','NOPRIOR','NUMSUBS','ALCDRUG',\n",
    "               'METHUSE','FRSTUSE1','AGE','COKEFLG','OPSYNFLG','IDU','SERVSETA','ROUTE1','MARFLG',\n",
    "               'MTHAMFLG','HERFLG',\n",
    "               'ALCFLG','SUB1']\n",
    "X_train = train[retain_list]\n",
    "\n",
    "X_c = characters[retain_list]\n",
    "Y_c = characters[\"DSMCRIT\"]\n",
    "#X_train = train.drop(drop_list + drop_list_select, axis=1)\n",
    "Y_train = train[\"DSMCRIT\"]\n",
    "#X_validate = validate.drop(drop_list + drop_list_select, axis=1)\n",
    "#Y_validate = validate[\"DSMCRIT\"]\n",
    "#X_test  = test.drop(drop_list, axis=1)\n",
    "X_train.shape, #X_validate.shape, #X_test.shape\n",
    "\n"
   ]
  },
  {
   "cell_type": "code",
   "execution_count": 7,
   "metadata": {
    "collapsed": false
   },
   "outputs": [
    {
     "name": "stdout",
     "output_type": "stream",
     "text": [
      "['RACE', 'PCPFLG', 'PRIMINC', 'LIVARAG', 'BENZFLG', 'HLTHINS', 'GENDER', 'ROUTE3', 'PRIMPAY', 'MARSTAT', 'PSYPROB', 'ROUTE2', 'EMPLOY', 'SUB2', 'FRSTUSE3', 'FREQ3', 'FRSTUSE2', 'OTHERFLG', 'EDUC', 'FREQ2', 'FREQ1', 'YEAR', 'PSOURCE', 'DETCRIM', 'DIVISION', 'REGION', 'NOPRIOR', 'NUMSUBS', 'ALCDRUG', 'METHUSE', 'FRSTUSE1', 'AGE', 'COKEFLG', 'OPSYNFLG', 'IDU', 'SERVSETA', 'ROUTE1', 'MARFLG', 'MTHAMFLG', 'HERFLG', 'ALCFLG', 'SUB1']\n"
     ]
    }
   ],
   "source": [
    "print X_train.columns.tolist()"
   ]
  },
  {
   "cell_type": "code",
   "execution_count": 8,
   "metadata": {
    "collapsed": false
   },
   "outputs": [
    {
     "name": "stdout",
     "output_type": "stream",
     "text": [
      "(20000, 241) (9, 241)\n"
     ]
    }
   ],
   "source": [
    "#one hot\n",
    "from sklearn import preprocessing\n",
    "\n",
    "# 1. INSTANTIATE\n",
    "enc = preprocessing.OneHotEncoder()\n",
    "\n",
    "# 2. FIT\n",
    "enc.fit(X_train)\n",
    "\n",
    "# 3. Transform\n",
    "onehotlabels = enc.transform(X_train).toarray()\n",
    "X_train = onehotlabels\n",
    "\n",
    "#onehotlabels = enc.transform(X_validate).toarray()\n",
    "#X_validate = onehotlabels\n",
    "\n",
    "\n",
    "X_char = enc.transform(X_c).toarray()\n",
    "\n",
    "print X_train.shape, X_char.shape#X_validate.shape"
   ]
  },
  {
   "cell_type": "code",
   "execution_count": 9,
   "metadata": {
    "collapsed": true
   },
   "outputs": [],
   "source": [
    "#kfold\n",
    "kf = 3"
   ]
  },
  {
   "cell_type": "code",
   "execution_count": 10,
   "metadata": {
    "collapsed": false
   },
   "outputs": [
    {
     "name": "stderr",
     "output_type": "stream",
     "text": [
      "/Users/arc/Codes/DM-Lab/dmlab/lib/python2.7/site-packages/sklearn/linear_model/logistic.py:1228: UserWarning: 'n_jobs' > 1 does not have any effect when 'solver' is set to 'liblinear'. Got 'n_jobs' = -1.\n",
      "  \" = {}.\".format(self.n_jobs))\n"
     ]
    },
    {
     "name": "stdout",
     "output_type": "stream",
     "text": [
      "['0.714', '0.722', '0.726']\n",
      "0.72\n"
     ]
    }
   ],
   "source": [
    "# Logistic Regression\n",
    "logreg = LogisticRegression(n_jobs=-1)\n",
    "logreg.fit(X_train, Y_train)\n",
    "#Y_pred = logreg.predict(X_test)\n",
    "\n",
    "l_acc_log = cross_val_score(logreg, X_train, Y_train, cv=kf)\n",
    "acc_log = round(np.mean(l_acc_log), 3)\n",
    "\n",
    "l_acc_log = ['%.3f' % elem for elem in l_acc_log]\n",
    "print l_acc_log\n",
    "print acc_log"
   ]
  },
  {
   "cell_type": "code",
   "execution_count": 11,
   "metadata": {
    "collapsed": false
   },
   "outputs": [
    {
     "name": "stdout",
     "output_type": "stream",
     "text": [
      "['0.730', '0.731', '0.737']\n",
      "0.732\n"
     ]
    }
   ],
   "source": [
    "# Random Forest (slow)\n",
    "\n",
    "random_forest = RandomForestClassifier(n_estimators=200, max_depth=20, n_jobs=-1)\n",
    "random_forest.fit(X_train, Y_train)\n",
    "#Y_pred = random_forest.predict(X_test)\n",
    "\n",
    "l_acc_random_forest = cross_val_score(random_forest, X_train, Y_train, cv=kf)\n",
    "acc_random_forest = round(np.mean(l_acc_random_forest), 3)\n",
    "\n",
    "l_acc_random_forest = ['%.3f' % elem for elem in l_acc_random_forest]\n",
    "print l_acc_random_forest\n",
    "print acc_random_forest"
   ]
  },
  {
   "cell_type": "code",
   "execution_count": 12,
   "metadata": {
    "collapsed": false
   },
   "outputs": [
    {
     "name": "stdout",
     "output_type": "stream",
     "text": [
      "[[  2.48026082e-05   8.47060833e-04   6.78041506e-05   4.10089433e-05\n",
      "    8.86824597e-01   5.84246877e-03   6.94242131e-03   1.85640337e-02\n",
      "    6.21787191e-02   1.55748832e-02   2.86768461e-03   6.42094040e-05\n",
      "    1.54525456e-04   5.78119779e-06]\n",
      " [  7.79222212e-06   6.23432747e-05   1.44888558e-02   2.02577185e-07\n",
      "    1.30143089e-03   1.51093327e-03   3.10327924e-02   3.11539401e-01\n",
      "    4.49365022e-02   5.40482552e-02   5.16822930e-01   1.12331650e-02\n",
      "    6.88856965e-03   6.12682674e-03]\n",
      " [  3.06623318e-05   7.40978843e-06   9.80283801e-03   4.83150937e-07\n",
      "    1.27918394e-02   3.29850759e-02   3.03036732e-03   3.92250123e-03\n",
      "    8.39466650e-01   1.11421716e-03   8.72364646e-04   4.14389562e-02\n",
      "    5.45226746e-02   1.39599315e-05]\n",
      " [  5.10315622e-04   1.12365131e-05   1.30565880e-01   9.48668135e-07\n",
      "    1.95517531e-02   4.67764386e-03   3.22774928e-02   5.78464375e-01\n",
      "    1.70526209e-02   2.78047664e-03   1.95034210e-01   2.02081701e-03\n",
      "    1.00335719e-03   1.60488725e-02]\n",
      " [  4.87866549e-05   1.61344228e-04   2.66457628e-04   1.65229512e-04\n",
      "    8.87159898e-01   2.21445385e-03   7.76295837e-03   1.68121470e-02\n",
      "    4.95237991e-02   3.48957574e-02   1.93808314e-04   7.08244885e-04\n",
      "    8.08826374e-05   6.23281543e-06]\n",
      " [  1.53714537e-04   2.95695878e-05   4.42139294e-02   4.88517839e-07\n",
      "    1.04707612e-02   7.41845746e-03   3.82456200e-02   5.42081998e-01\n",
      "    1.62342850e-02   7.20438769e-03   2.96050752e-01   4.06519768e-03\n",
      "    1.36160338e-03   3.24692357e-02]\n",
      " [  7.70342196e-04   1.00853502e-04   4.87048293e-05   5.79566493e-03\n",
      "    8.26632645e-01   1.48688151e-02   1.80509852e-02   6.91856104e-04\n",
      "    1.12141908e-01   1.73162310e-02   2.67146697e-05   3.12412510e-03\n",
      "    1.29344323e-04   3.01810691e-04]\n",
      " [  1.62470338e-04   3.91285082e-05   1.92474048e-05   3.41242014e-03\n",
      "    9.10154620e-01   2.67967104e-02   2.27536315e-02   1.48869504e-03\n",
      "    2.69759251e-02   6.89788921e-03   6.47584148e-05   4.77850892e-04\n",
      "    8.87962658e-05   6.67856542e-04]\n",
      " [  4.84823541e-05   4.96010121e-05   4.85906537e-03   5.55578957e-02\n",
      "    7.13909070e-01   4.63767534e-03   5.36926347e-04   2.46915881e-04\n",
      "    5.41374561e-03   2.13656872e-01   3.16279154e-05   6.75954341e-04\n",
      "    1.46944247e-04   2.29223050e-04]]\n",
      "0     4\n",
      "1     7\n",
      "2     8\n",
      "3    16\n",
      "4    17\n",
      "5    15\n",
      "6     4\n",
      "7     4\n",
      "8     4\n",
      "Name: DSMCRIT, dtype: int64\n"
     ]
    }
   ],
   "source": [
    "yp_char = logreg.predict_proba(X_char)\n",
    "print yp_char\n",
    "print Y_c"
   ]
  },
  {
   "cell_type": "code",
   "execution_count": 13,
   "metadata": {
    "collapsed": false
   },
   "outputs": [
    {
     "name": "stdout",
     "output_type": "stream",
     "text": [
      "[[  6.17309040e-04   1.32862105e-02   3.32028908e-03   8.61583413e-03\n",
      "    9.02599318e-01   2.53095823e-04   5.27687206e-03   2.55666289e-02\n",
      "    9.28412369e-03   2.74258461e-02   2.27368696e-03   1.41466608e-03\n",
      "    0.00000000e+00   6.61200171e-05]\n",
      " [  5.50901876e-03   2.89017341e-05   5.31847134e-04   0.00000000e+00\n",
      "    6.49768875e-03   7.87437034e-04   8.52256261e-03   5.08398525e-01\n",
      "    7.15432092e-02   4.44634516e-02   3.51782458e-01   1.55221992e-03\n",
      "    3.82679535e-04   0.00000000e+00]\n",
      " [  1.00000000e-02   0.00000000e+00   1.82284382e-02   5.00000000e-03\n",
      "    1.24808715e-01   2.78214057e-01   1.05048077e-02   1.50000000e-02\n",
      "    4.24851081e-01   2.66241112e-02   0.00000000e+00   4.12132353e-02\n",
      "    4.55555556e-02   0.00000000e+00]\n",
      " [  1.72306637e-03   2.02020202e-05   8.08009915e-03   0.00000000e+00\n",
      "    7.13567480e-02   6.37676418e-04   3.15345142e-02   6.40527506e-01\n",
      "    4.13241904e-02   2.02808985e-02   1.75776683e-01   1.65137002e-03\n",
      "    5.64941301e-03   1.43763271e-03]\n",
      " [  5.29714622e-03   2.02289794e-03   6.82226543e-03   7.52725627e-03\n",
      "    5.71546234e-01   1.26237956e-02   3.12250303e-02   1.06894232e-02\n",
      "    1.86925041e-01   1.56887967e-01   1.24430330e-03   6.95928727e-03\n",
      "    2.61780105e-05   2.03175042e-04]\n",
      " [  1.32503193e-04   1.72413793e-04   1.97053626e-02   8.24175824e-05\n",
      "    2.25061432e-02   3.89333916e-04   2.83522881e-02   5.72210322e-01\n",
      "    2.67893521e-02   4.84721973e-03   3.01464272e-01   9.96111546e-03\n",
      "    3.69780940e-05   1.33502783e-02]\n",
      " [  1.36055425e-04   7.00109205e-03   1.63398693e-04   2.57484113e-02\n",
      "    8.51152267e-01   1.01621758e-02   1.37040571e-03   6.96748686e-04\n",
      "    4.72287251e-02   4.84716788e-02   8.06451613e-05   7.78839651e-03\n",
      "    0.00000000e+00   0.00000000e+00]\n",
      " [  2.03843993e-03   5.32520469e-03   1.28205128e-04   3.38528096e-02\n",
      "    8.36215988e-01   2.34839620e-02   5.36662626e-03   6.24313715e-03\n",
      "    6.77978243e-03   7.03927041e-02   5.09401549e-03   7.91256158e-05\n",
      "    5.00000000e-03   0.00000000e+00]\n",
      " [  2.51825463e-03   6.24505628e-03   2.46473930e-02   7.47677561e-02\n",
      "    6.15023532e-01   6.26742160e-03   3.26923077e-04   8.96129513e-04\n",
      "    1.03515534e-02   2.57163698e-01   2.33808157e-04   1.55847330e-03\n",
      "    0.00000000e+00   0.00000000e+00]]\n"
     ]
    }
   ],
   "source": [
    "yp_char = random_forest.predict_proba(X_char)\n",
    "print yp_char"
   ]
  }
 ],
 "metadata": {
  "kernelspec": {
   "display_name": "Python 2",
   "language": "python",
   "name": "python2"
  },
  "language_info": {
   "codemirror_mode": {
    "name": "ipython",
    "version": 2
   },
   "file_extension": ".py",
   "mimetype": "text/x-python",
   "name": "python",
   "nbconvert_exporter": "python",
   "pygments_lexer": "ipython2",
   "version": "2.7.10"
  }
 },
 "nbformat": 4,
 "nbformat_minor": 2
}
