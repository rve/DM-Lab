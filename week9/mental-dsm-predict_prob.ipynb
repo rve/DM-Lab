{
 "cells": [
  {
   "cell_type": "code",
   "execution_count": 28,
   "metadata": {
    "collapsed": false
   },
   "outputs": [
    {
     "data": {
      "text/plain": [
       "((301619, 62), (148560, 62))"
      ]
     },
     "execution_count": 28,
     "metadata": {},
     "output_type": "execute_result"
    },
    {
     "name": "stdout",
     "output_type": "stream",
     "text": [
      "\n"
     ]
    }
   ],
   "source": [
    "#import matplotlib.pyplot as plt\n",
    "#import seaborn as sns\n",
    "\n",
    "\n",
    "import pandas as pd\n",
    "import numpy as np\n",
    "import random as rnd\n",
    "\n",
    "from sklearn.cross_validation import KFold, cross_val_score\n",
    "\n",
    "# machine learning\n",
    "from sklearn.linear_model import LogisticRegression\n",
    "from sklearn.svm import SVC, LinearSVC\n",
    "from sklearn.ensemble import RandomForestClassifier\n",
    "from sklearn.neighbors import KNeighborsClassifier\n",
    "from sklearn.naive_bayes import GaussianNB\n",
    "from sklearn.linear_model import Perceptron\n",
    "from sklearn.linear_model import SGDClassifier\n",
    "from sklearn.tree import DecisionTreeClassifier\n",
    "\n",
    "\n",
    "\n",
    "train_=pd.read_csv('../train_allcols.csv')\n",
    "validate_=pd.read_csv('../validate_allcols.csv')\n",
    "#test=pd.read_csv('../testwDSM.csv')\n",
    "\n",
    "characters = pd.read_csv('finalcharacters.csv', sep=',')\n",
    "\n",
    "train_.shape, validate_.shape, #test.shape"
   ]
  },
  {
   "cell_type": "code",
   "execution_count": 29,
   "metadata": {
    "collapsed": false
   },
   "outputs": [
    {
     "data": {
      "text/plain": [
       "(9, 63)"
      ]
     },
     "execution_count": 29,
     "metadata": {},
     "output_type": "execute_result"
    }
   ],
   "source": [
    "characters.shape\n"
   ]
  },
  {
   "cell_type": "code",
   "execution_count": 30,
   "metadata": {
    "collapsed": false
   },
   "outputs": [
    {
     "name": "stdout",
     "output_type": "stream",
     "text": [
      "(5740, 62)\n"
     ]
    }
   ],
   "source": [
    "train = train_.query('DSMCRIT > 13')\n",
    "validate = validate_.query('DSMCRIT > 13')\n",
    "#print train['DSMCRIT'].value_counts()\n",
    "print train.shape"
   ]
  },
  {
   "cell_type": "code",
   "execution_count": 31,
   "metadata": {
    "collapsed": false
   },
   "outputs": [],
   "source": [
    "#alcohol\n",
    "#print train['DSMCRIT'].value_counts() / train['DSMCRIT'].count()\n",
    "#print train['SUB1'].value_counts() / train['SUB1'].count()"
   ]
  },
  {
   "cell_type": "code",
   "execution_count": 32,
   "metadata": {
    "collapsed": false
   },
   "outputs": [],
   "source": [
    "#train.query('SUB1 == 4')['DSMCRIT'].value_counts() / train.query('SUB1 == 4')['DSMCRIT'].count()"
   ]
  },
  {
   "cell_type": "code",
   "execution_count": 33,
   "metadata": {
    "collapsed": false
   },
   "outputs": [
    {
     "data": {
      "text/plain": [
       "((5740, 62),)"
      ]
     },
     "execution_count": 33,
     "metadata": {},
     "output_type": "execute_result"
    }
   ],
   "source": [
    "#train.describe()\n",
    "#train = train.sample(20000)\n",
    "#validate = validate.sample(6000)\n",
    "train.shape, #validate.shape, #validate.head(2)"
   ]
  },
  {
   "cell_type": "code",
   "execution_count": 34,
   "metadata": {
    "collapsed": false
   },
   "outputs": [
    {
     "data": {
      "text/plain": [
       "((5740, 42),)"
      ]
     },
     "execution_count": 34,
     "metadata": {},
     "output_type": "execute_result"
    }
   ],
   "source": [
    "#train = train.query('SUB1 <= 10').query('SUB2 <= 10')\n",
    "#validate = validate.query('SUB1 <= 10').query('SUB2 <= 10')\n",
    "\n",
    "drop_list = ['DSMCRIT',  #'NUMSUBS'\n",
    "             ]\n",
    "drop_list_select = ['RACE', 'PREG', 'ARRESTS', 'PSYPROB', 'DETNLF', 'ETHNIC', 'MARSTAT', 'GENDER', 'EDUC'\n",
    "                   ,'LIVARAG', 'EMPLOY', 'SUB3']\n",
    "\n",
    "retain_list = ['RACE','PCPFLG','PRIMINC','LIVARAG','BENZFLG','HLTHINS','GENDER','ROUTE3','PRIMPAY',\n",
    "               'MARSTAT','PSYPROB','ROUTE2','EMPLOY','SUB2','FRSTUSE3','FREQ3','FRSTUSE2','OTHERFLG',\n",
    "               'EDUC','FREQ2','FREQ1','YEAR',\n",
    "               'PSOURCE','DETCRIM','DIVISION','REGION','NOPRIOR','NUMSUBS','ALCDRUG',\n",
    "               'METHUSE','FRSTUSE1','AGE','COKEFLG','OPSYNFLG','IDU','SERVSETA','ROUTE1','MARFLG',\n",
    "               'MTHAMFLG','HERFLG',\n",
    "               'ALCFLG','SUB1']\n",
    "X_train = train[retain_list]\n",
    "\n",
    "X_c = characters[retain_list]\n",
    "Y_c = characters[\"DSMCRIT\"]\n",
    "#X_train = train.drop(drop_list + drop_list_select, axis=1)\n",
    "Y_train = train[\"DSMCRIT\"]\n",
    "#X_validate = validate.drop(drop_list + drop_list_select, axis=1)\n",
    "#Y_validate = validate[\"DSMCRIT\"]\n",
    "#X_test  = test.drop(drop_list, axis=1)\n",
    "X_train.shape, #X_validate.shape, #X_test.shape\n",
    "\n"
   ]
  },
  {
   "cell_type": "code",
   "execution_count": 35,
   "metadata": {
    "collapsed": false
   },
   "outputs": [
    {
     "name": "stdout",
     "output_type": "stream",
     "text": [
      "(9, 42)\n"
     ]
    }
   ],
   "source": [
    "print X_c.shape"
   ]
  },
  {
   "cell_type": "code",
   "execution_count": 36,
   "metadata": {
    "collapsed": false
   },
   "outputs": [
    {
     "name": "stdout",
     "output_type": "stream",
     "text": [
      "['RACE', 'PCPFLG', 'PRIMINC', 'LIVARAG', 'BENZFLG', 'HLTHINS', 'GENDER', 'ROUTE3', 'PRIMPAY', 'MARSTAT', 'PSYPROB', 'ROUTE2', 'EMPLOY', 'SUB2', 'FRSTUSE3', 'FREQ3', 'FRSTUSE2', 'OTHERFLG', 'EDUC', 'FREQ2', 'FREQ1', 'YEAR', 'PSOURCE', 'DETCRIM', 'DIVISION', 'REGION', 'NOPRIOR', 'NUMSUBS', 'ALCDRUG', 'METHUSE', 'FRSTUSE1', 'AGE', 'COKEFLG', 'OPSYNFLG', 'IDU', 'SERVSETA', 'ROUTE1', 'MARFLG', 'MTHAMFLG', 'HERFLG', 'ALCFLG', 'SUB1']\n"
     ]
    }
   ],
   "source": [
    "print X_train.columns.tolist()"
   ]
  },
  {
   "cell_type": "code",
   "execution_count": 37,
   "metadata": {
    "collapsed": false
   },
   "outputs": [
    {
     "name": "stdout",
     "output_type": "stream",
     "text": [
      "F-score: 2.12t for feature PCPFLG\n",
      "F-score: 5.25t for feature METHUSE\n",
      "F-score: 8.96t for feature BENZFLG\n",
      "F-score: 10.83t for feature RACE\n",
      "F-score: 10.95t for feature OPSYNFLG\n",
      "F-score: 12.45t for feature PRIMINC\n",
      "F-score: 13.53t for feature FREQ1\n",
      "F-score: 14.59t for feature HLTHINS\n",
      "F-score: 16.23t for feature DETCRIM\n",
      "F-score: 17.49t for feature REGION\n",
      "F-score: 18.18t for feature ALCFLG\n",
      "F-score: 19.02t for feature HERFLG\n",
      "F-score: 19.18t for feature MARSTAT\n",
      "F-score: 19.62t for feature GENDER\n",
      "F-score: 19.90t for feature IDU\n",
      "F-score: 25.60t for feature FRSTUSE1\n",
      "F-score: 25.95t for feature DIVISION\n",
      "F-score: 26.38t for feature PSOURCE\n",
      "F-score: 26.78t for feature MARFLG\n",
      "F-score: 28.05t for feature PRIMPAY\n",
      "F-score: 29.44t for feature ROUTE3\n",
      "F-score: 32.26t for feature FREQ3\n",
      "F-score: 33.58t for feature LIVARAG\n",
      "F-score: 33.58t for feature SUB2\n",
      "F-score: 35.22t for feature EDUC\n",
      "F-score: 40.06t for feature COKEFLG\n",
      "F-score: 40.75t for feature ROUTE2\n",
      "F-score: 40.92t for feature FREQ2\n",
      "F-score: 53.20t for feature FRSTUSE3\n",
      "F-score: 55.58t for feature MTHAMFLG\n",
      "F-score: 59.96t for feature EMPLOY\n",
      "F-score: 71.58t for feature FRSTUSE2\n",
      "F-score: 72.81t for feature AGE\n",
      "F-score: 87.55t for feature ALCDRUG\n",
      "F-score: 89.38t for feature YEAR\n",
      "F-score: 93.75t for feature NOPRIOR\n",
      "F-score: 102.17t for feature SERVSETA\n",
      "F-score: 121.99t for feature NUMSUBS\n",
      "F-score: 133.48t for feature SUB1\n",
      "F-score: 190.58t for feature PSYPROB\n",
      "F-score: 208.82t for feature OTHERFLG\n",
      "F-score: 267.88t for feature ROUTE1\n"
     ]
    }
   ],
   "source": [
    "from sklearn.feature_selection import SelectKBest, SelectPercentile\n",
    "from sklearn.feature_selection import f_classif,chi2\n",
    "#Selector_f = SelectPercentile(f_classif, percentile=25)\n",
    "Selector_f = SelectKBest(f_classif, k=10)\n",
    "Selector_f.fit(X_train,Y_train)\n",
    "\n",
    "zipped = zip(X_train.columns.tolist(),Selector_f.scores_)\n",
    "ans = sorted(zipped, key=lambda x: x[1])\n",
    "for n,s in ans:\n",
    "     print 'F-score: %3.2ft for feature %s' % (s,n)\n",
    "        \n",
    "        \n",
    "#X_train= SelectKBest(f_classif, k=10).fit_transform(X_train, Y_train)\n"
   ]
  },
  {
   "cell_type": "code",
   "execution_count": 38,
   "metadata": {
    "collapsed": false
   },
   "outputs": [
    {
     "name": "stdout",
     "output_type": "stream",
     "text": [
      "(5740, 239) (9, 239)\n"
     ]
    }
   ],
   "source": [
    "#one hot\n",
    "from sklearn import preprocessing\n",
    "\n",
    "# 1. INSTANTIATE\n",
    "enc = preprocessing.OneHotEncoder()\n",
    "\n",
    "# 2. FIT\n",
    "enc.fit(X_train)\n",
    "\n",
    "# 3. Transform\n",
    "onehotlabels = enc.transform(X_train).toarray()\n",
    "X_train = onehotlabels\n",
    "\n",
    "#onehotlabels = enc.transform(X_validate).toarray()\n",
    "#X_validate = onehotlabels\n",
    "\n",
    "\n",
    "X_char = enc.transform(X_c).toarray()\n",
    "\n",
    "print X_train.shape, X_char.shape#X_validate.shape"
   ]
  },
  {
   "cell_type": "code",
   "execution_count": 39,
   "metadata": {
    "collapsed": true
   },
   "outputs": [],
   "source": [
    "#kfold\n",
    "kf = 3"
   ]
  },
  {
   "cell_type": "code",
   "execution_count": null,
   "metadata": {
    "collapsed": true
   },
   "outputs": [],
   "source": []
  },
  {
   "cell_type": "code",
   "execution_count": 40,
   "metadata": {
    "collapsed": false
   },
   "outputs": [
    {
     "name": "stdout",
     "output_type": "stream",
     "text": [
      "['0.620', '0.624', '0.618']\n",
      "0.621\n"
     ]
    }
   ],
   "source": [
    "# Logistic Regression\n",
    "logreg = LogisticRegression(n_jobs=-1)\n",
    "logreg.fit(X_train, Y_train)\n",
    "#Y_pred = logreg.predict(X_test)\n",
    "\n",
    "l_acc_log = cross_val_score(logreg, X_train, Y_train, cv=kf)\n",
    "acc_log = round(np.mean(l_acc_log), 3)\n",
    "\n",
    "l_acc_log = ['%.3f' % elem for elem in l_acc_log]\n",
    "print l_acc_log\n",
    "print acc_log"
   ]
  },
  {
   "cell_type": "code",
   "execution_count": 41,
   "metadata": {
    "collapsed": false
   },
   "outputs": [
    {
     "name": "stdout",
     "output_type": "stream",
     "text": [
      "['0.657', '0.657', '0.657']\n",
      "0.657\n"
     ]
    }
   ],
   "source": [
    "# Random Forest (slow)\n",
    "\n",
    "random_forest = RandomForestClassifier(n_estimators=200, max_depth=20, n_jobs=-1)\n",
    "random_forest.fit(X_train, Y_train)\n",
    "#Y_pred = random_forest.predict(X_test)\n",
    "\n",
    "l_acc_random_forest = cross_val_score(random_forest, X_train, Y_train, cv=kf)\n",
    "acc_random_forest = round(np.mean(l_acc_random_forest), 3)\n",
    "\n",
    "l_acc_random_forest = ['%.3f' % elem for elem in l_acc_random_forest]\n",
    "print l_acc_random_forest\n",
    "print acc_random_forest"
   ]
  },
  {
   "cell_type": "code",
   "execution_count": 45,
   "metadata": {
    "collapsed": false
   },
   "outputs": [
    {
     "name": "stdout",
     "output_type": "stream",
     "text": [
      "[[  9.82434939e-02   3.70747623e-01   5.02473722e-02   3.91889272e-01\n",
      "    4.76078312e-04   1.57868109e-02   7.26093490e-02]\n",
      " [  3.77598803e-03   6.66186459e-02   7.77493738e-03   1.07832607e-02\n",
      "    1.41351451e-02   5.59490675e-01   3.37421347e-01]\n",
      " [  1.26282619e-02   8.04990176e-01   3.02667634e-02   1.25179005e-01\n",
      "    4.16503163e-04   1.04077354e-02   1.61115549e-02]\n",
      " [  8.16579292e-02   1.49236934e-01   3.55709313e-02   8.09595060e-02\n",
      "    9.03592892e-03   1.33437643e-01   5.10101128e-01]\n",
      " [  1.59429576e-02   6.14593241e-02   8.57617101e-02   4.24774797e-01\n",
      "    3.79009710e-03   1.15654014e-01   2.92617100e-01]\n",
      " [  5.08670367e-02   6.61248683e-02   3.22523182e-02   2.35692161e-02\n",
      "    2.50786954e-03   3.12191156e-02   7.93459576e-01]\n",
      " [  2.59648499e-02   4.34502556e-01   6.97385410e-02   2.10588718e-01\n",
      "    1.41856332e-03   2.49221454e-01   8.56531851e-03]\n",
      " [  2.45586740e-02   5.96154338e-01   1.73267880e-02   1.45797227e-01\n",
      "    6.11117326e-03   1.85676617e-01   2.43751818e-02]\n",
      " [  2.10674285e-03   1.09941565e-01   1.28123719e-01   1.62211091e-02\n",
      "    2.45736360e-03   6.97515450e-01   4.36340508e-02]]\n",
      "0     4\n",
      "1     7\n",
      "2     8\n",
      "3    16\n",
      "4    17\n",
      "5    15\n",
      "6     4\n",
      "7     4\n",
      "8     4\n",
      "Name: DSMCRIT, dtype: int64\n"
     ]
    }
   ],
   "source": [
    "yp_char = logreg.predict_proba(X_char)\n",
    "print yp_char\n",
    "print Y_c"
   ]
  },
  {
   "cell_type": "code",
   "execution_count": 47,
   "metadata": {
    "collapsed": false
   },
   "outputs": [
    {
     "name": "stdout",
     "output_type": "stream",
     "text": [
      "['0.620', '0.624', '0.609']\n",
      "0.618\n"
     ]
    }
   ],
   "source": [
    "# Linear SVC\n",
    "linear_svc = LinearSVC(C=1.0)\n",
    "linear_svc.fit(X_train, Y_train)\n",
    "#Y_pred = linear_svc.predict(X_test)\n",
    "\n",
    "l_acc_linear_svc = cross_val_score(linear_svc, X_train, Y_train, cv=kf)\n",
    "acc_linear_svc = round(np.mean(l_acc_linear_svc), 3)\n",
    "l_acc_linear_svc = ['%.3f' % elem for elem in l_acc_linear_svc]\n",
    "print l_acc_linear_svc\n",
    "print acc_linear_svc"
   ]
  },
  {
   "cell_type": "code",
   "execution_count": 48,
   "metadata": {
    "collapsed": false
   },
   "outputs": [
    {
     "name": "stdout",
     "output_type": "stream",
     "text": [
      "['0.641', '0.633', '0.634']\n",
      "0.636\n"
     ]
    }
   ],
   "source": [
    "import xgboost as xgb\n",
    "xgb_boost = xgb.XGBClassifier(seed=1850, n_jobs=-1)\n",
    "xgb_boost.fit(X_train, Y_train) \n",
    "\n",
    "l_acc_linear_svc = cross_val_score(xgb_boost, X_train, Y_train, cv=kf)\n",
    "acc_linear_svc = round(np.mean(l_acc_linear_svc), 3)\n",
    "l_acc_linear_svc = ['%.3f' % elem for elem in l_acc_linear_svc]\n",
    "print l_acc_linear_svc\n",
    "print acc_linear_svc"
   ]
  },
  {
   "cell_type": "code",
   "execution_count": null,
   "metadata": {
    "collapsed": true
   },
   "outputs": [],
   "source": []
  },
  {
   "cell_type": "code",
   "execution_count": 49,
   "metadata": {
    "collapsed": false
   },
   "outputs": [
    {
     "name": "stdout",
     "output_type": "stream",
     "text": [
      "        Cross Validation  Cross Validation Mean                Model\n",
      "1  [0.657, 0.657, 0.657]                  0.657        Random Forest\n",
      "2  [0.641, 0.633, 0.634]                  0.636              XGBoost\n",
      "0  [0.620, 0.624, 0.618]                  0.621  Logistic Regression\n"
     ]
    }
   ],
   "source": [
    "#print 'predict-sub2-woflags-newsplit-sample20000'\n",
    "models = pd.DataFrame({\n",
    "    'Model': ['Logistic Regression', \n",
    "              'Random Forest','XGBoost'],\n",
    "    'Cross Validation': [l_acc_log, \n",
    "              l_acc_random_forest, l_acc_linear_svc],\n",
    "    'Cross Validation Mean': [acc_log, \n",
    "              acc_random_forest, acc_linear_svc]\n",
    "    })\n",
    "print models.sort_values(by='Cross Validation Mean', ascending=False)\n"
   ]
  }
 ],
 "metadata": {
  "kernelspec": {
   "display_name": "Python 2",
   "language": "python",
   "name": "python2"
  },
  "language_info": {
   "codemirror_mode": {
    "name": "ipython",
    "version": 2
   },
   "file_extension": ".py",
   "mimetype": "text/x-python",
   "name": "python",
   "nbconvert_exporter": "python",
   "pygments_lexer": "ipython2",
   "version": "2.7.10"
  }
 },
 "nbformat": 4,
 "nbformat_minor": 2
}
