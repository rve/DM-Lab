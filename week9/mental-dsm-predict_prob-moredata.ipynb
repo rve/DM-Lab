{
 "cells": [
  {
   "cell_type": "code",
   "execution_count": 1,
   "metadata": {
    "collapsed": false
   },
   "outputs": [
    {
     "name": "stderr",
     "output_type": "stream",
     "text": [
      "/Users/arc/Codes/DM-Lab/dmlab/lib/python2.7/site-packages/sklearn/cross_validation.py:41: DeprecationWarning: This module was deprecated in version 0.18 in favor of the model_selection module into which all the refactored classes and functions are moved. Also note that the interface of the new CV iterators are different from that of this module. This module will be removed in 0.20.\n",
      "  \"This module will be removed in 0.20.\", DeprecationWarning)\n"
     ]
    },
    {
     "data": {
      "text/plain": [
       "((301619, 62), (148560, 62))"
      ]
     },
     "execution_count": 1,
     "metadata": {},
     "output_type": "execute_result"
    }
   ],
   "source": [
    "#import matplotlib.pyplot as plt\n",
    "#import seaborn as sns\n",
    "\n",
    "\n",
    "import pandas as pd\n",
    "import numpy as np\n",
    "import random as rnd\n",
    "\n",
    "from sklearn.cross_validation import KFold, cross_val_score\n",
    "\n",
    "# machine learning\n",
    "from sklearn.linear_model import LogisticRegression\n",
    "from sklearn.svm import SVC, LinearSVC\n",
    "from sklearn.ensemble import RandomForestClassifier\n",
    "from sklearn.neighbors import KNeighborsClassifier\n",
    "from sklearn.naive_bayes import GaussianNB\n",
    "from sklearn.linear_model import Perceptron\n",
    "from sklearn.linear_model import SGDClassifier\n",
    "from sklearn.tree import DecisionTreeClassifier\n",
    "\n",
    "\n",
    "\n",
    "train_=pd.read_csv('../final.csv')\n",
    "validate_=pd.read_csv('../validate_allcols.csv')\n",
    "#test=pd.read_csv('../testwDSM.csv')\n",
    "\n",
    "characters = pd.read_csv('chars.csv', sep=',')\n",
    "\n",
    "train_.shape, validate_.shape, #test.shape"
   ]
  },
  {
   "cell_type": "code",
   "execution_count": 2,
   "metadata": {
    "collapsed": false
   },
   "outputs": [
    {
     "data": {
      "text/plain": [
       "(9, 63)"
      ]
     },
     "execution_count": 2,
     "metadata": {},
     "output_type": "execute_result"
    }
   ],
   "source": [
    "characters.shape\n"
   ]
  },
  {
   "cell_type": "code",
   "execution_count": 4,
   "metadata": {
    "collapsed": false
   },
   "outputs": [
    {
     "name": "stdout",
     "output_type": "stream",
     "text": [
      "(3131, 62)\n"
     ]
    }
   ],
   "source": [
    "train = train_.query('DSMCRIT > 13 and DSMCRIT < 20')\n",
    "validate = validate_.query('DSMCRIT > 13 and DSMCRIT < 20')\n",
    "#print train['DSMCRIT'].value_counts()\n",
    "print train.shape"
   ]
  },
  {
   "cell_type": "code",
   "execution_count": 5,
   "metadata": {
    "collapsed": false
   },
   "outputs": [],
   "source": [
    "#alcohol\n",
    "#print train['DSMCRIT'].value_counts() / train['DSMCRIT'].count()\n",
    "#print train['SUB1'].value_counts() / train['SUB1'].count()"
   ]
  },
  {
   "cell_type": "code",
   "execution_count": 6,
   "metadata": {
    "collapsed": false
   },
   "outputs": [],
   "source": [
    "#train.query('SUB1 == 4')['DSMCRIT'].value_counts() / train.query('SUB1 == 4')['DSMCRIT'].count()"
   ]
  },
  {
   "cell_type": "code",
   "execution_count": 7,
   "metadata": {
    "collapsed": false
   },
   "outputs": [
    {
     "data": {
      "text/plain": [
       "((3131, 62),)"
      ]
     },
     "execution_count": 7,
     "metadata": {},
     "output_type": "execute_result"
    }
   ],
   "source": [
    "#train.describe()\n",
    "#train = train.sample(20000)\n",
    "#validate = validate.sample(6000)\n",
    "train.shape, #validate.shape, #validate.head(2)"
   ]
  },
  {
   "cell_type": "code",
   "execution_count": 8,
   "metadata": {
    "collapsed": false
   },
   "outputs": [
    {
     "data": {
      "text/plain": [
       "((3131, 42),)"
      ]
     },
     "execution_count": 8,
     "metadata": {},
     "output_type": "execute_result"
    }
   ],
   "source": [
    "#train = train.query('SUB1 <= 10').query('SUB2 <= 10')\n",
    "#validate = validate.query('SUB1 <= 10').query('SUB2 <= 10')\n",
    "\n",
    "drop_list = ['DSMCRIT',  #'NUMSUBS'\n",
    "             ]\n",
    "drop_list_select = ['RACE', 'PREG', 'ARRESTS', 'PSYPROB', 'DETNLF', 'ETHNIC', 'MARSTAT', 'GENDER', 'EDUC'\n",
    "                   ,'LIVARAG', 'EMPLOY', 'SUB3']\n",
    "\n",
    "retain_list = ['RACE','PCPFLG','PRIMINC','LIVARAG','BENZFLG','HLTHINS','GENDER','ROUTE3','PRIMPAY',\n",
    "               'MARSTAT','PSYPROB','ROUTE2','EMPLOY','SUB2','FRSTUSE3','FREQ3','FRSTUSE2','OTHERFLG',\n",
    "               'EDUC','FREQ2','FREQ1','YEAR',\n",
    "               'PSOURCE','DETCRIM','DIVISION','REGION','NOPRIOR','NUMSUBS','ALCDRUG',\n",
    "               'METHUSE','FRSTUSE1','AGE','COKEFLG','OPSYNFLG','IDU','SERVSETA','ROUTE1','MARFLG',\n",
    "               'MTHAMFLG','HERFLG',\n",
    "               'ALCFLG','SUB1']\n",
    "X_train = train[retain_list]\n",
    "\n",
    "X_c = characters[retain_list]\n",
    "Y_c = characters[\"DSMCRIT\"]\n",
    "#X_train = train.drop(drop_list + drop_list_select, axis=1)\n",
    "Y_train = train[\"DSMCRIT\"]\n",
    "#X_validate = validate.drop(drop_list + drop_list_select, axis=1)\n",
    "#Y_validate = validate[\"DSMCRIT\"]\n",
    "#X_test  = test.drop(drop_list, axis=1)\n",
    "X_train.shape, #X_validate.shape, #X_test.shape\n",
    "\n"
   ]
  },
  {
   "cell_type": "code",
   "execution_count": 9,
   "metadata": {
    "collapsed": false
   },
   "outputs": [
    {
     "name": "stdout",
     "output_type": "stream",
     "text": [
      "(9, 42)\n"
     ]
    }
   ],
   "source": [
    "print X_c.shape"
   ]
  },
  {
   "cell_type": "code",
   "execution_count": 10,
   "metadata": {
    "collapsed": false
   },
   "outputs": [
    {
     "name": "stdout",
     "output_type": "stream",
     "text": [
      "['RACE', 'PCPFLG', 'PRIMINC', 'LIVARAG', 'BENZFLG', 'HLTHINS', 'GENDER', 'ROUTE3', 'PRIMPAY', 'MARSTAT', 'PSYPROB', 'ROUTE2', 'EMPLOY', 'SUB2', 'FRSTUSE3', 'FREQ3', 'FRSTUSE2', 'OTHERFLG', 'EDUC', 'FREQ2', 'FREQ1', 'YEAR', 'PSOURCE', 'DETCRIM', 'DIVISION', 'REGION', 'NOPRIOR', 'NUMSUBS', 'ALCDRUG', 'METHUSE', 'FRSTUSE1', 'AGE', 'COKEFLG', 'OPSYNFLG', 'IDU', 'SERVSETA', 'ROUTE1', 'MARFLG', 'MTHAMFLG', 'HERFLG', 'ALCFLG', 'SUB1']\n"
     ]
    }
   ],
   "source": [
    "print X_train.columns.tolist()"
   ]
  },
  {
   "cell_type": "code",
   "execution_count": 11,
   "metadata": {
    "collapsed": false
   },
   "outputs": [
    {
     "name": "stdout",
     "output_type": "stream",
     "text": [
      "F-score: 2.53t for feature PCPFLG\n",
      "F-score: 3.89t for feature PSOURCE\n",
      "F-score: 5.77t for feature FREQ1\n",
      "F-score: 6.16t for feature SUB2\n",
      "F-score: 6.66t for feature METHUSE\n",
      "F-score: 9.42t for feature OPSYNFLG\n",
      "F-score: 9.57t for feature BENZFLG\n",
      "F-score: 9.63t for feature YEAR\n",
      "F-score: 9.73t for feature HERFLG\n",
      "F-score: 10.22t for feature FREQ2\n",
      "F-score: 12.84t for feature ROUTE2\n",
      "F-score: 14.31t for feature ROUTE3\n",
      "F-score: 14.41t for feature RACE\n",
      "F-score: 14.58t for feature FREQ3\n",
      "F-score: 14.65t for feature PRIMINC\n",
      "F-score: 15.44t for feature IDU\n",
      "F-score: 16.21t for feature MARSTAT\n",
      "F-score: 16.45t for feature REGION\n",
      "F-score: 17.43t for feature DETCRIM\n",
      "F-score: 18.15t for feature HLTHINS\n",
      "F-score: 19.06t for feature SERVSETA\n",
      "F-score: 21.26t for feature ALCFLG\n",
      "F-score: 21.36t for feature GENDER\n",
      "F-score: 22.36t for feature MARFLG\n",
      "F-score: 22.45t for feature FRSTUSE3\n",
      "F-score: 23.28t for feature ALCDRUG\n",
      "F-score: 24.55t for feature FRSTUSE2\n",
      "F-score: 25.54t for feature FRSTUSE1\n",
      "F-score: 25.74t for feature LIVARAG\n",
      "F-score: 27.30t for feature DIVISION\n",
      "F-score: 28.52t for feature COKEFLG\n",
      "F-score: 30.00t for feature MTHAMFLG\n",
      "F-score: 30.18t for feature PSYPROB\n",
      "F-score: 32.13t for feature EDUC\n",
      "F-score: 33.97t for feature PRIMPAY\n",
      "F-score: 56.65t for feature NUMSUBS\n",
      "F-score: 57.07t for feature EMPLOY\n",
      "F-score: 57.63t for feature NOPRIOR\n",
      "F-score: 60.49t for feature AGE\n",
      "F-score: 90.70t for feature SUB1\n",
      "F-score: 148.53t for feature OTHERFLG\n",
      "F-score: 160.13t for feature ROUTE1\n"
     ]
    }
   ],
   "source": [
    "from sklearn.feature_selection import SelectKBest, SelectPercentile\n",
    "from sklearn.feature_selection import f_classif,chi2\n",
    "#Selector_f = SelectPercentile(f_classif, percentile=25)\n",
    "Selector_f = SelectKBest(f_classif, k=10)\n",
    "Selector_f.fit(X_train,Y_train)\n",
    "\n",
    "zipped = zip(X_train.columns.tolist(),Selector_f.scores_)\n",
    "ans = sorted(zipped, key=lambda x: x[1])\n",
    "for n,s in ans:\n",
    "     print 'F-score: %3.2ft for feature %s' % (s,n)\n",
    "        \n",
    "        \n",
    "#X_train= SelectKBest(f_classif, k=10).fit_transform(X_train, Y_train)\n"
   ]
  },
  {
   "cell_type": "code",
   "execution_count": 12,
   "metadata": {
    "collapsed": false
   },
   "outputs": [
    {
     "name": "stdout",
     "output_type": "stream",
     "text": [
      "(3131, 236) (9, 236)\n"
     ]
    }
   ],
   "source": [
    "#one hot\n",
    "from sklearn import preprocessing\n",
    "\n",
    "# 1. INSTANTIATE\n",
    "enc = preprocessing.OneHotEncoder()\n",
    "\n",
    "# 2. FIT\n",
    "enc.fit(X_train)\n",
    "\n",
    "# 3. Transform\n",
    "onehotlabels = enc.transform(X_train).toarray()\n",
    "X_train = onehotlabels\n",
    "\n",
    "#onehotlabels = enc.transform(X_validate).toarray()\n",
    "#X_validate = onehotlabels\n",
    "\n",
    "\n",
    "X_char = enc.transform(X_c).toarray()\n",
    "\n",
    "print X_train.shape, X_char.shape#X_validate.shape"
   ]
  },
  {
   "cell_type": "code",
   "execution_count": 13,
   "metadata": {
    "collapsed": true
   },
   "outputs": [],
   "source": [
    "#kfold\n",
    "kf = 3"
   ]
  },
  {
   "cell_type": "code",
   "execution_count": null,
   "metadata": {
    "collapsed": true
   },
   "outputs": [],
   "source": []
  },
  {
   "cell_type": "code",
   "execution_count": 14,
   "metadata": {
    "collapsed": false
   },
   "outputs": [
    {
     "name": "stderr",
     "output_type": "stream",
     "text": [
      "/Users/arc/Codes/DM-Lab/dmlab/lib/python2.7/site-packages/sklearn/linear_model/logistic.py:1228: UserWarning: 'n_jobs' > 1 does not have any effect when 'solver' is set to 'liblinear'. Got 'n_jobs' = -1.\n",
      "  \" = {}.\".format(self.n_jobs))\n"
     ]
    },
    {
     "name": "stdout",
     "output_type": "stream",
     "text": [
      "['0.444', '0.470', '0.469']\n",
      "0.461\n"
     ]
    }
   ],
   "source": [
    "# Logistic Regression\n",
    "logreg = LogisticRegression(n_jobs=-1)\n",
    "logreg.fit(X_train, Y_train)\n",
    "#Y_pred = logreg.predict(X_test)\n",
    "\n",
    "l_acc_log = cross_val_score(logreg, X_train, Y_train, cv=kf)\n",
    "acc_log = round(np.mean(l_acc_log), 3)\n",
    "\n",
    "l_acc_log = ['%.3f' % elem for elem in l_acc_log]\n",
    "print l_acc_log\n",
    "print acc_log"
   ]
  },
  {
   "cell_type": "code",
   "execution_count": 22,
   "metadata": {
    "collapsed": false
   },
   "outputs": [
    {
     "name": "stdout",
     "output_type": "stream",
     "text": [
      "[[  1.11497393e-01   3.44899754e-01   5.63947662e-02   4.74058564e-01\n",
      "    2.20625146e-04   1.29288973e-02]\n",
      " [  9.51721945e-03   1.55317058e-01   1.57720953e-02   2.23074862e-02\n",
      "    7.94390173e-02   7.17647124e-01]\n",
      " [  1.69772242e-02   8.22606606e-01   2.27405509e-02   1.33518134e-01\n",
      "    4.38697271e-04   3.71878725e-03]\n",
      " [  1.73981752e-01   3.50556723e-01   7.04990871e-02   1.59012384e-01\n",
      "    2.36240034e-02   2.22326051e-01]\n",
      " [  2.85981447e-02   9.06358954e-02   1.40012108e-01   6.36032589e-01\n",
      "    4.00034563e-03   1.00720917e-01]\n",
      " [  2.19449452e-01   3.02814671e-01   1.26910573e-01   1.06201794e-01\n",
      "    1.02496755e-02   2.34373834e-01]\n",
      " [  2.55422163e-02   4.73246339e-01   8.87420907e-02   2.35579856e-01\n",
      "    1.35415386e-03   1.75535344e-01]\n",
      " [  1.98986312e-02   6.73535283e-01   1.92076866e-02   1.28788862e-01\n",
      "    2.39269813e-03   1.56176839e-01]\n",
      " [  3.01008717e-03   1.50552538e-01   9.35979738e-02   1.11376845e-02\n",
      "    6.87801732e-03   7.34823699e-01]]\n"
     ]
    }
   ],
   "source": [
    "yp_char = logreg.predict_proba(X_char)\n",
    "print yp_char\n",
    "#print Y_c"
   ]
  },
  {
   "cell_type": "code",
   "execution_count": 15,
   "metadata": {
    "collapsed": false
   },
   "outputs": [
    {
     "name": "stdout",
     "output_type": "stream",
     "text": [
      "['0.508', '0.491', '0.505']\n",
      "0.501\n"
     ]
    }
   ],
   "source": [
    "# Random Forest (slow)\n",
    "\n",
    "random_forest = RandomForestClassifier(n_estimators=200, max_depth=20, n_jobs=-1)\n",
    "random_forest.fit(X_train, Y_train)\n",
    "#Y_pred = random_forest.predict(X_test)\n",
    "\n",
    "l_acc_random_forest = cross_val_score(random_forest, X_train, Y_train, cv=kf)\n",
    "acc_random_forest = round(np.mean(l_acc_random_forest), 3)\n",
    "\n",
    "l_acc_random_forest = ['%.3f' % elem for elem in l_acc_random_forest]\n",
    "print l_acc_random_forest\n",
    "print acc_random_forest"
   ]
  },
  {
   "cell_type": "code",
   "execution_count": 21,
   "metadata": {
    "collapsed": false
   },
   "outputs": [
    {
     "name": "stdout",
     "output_type": "stream",
     "text": [
      "[[ 0.14530757  0.3240883   0.05048409  0.41144511  0.00765768  0.06101726]\n",
      " [ 0.11286252  0.2285624   0.13814668  0.15867911  0.12126695  0.24048234]\n",
      " [ 0.07164716  0.46387738  0.16199469  0.2158646   0.02054503  0.06607113]\n",
      " [ 0.20276941  0.2455401   0.07586308  0.33659791  0.00823168  0.13099783]\n",
      " [ 0.07552632  0.16587149  0.24046533  0.43202575  0.025       0.06111111]\n",
      " [ 0.23775227  0.30754384  0.05690268  0.28421643  0.0225303   0.09105449]\n",
      " [ 0.14687374  0.31478455  0.1132663   0.27888247  0.02062437  0.12556856]\n",
      " [ 0.09517551  0.45206847  0.10951594  0.19380366  0.02292808  0.12650834]\n",
      " [ 0.08469188  0.29368347  0.14868347  0.10558824  0.04        0.32735294]]\n"
     ]
    }
   ],
   "source": [
    "yp_char = random_forest.predict_proba(X_char)\n",
    "print yp_char\n",
    "#print Y_c"
   ]
  }
 ],
 "metadata": {
  "kernelspec": {
   "display_name": "Python 2",
   "language": "python",
   "name": "python2"
  },
  "language_info": {
   "codemirror_mode": {
    "name": "ipython",
    "version": 2
   },
   "file_extension": ".py",
   "mimetype": "text/x-python",
   "name": "python",
   "nbconvert_exporter": "python",
   "pygments_lexer": "ipython2",
   "version": "2.7.10"
  }
 },
 "nbformat": 4,
 "nbformat_minor": 2
}
