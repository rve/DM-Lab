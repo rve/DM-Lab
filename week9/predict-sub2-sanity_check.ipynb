{
 "cells": [
  {
   "cell_type": "code",
   "execution_count": 1,
   "metadata": {
    "collapsed": false
   },
   "outputs": [
    {
     "data": {
      "text/plain": [
       "((301619, 62), (148560, 62))"
      ]
     },
     "execution_count": 1,
     "metadata": {},
     "output_type": "execute_result"
    }
   ],
   "source": [
    "#visualization part\n",
    "#import matplotlib.pyplot as plt\n",
    "#import seaborn as sn\n",
    "#basic libs\n",
    "import pandas as pd\n",
    "import numpy as np\n",
    "import random as rnd\n",
    "\n",
    "from sklearn.model_selection import cross_val_score\n",
    "\n",
    "#one hot\n",
    "from sklearn import preprocessing\n",
    "# machine learning\n",
    "from sklearn.linear_model import LogisticRegression\n",
    "from sklearn.svm import SVC, LinearSVC\n",
    "from sklearn.ensemble import RandomForestClassifier\n",
    "from sklearn.neighbors import KNeighborsClassifier\n",
    "from sklearn.naive_bayes import GaussianNB\n",
    "from sklearn.linear_model import Perceptron\n",
    "from sklearn.linear_model import SGDClassifier\n",
    "from sklearn.tree import DecisionTreeClassifier\n",
    "\n",
    "train_=pd.read_csv('../train_allcols.csv')\n",
    "validate_=pd.read_csv('../validate_allcols.csv')\n",
    "#test=pd.read_csv('../testwDSM.csv')\n",
    "\n",
    "train_.shape, validate_.shape, #test.shape"
   ]
  },
  {
   "cell_type": "code",
   "execution_count": 2,
   "metadata": {
    "collapsed": false
   },
   "outputs": [
    {
     "data": {
      "text/plain": [
       "((40000, 62),)"
      ]
     },
     "execution_count": 2,
     "metadata": {},
     "output_type": "execute_result"
    }
   ],
   "source": [
    "#train.describe()\n",
    "train = train_.sample(40000)\n",
    "validate = validate_.sample(20000)\n",
    "train.shape, #validate_.shape, validate.head(2)"
   ]
  },
  {
   "cell_type": "code",
   "execution_count": 3,
   "metadata": {
    "collapsed": false
   },
   "outputs": [
    {
     "name": "stdout",
     "output_type": "stream",
     "text": [
      "(19225, 62) (9468, 62)\n",
      "4     6859\n",
      "2     5667\n",
      "3     3157\n",
      "7     1559\n",
      "10    1431\n",
      "5      552\n",
      "Name: SUB2, dtype: int64\n"
     ]
    }
   ],
   "source": [
    "train = train.query('SUB2 != 1')\n",
    "validate = validate.query('SUB2 != 1')\n",
    "\n",
    "train = train[train.SUB2.isin([1,2,3,4,5,7,10])]\n",
    "validate = validate[validate.SUB2.isin([1,2,3,4,5,7,10])]\n",
    "#train = train[train.SUB1.isin([2,3,4,5,7,10])]\n",
    "#validate = validate[validate.SUB1.isin([2,3,4,5,7,10])]\n",
    "\n",
    "print train.shape, validate.shape\n",
    "print train['SUB2'].value_counts()"
   ]
  },
  {
   "cell_type": "code",
   "execution_count": 4,
   "metadata": {
    "collapsed": false
   },
   "outputs": [],
   "source": [
    "# for sub2\n",
    "\n",
    "X_train = train.drop(['SUB2'], axis=1)\n",
    "Y_train = train[\"SUB2\"]\n"
   ]
  },
  {
   "cell_type": "code",
   "execution_count": 9,
   "metadata": {
    "collapsed": false
   },
   "outputs": [],
   "source": [
    "\n",
    "\n",
    "retain_list = ['EMPLOY','GENDER','FREQ1','EDUC','PSYPROB','PSOURCE','SERVSETA','DETCRIM',\n",
    "               'NOPRIOR','DSMCRIT','ROUTE1','SUB1','AGE','IDU',\n",
    "               'YEAR','REGION','DIVISION',\n",
    "               'SUB3','ROUTE3','FREQ3','FRSTUSE3','FREQ2','FRSTUSE2',\n",
    "               ]\n",
    "            \n",
    "\n",
    "\n",
    "#print X_train.columns.tolist()"
   ]
  },
  {
   "cell_type": "code",
   "execution_count": 13,
   "metadata": {
    "collapsed": false
   },
   "outputs": [
    {
     "name": "stdout",
     "output_type": "stream",
     "text": [
      "drop FEATURE 'EMPLOY': 98.10\n"
     ]
    },
    {
     "ename": "NameError",
     "evalue": "name 'df2' is not defined",
     "output_type": "error",
     "traceback": [
      "\u001b[0;31m---------------------------------------------------------------------------\u001b[0m",
      "\u001b[0;31mNameError\u001b[0m                                 Traceback (most recent call last)",
      "\u001b[0;32m<ipython-input-13-c60af32577a6>\u001b[0m in \u001b[0;36m<module>\u001b[0;34m()\u001b[0m\n\u001b[1;32m      8\u001b[0m \u001b[0mdf\u001b[0m \u001b[0;34m=\u001b[0m \u001b[0mpd\u001b[0m\u001b[0;34m.\u001b[0m\u001b[0mDataFrame\u001b[0m\u001b[0;34m(\u001b[0m\u001b[0;34m[\u001b[0m\u001b[0;34m]\u001b[0m\u001b[0;34m,\u001b[0m \u001b[0mcolumns\u001b[0m\u001b[0;34m=\u001b[0m\u001b[0;34m[\u001b[0m\u001b[0;34m'FEATURES'\u001b[0m\u001b[0;34m,\u001b[0m \u001b[0;34m'ACCURACY'\u001b[0m\u001b[0;34m]\u001b[0m\u001b[0;34m)\u001b[0m\u001b[0;34m\u001b[0m\u001b[0m\n\u001b[1;32m      9\u001b[0m \u001b[0mdf\u001b[0m \u001b[0;34m=\u001b[0m \u001b[0mpd\u001b[0m\u001b[0;34m.\u001b[0m\u001b[0mDataFrame\u001b[0m\u001b[0;34m(\u001b[0m\u001b[0;34m[\u001b[0m\u001b[0;34m[\u001b[0m\u001b[0;34m'drop 1'\u001b[0m\u001b[0;34m,\u001b[0m \u001b[0;36m58.0\u001b[0m\u001b[0;34m]\u001b[0m\u001b[0;34m]\u001b[0m\u001b[0;34m,\u001b[0m \u001b[0mcolumns\u001b[0m\u001b[0;34m=\u001b[0m\u001b[0;34m[\u001b[0m\u001b[0;34m'FEATURES'\u001b[0m\u001b[0;34m,\u001b[0m \u001b[0;34m'ACCURACY'\u001b[0m\u001b[0;34m]\u001b[0m\u001b[0;34m)\u001b[0m\u001b[0;34m\u001b[0m\u001b[0m\n\u001b[0;32m---> 10\u001b[0;31m \u001b[0mdf\u001b[0m\u001b[0;34m.\u001b[0m\u001b[0mappend\u001b[0m\u001b[0;34m(\u001b[0m\u001b[0mdf2\u001b[0m\u001b[0;34m)\u001b[0m\u001b[0;34m\u001b[0m\u001b[0m\n\u001b[0m",
      "\u001b[0;31mNameError\u001b[0m: name 'df2' is not defined"
     ]
    }
   ],
   "source": [
    "new_list = [i  for i in retain_list if i != 'EMPLOY']\n",
    "#print new_list \n",
    "item = 'EMPLOY'\n",
    "acc = 98.1\n",
    "print 'drop FEATURE \\'%s\\': %.2f' % (item, acc)\n",
    "\n",
    "\n",
    "df = pd.DataFrame([], columns=['FEATURES', 'ACCURACY'])\n",
    "df2 = pd.DataFrame([['drop 1', 58.0]], columns=['FEATURES', 'ACCURACY'])\n",
    "df.append(df2)"
   ]
  },
  {
   "cell_type": "code",
   "execution_count": 11,
   "metadata": {
    "collapsed": false
   },
   "outputs": [
    {
     "name": "stdout",
     "output_type": "stream",
     "text": [
      "drop FEATURE 'EMPLOY': 69.85\n",
      "drop FEATURE 'GENDER': 69.88\n",
      "drop FEATURE 'FREQ1': 69.85\n",
      "drop FEATURE 'EDUC': 69.69\n",
      "drop FEATURE 'PSYPROB': 69.78\n",
      "drop FEATURE 'PSOURCE': 69.55\n",
      "drop FEATURE 'SERVSETA': 69.62\n",
      "drop FEATURE 'DETCRIM': 69.86\n",
      "drop FEATURE 'NOPRIOR': 69.59\n",
      "drop FEATURE 'DSMCRIT': 69.37\n",
      "drop FEATURE 'ROUTE1': 69.60\n",
      "drop FEATURE 'SUB1': 65.14\n",
      "drop FEATURE 'AGE': 68.73\n",
      "drop FEATURE 'IDU': 69.11\n",
      "drop FEATURE 'YEAR': 69.79\n",
      "drop FEATURE 'REGION': 69.93\n",
      "drop FEATURE 'DIVISION': 69.25\n",
      "drop FEATURE 'SUB3': 68.18\n",
      "drop FEATURE 'ROUTE3': 69.81\n",
      "drop FEATURE 'FREQ3': 69.84\n",
      "drop FEATURE 'FRSTUSE3': 69.78\n",
      "drop FEATURE 'FREQ2': 69.77\n",
      "drop FEATURE 'FRSTUSE2': 65.69\n"
     ]
    }
   ],
   "source": [
    "for item in retain_list:\n",
    "    new_list = [i  for i in retain_list if i != item]\n",
    "    #print item\n",
    "    #print new_list\n",
    "\n",
    "    X_train = train[new_list]\n",
    "    Y_train = train[\"SUB2\"]\n",
    "    X_validate = validate[new_list]\n",
    "    Y_validate = validate[\"SUB2\"]\n",
    "    X_train.shape, X_validate.shape, #X_test.shape\n",
    "    #one hot\n",
    "    # 1. INSTANTIATE\n",
    "    enc = preprocessing.OneHotEncoder()\n",
    "    # 2. FIT\n",
    "    enc.fit(X_train)\n",
    "    # 3. Transform\n",
    "    onehotlabels = enc.transform(X_train).toarray()\n",
    "    #onehotlabels.shape\n",
    "    X_train = onehotlabels\n",
    "    onehotlabels = enc.transform(X_validate).toarray()\n",
    "    X_validate = onehotlabels\n",
    "\n",
    "    # Logistic Regression\n",
    "    logreg = LogisticRegression(C=1)\n",
    "    logreg.fit(X_train, Y_train)\n",
    "    #Y_pred = logreg.predict(X_test)\n",
    "    acc_log = round(logreg.score(X_validate, Y_validate) * 100, 2)\n",
    "    print 'drop FEATURE \\'%s\\': %.2f' % (item, acc_log)"
   ]
  },
  {
   "cell_type": "code",
   "execution_count": null,
   "metadata": {
    "collapsed": true
   },
   "outputs": [],
   "source": []
  }
 ],
 "metadata": {
  "kernelspec": {
   "display_name": "Python 2",
   "language": "python",
   "name": "python2"
  },
  "language_info": {
   "codemirror_mode": {
    "name": "ipython",
    "version": 2
   },
   "file_extension": ".py",
   "mimetype": "text/x-python",
   "name": "python",
   "nbconvert_exporter": "python",
   "pygments_lexer": "ipython2",
   "version": "2.7.10"
  }
 },
 "nbformat": 4,
 "nbformat_minor": 2
}
